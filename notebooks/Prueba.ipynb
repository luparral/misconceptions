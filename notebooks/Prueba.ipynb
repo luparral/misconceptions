{
 "cells": [
  {
   "cell_type": "code",
   "execution_count": 1,
   "id": "73fb537b",
   "metadata": {},
   "outputs": [],
   "source": [
    "import pandas as pd\n",
    "import numpy as np\n",
    "import matplotlib.pyplot as plt\n",
    "import seaborn as sns\n",
    "sns.set_style('whitegrid')\n",
    "sns.set_palette(\"Set2\")\n",
    "\n",
    "%matplotlib inline"
   ]
  },
  {
   "cell_type": "code",
   "execution_count": null,
   "id": "bf2d80db",
   "metadata": {},
   "outputs": [],
   "source": []
  },
  {
   "cell_type": "code",
   "execution_count": null,
   "id": "5a4d675e",
   "metadata": {},
   "outputs": [],
   "source": []
  },
  {
   "cell_type": "code",
   "execution_count": 2,
   "id": "f6648a8f",
   "metadata": {},
   "outputs": [
    {
     "data": {
      "text/plain": [
       "(144, 17)"
      ]
     },
     "execution_count": 2,
     "metadata": {},
     "output_type": "execute_result"
    }
   ],
   "source": [
    "df = pd.read_csv(\"../data/respuestas.csv\")\n",
    "df.shape"
   ]
  },
  {
   "cell_type": "code",
   "execution_count": 3,
   "id": "393518c8",
   "metadata": {},
   "outputs": [
    {
     "data": {
      "text/html": [
       "<div>\n",
       "<style scoped>\n",
       "    .dataframe tbody tr th:only-of-type {\n",
       "        vertical-align: middle;\n",
       "    }\n",
       "\n",
       "    .dataframe tbody tr th {\n",
       "        vertical-align: top;\n",
       "    }\n",
       "\n",
       "    .dataframe thead th {\n",
       "        text-align: right;\n",
       "    }\n",
       "</style>\n",
       "<table border=\"1\" class=\"dataframe\">\n",
       "  <thead>\n",
       "    <tr style=\"text-align: right;\">\n",
       "      <th></th>\n",
       "      <th>index</th>\n",
       "      <th>q_mandar_fotos</th>\n",
       "    </tr>\n",
       "  </thead>\n",
       "  <tbody>\n",
       "    <tr>\n",
       "      <th>0</th>\n",
       "      <td>a_mandar_fotos_copia</td>\n",
       "      <td>65</td>\n",
       "    </tr>\n",
       "    <tr>\n",
       "      <th>1</th>\n",
       "      <td>a_mandar_fotos_enwa</td>\n",
       "      <td>53</td>\n",
       "    </tr>\n",
       "    <tr>\n",
       "      <th>2</th>\n",
       "      <td>a_mandar_fotos_nose</td>\n",
       "      <td>18</td>\n",
       "    </tr>\n",
       "    <tr>\n",
       "      <th>3</th>\n",
       "      <td>a_mandar_fotos_laveenmicelu</td>\n",
       "      <td>8</td>\n",
       "    </tr>\n",
       "  </tbody>\n",
       "</table>\n",
       "</div>"
      ],
      "text/plain": [
       "                         index  q_mandar_fotos\n",
       "0         a_mandar_fotos_copia              65\n",
       "1          a_mandar_fotos_enwa              53\n",
       "2          a_mandar_fotos_nose              18\n",
       "3  a_mandar_fotos_laveenmicelu               8"
      ]
     },
     "execution_count": 3,
     "metadata": {},
     "output_type": "execute_result"
    }
   ],
   "source": [
    "# Cuando le mando a una amiga una foto por WhatsApp...\n",
    "positions = (0, 1, 2, 3)\n",
    "labels = (\"Le mando una copia\", \\\n",
    "          \"La foto ahora existe en el chat,\\n pero no la tiene en su celular\", \\\n",
    "          \"No sé\", \\\n",
    "          \"Le doy permiso para ver la foto\\n que tengo guardada en mi celular.\")\n",
    "\n",
    "df_mandar_fotos = df[\"q_mandar_fotos\"].value_counts().reset_index()\n",
    "df_mandar_fotos\n",
    "\n",
    "#plt.title(\"Cuando le mando a una amiga una foto por WhatsApp...\")\n",
    "#plt.xticks(positions, labels);"
   ]
  },
  {
   "cell_type": "code",
   "execution_count": 4,
   "id": "81bd85e8",
   "metadata": {},
   "outputs": [
    {
     "data": {
      "image/png": "[encoded data removed]",
      "text/plain": [
       "<Figure size 432x288 with 1 Axes>"
      ]
     },
     "metadata": {
      "needs_background": "light"
     },
     "output_type": "display_data"
    }
   ],
   "source": [
    "positions = (0, 1)\n",
    "\n",
    "labels = (\"Tengo que borrar \\nla foto en el chat.\", \\\n",
    "          \"No puedo hacer nada,\\n mi amiga ahora también\\n tiene la foto.\", \\\n",
    "          \"No sé\", \\\n",
    "          \"Tengo que borrar la \\nfoto en la Galería\")\n",
    "\n",
    "ax= df_mandar_fotos.plot(kind='bar', colormap='Pastel2');\n",
    "ax.set_xticklabels(labels, rotation=45);\n"
   ]
  },
  {
   "cell_type": "code",
   "execution_count": null,
   "id": "28174e87",
   "metadata": {},
   "outputs": [],
   "source": []
  },
  {
   "cell_type": "code",
   "execution_count": 5,
   "id": "84690e92",
   "metadata": {},
   "outputs": [
    {
     "data": {
      "image/png": "[encoded data removed]",
      "text/plain": [
       "<Figure size 864x360 with 1 Axes>"
      ]
     },
     "metadata": {
      "needs_background": "light"
     },
     "output_type": "display_data"
    }
   ],
   "source": [
    "# Participantes por Edad\n",
    "\n",
    "plt.figure(figsize=(12, 5))\n",
    "sns.countplot(x=df[\"q_edad\"])\n",
    "plt.xlabel(\"Edad\")\n",
    "plt.title(\"Distribución según edad\", fontsize=15);"
   ]
  }
 ],
 "metadata": {
  "kernelspec": {
   "display_name": "Python 3",
   "language": "python",
   "name": "python3"
  },
  "language_info": {
   "codemirror_mode": {
    "name": "ipython",
    "version": 3
   },
   "file_extension": ".py",
   "mimetype": "text/x-python",
   "name": "python",
   "nbconvert_exporter": "python",
   "pygments_lexer": "ipython3",
   "version": "3.7.10"
  }
 },
 "nbformat": 4,
 "nbformat_minor": 5
}
