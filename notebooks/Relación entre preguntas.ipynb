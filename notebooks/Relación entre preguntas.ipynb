{
 "cells": [
  {
   "cell_type": "code",
   "execution_count": 1,
   "id": "b13c1023",
   "metadata": {},
   "outputs": [],
   "source": [
    "import pandas as pd\n",
    "import numpy as np\n",
    "import matplotlib.pyplot as plt\n",
    "import seaborn as sns\n",
    "sns.set_style('whitegrid')\n",
    "sns.set_palette(\"Set2\")\n",
    "\n",
    "%matplotlib inline"
   ]
  },
  {
   "cell_type": "code",
   "execution_count": 2,
   "id": "93921858",
   "metadata": {},
   "outputs": [],
   "source": [
    "def classify_answers(df, q, a1, a2):\n",
    "    if df[q] == a1:\n",
    "        return 'no'\n",
    "    elif df[q] == a2:\n",
    "        return 'no se'\n",
    "    else : \n",
    "        return 'si'\n",
    "\n",
    "\n",
    "def classify_answers_gratuidad_3grupos(df):\n",
    "    if df['q_gratuidad'] == 'a_gratuidad_publicidades' : \n",
    "        return 'correcta'\n",
    "    elif 'a_gratuidad_publicidades' in df['q_gratuidad'].replace(\" \", \"\").split(',') :  # si la respuesta correcta esta dentro de las elegidas\n",
    "        return 'mixta'\n",
    "    elif df['q_gratuidad'] == 'a_gratuidad_nose':\n",
    "        return 'no se'\n",
    "    else : \n",
    "        return 'misconception'\n",
    "\n",
    "    \n",
    "def classify_answers_gratuidad(df):\n",
    "    if 'a_gratuidad_publicidades' in df['q_gratuidad'].split(',') :  # si la respuesta correcta esta dentro de las elegidas\n",
    "        return 'no' # misconception parcial NO Es misconception\n",
    "    elif df['q_gratuidad'] == 'a_gratuidad_nose': # consideramos que no se NO es misconception\n",
    "        return 'no'\n",
    "    else : \n",
    "        return 'si'\n",
    "    "
   ]
  },
  {
   "cell_type": "code",
   "execution_count": 3,
   "id": "223ec8be",
   "metadata": {},
   "outputs": [],
   "source": [
    "df = pd.read_csv(\"../data/respuestas.csv\")"
   ]
  },
  {
   "cell_type": "code",
   "execution_count": 4,
   "id": "2cb202f4",
   "metadata": {},
   "outputs": [],
   "source": [
    "df['misconception_yt'] = np.where((df['q_yt']=='a_yt_muchisimascompu') | (df['q_yt']=='a_yt_nose'), 'no', 'si')\n",
    "df['misconception_yt2'] = df.apply(lambda x: classify_answers(x, q='q_yt', a1='a_yt_muchisimascompu', a2='a_yt_nose'), axis=1)\n",
    "df['misconception_acceso_fotos'] = np.where((df['q_acceso_fotos']=='a_acceso_fotos_yo') | (df['q_acceso_fotos']=='a_acceso_fotos_nose'), 'no', 'si')\n",
    "df['misconception_acceso_fotos2'] = df.apply(lambda x: classify_answers(x, q='q_acceso_fotos', a1='a_acceso_fotos_yo', a2='a_acceso_fotos_nose'), axis=1)\n",
    "df['misconception_mandar_fotos'] = np.where((df['q_mandar_fotos']=='a_mandar_fotos_copia') | (df['q_mandar_fotos']=='a_mandar_fotos_nose'), 'no', 'si')\n",
    "df['misconception_mandar_fotos2'] = df.apply(lambda x: classify_answers(x, q='q_mandar_fotos', a1='a_mandar_fotos_copia', a2='a_mandar_fotos_nose'), axis=1)\n",
    "df['misconception_borrar_fotos'] = np.where((df['q_borrar_fotos']=='a_borrar_fotos_nopuedo') | (df['q_borrar_fotos']=='a_borrar_fotos_nose'), 'no', 'si')\n",
    "df['misconception_borrar_fotos2'] = df.apply(lambda x: classify_answers(x, q='q_borrar_fotos', a1='a_borrar_fotos_nopuedo', a2='a_borrar_fotos_nose'), axis=1)\n",
    "df['misconception_mensaje_sin_wifi'] = np.where((df['q_mensaje_sin_wifi']=='a_mensaje_sin_wifi_red') | (df['q_mensaje_sin_wifi']=='a_mensaje_sin_wifi_nose'), 'no', 'si')\n",
    "df['misconception_mensaje_sin_wifi2'] = df.apply(lambda x: classify_answers(x, q='q_mensaje_sin_wifi', a1='a_mensaje_sin_wifi_red', a2='a_mensaje_sin_wifi_nose'), axis=1)\n",
    "df['misconception_gratuidad3'] = df.apply(lambda x: classify_answers_gratuidad(x), axis=1)\n",
    "df['misconception_gratuidad'] = np.where((df['q_gratuidad']=='a_gratuidad_publicidades'), 'no', 'si')\n",
    "df['misconception_gratuidad2'] = df.apply(lambda x: classify_answers(x, q='q_gratuidad', a1='a_gratuidad_publicidades', a2='a_gratuidad_nose'), axis=1)\n"
   ]
  },
  {
   "cell_type": "code",
   "execution_count": 5,
   "id": "34510046",
   "metadata": {},
   "outputs": [],
   "source": [
    "df['tiene_alguna_misconception'] = np.where((df['misconception_yt2']=='si')|\n",
    "                                            (df['misconception_gratuidad3']=='si') | \\\n",
    "                                            (df['misconception_acceso_fotos2']=='si') | \\\n",
    "                                            (df['misconception_mandar_fotos2']=='si')  | \\\n",
    "                                            (df['misconception_borrar_fotos2']=='si')  | \\\n",
    "                                            (df['misconception_mensaje_sin_wifi2']=='si'), 'si', 'no')"
   ]
  },
  {
   "cell_type": "code",
   "execution_count": 6,
   "id": "0f133605",
   "metadata": {},
   "outputs": [
    {
     "data": {
      "text/html": [
       "<div>\n",
       "<style scoped>\n",
       "    .dataframe tbody tr th:only-of-type {\n",
       "        vertical-align: middle;\n",
       "    }\n",
       "\n",
       "    .dataframe tbody tr th {\n",
       "        vertical-align: top;\n",
       "    }\n",
       "\n",
       "    .dataframe thead th {\n",
       "        text-align: right;\n",
       "    }\n",
       "</style>\n",
       "<table border=\"1\" class=\"dataframe\">\n",
       "  <thead>\n",
       "    <tr style=\"text-align: right;\">\n",
       "      <th></th>\n",
       "      <th>timestamp</th>\n",
       "      <th>q_edad</th>\n",
       "      <th>q_genero</th>\n",
       "      <th>q_donde_compu</th>\n",
       "      <th>q_que_haces_compu</th>\n",
       "      <th>q_donde_aprendiste_compu</th>\n",
       "      <th>q_que_celu_usas</th>\n",
       "      <th>q_que_haces_celu</th>\n",
       "      <th>q_yt</th>\n",
       "      <th>q_acceso_fotos</th>\n",
       "      <th>...</th>\n",
       "      <th>misconception_mandar_fotos</th>\n",
       "      <th>misconception_mandar_fotos2</th>\n",
       "      <th>misconception_borrar_fotos</th>\n",
       "      <th>misconception_borrar_fotos2</th>\n",
       "      <th>misconception_mensaje_sin_wifi</th>\n",
       "      <th>misconception_mensaje_sin_wifi2</th>\n",
       "      <th>misconception_gratuidad3</th>\n",
       "      <th>misconception_gratuidad</th>\n",
       "      <th>misconception_gratuidad2</th>\n",
       "      <th>tiene_alguna_misconception</th>\n",
       "    </tr>\n",
       "  </thead>\n",
       "  <tbody>\n",
       "    <tr>\n",
       "      <th>47</th>\n",
       "      <td>4/19/2021 16:37:01</td>\n",
       "      <td>9</td>\n",
       "      <td>f</td>\n",
       "      <td>a_donde_compu_casa</td>\n",
       "      <td>a_que_haces_compu_videos, a_que_haces_compu_ta...</td>\n",
       "      <td>a_donde_aprendiste_compu_casa</td>\n",
       "      <td>a_que_celu_usas_propio</td>\n",
       "      <td>a_que_haces_celu_chat, a_que_haces_celu_redes,...</td>\n",
       "      <td>a_yt_nose</td>\n",
       "      <td>a_acceso_fotos_yo</td>\n",
       "      <td>...</td>\n",
       "      <td>no</td>\n",
       "      <td>no</td>\n",
       "      <td>no</td>\n",
       "      <td>no</td>\n",
       "      <td>no</td>\n",
       "      <td>no se</td>\n",
       "      <td>no</td>\n",
       "      <td>no</td>\n",
       "      <td>no</td>\n",
       "      <td>no</td>\n",
       "    </tr>\n",
       "    <tr>\n",
       "      <th>73</th>\n",
       "      <td>4/25/2021 5:12:01</td>\n",
       "      <td>10</td>\n",
       "      <td>m</td>\n",
       "      <td>a_donde_compu_casa</td>\n",
       "      <td>a_que_haces_compu_juegos, a_que_haces_compu_vi...</td>\n",
       "      <td>a_donde_aprendiste_compu_casa</td>\n",
       "      <td>a_que_celu_usas_propio</td>\n",
       "      <td>a_que_haces_celu_videos, a_que_haces_celu_juegos</td>\n",
       "      <td>a_yt_nose</td>\n",
       "      <td>a_acceso_fotos_yo</td>\n",
       "      <td>...</td>\n",
       "      <td>no</td>\n",
       "      <td>no</td>\n",
       "      <td>no</td>\n",
       "      <td>no</td>\n",
       "      <td>no</td>\n",
       "      <td>no</td>\n",
       "      <td>no</td>\n",
       "      <td>no</td>\n",
       "      <td>no</td>\n",
       "      <td>no</td>\n",
       "    </tr>\n",
       "    <tr>\n",
       "      <th>76</th>\n",
       "      <td>4/25/2021 20:09:06</td>\n",
       "      <td>9</td>\n",
       "      <td>f</td>\n",
       "      <td>a_donde_compu_casa</td>\n",
       "      <td>a_que_haces_compu_videos, a_que_haces_compu_tarea</td>\n",
       "      <td>a_donde_aprendiste_compu_casa</td>\n",
       "      <td>a_que_celu_usas_prestado</td>\n",
       "      <td>a_que_haces_celu_redes, a_que_haces_celu_video...</td>\n",
       "      <td>a_yt_nose</td>\n",
       "      <td>a_acceso_fotos_yo</td>\n",
       "      <td>...</td>\n",
       "      <td>no</td>\n",
       "      <td>no se</td>\n",
       "      <td>no</td>\n",
       "      <td>no se</td>\n",
       "      <td>no</td>\n",
       "      <td>no se</td>\n",
       "      <td>no</td>\n",
       "      <td>no</td>\n",
       "      <td>no</td>\n",
       "      <td>no</td>\n",
       "    </tr>\n",
       "    <tr>\n",
       "      <th>79</th>\n",
       "      <td>4/25/2021 23:28:42</td>\n",
       "      <td>10</td>\n",
       "      <td>m</td>\n",
       "      <td>a_donde_compu_casa</td>\n",
       "      <td>a_que_haces_compu_tarea</td>\n",
       "      <td>a_donde_aprendiste_compu_solo</td>\n",
       "      <td>a_que_celu_usas_nouso</td>\n",
       "      <td>a_que_haces_celu_nouso</td>\n",
       "      <td>a_yt_nose</td>\n",
       "      <td>a_acceso_fotos_yo</td>\n",
       "      <td>...</td>\n",
       "      <td>no</td>\n",
       "      <td>no</td>\n",
       "      <td>no</td>\n",
       "      <td>no</td>\n",
       "      <td>no</td>\n",
       "      <td>no</td>\n",
       "      <td>no</td>\n",
       "      <td>no</td>\n",
       "      <td>no</td>\n",
       "      <td>no</td>\n",
       "    </tr>\n",
       "    <tr>\n",
       "      <th>112</th>\n",
       "      <td>5/2/2021 23:59:27</td>\n",
       "      <td>9</td>\n",
       "      <td>m</td>\n",
       "      <td>a_donde_compu_casa</td>\n",
       "      <td>a_que_haces_compu_juegos, a_que_haces_compu_vi...</td>\n",
       "      <td>a_donde_aprendiste_compu_solo</td>\n",
       "      <td>a_que_celu_usas_prestado</td>\n",
       "      <td>a_que_haces_celu_chat, a_que_haces_celu_videos...</td>\n",
       "      <td>a_yt_muchisimascompu</td>\n",
       "      <td>a_acceso_fotos_yo</td>\n",
       "      <td>...</td>\n",
       "      <td>no</td>\n",
       "      <td>no</td>\n",
       "      <td>no</td>\n",
       "      <td>no</td>\n",
       "      <td>no</td>\n",
       "      <td>no</td>\n",
       "      <td>no</td>\n",
       "      <td>no</td>\n",
       "      <td>no</td>\n",
       "      <td>no</td>\n",
       "    </tr>\n",
       "  </tbody>\n",
       "</table>\n",
       "<p>5 rows × 31 columns</p>\n",
       "</div>"
      ],
      "text/plain": [
       "              timestamp  q_edad q_genero       q_donde_compu  \\\n",
       "47   4/19/2021 16:37:01       9        f  a_donde_compu_casa   \n",
       "73    4/25/2021 5:12:01      10        m  a_donde_compu_casa   \n",
       "76   4/25/2021 20:09:06       9        f  a_donde_compu_casa   \n",
       "79   4/25/2021 23:28:42      10        m  a_donde_compu_casa   \n",
       "112   5/2/2021 23:59:27       9        m  a_donde_compu_casa   \n",
       "\n",
       "                                     q_que_haces_compu  \\\n",
       "47   a_que_haces_compu_videos, a_que_haces_compu_ta...   \n",
       "73   a_que_haces_compu_juegos, a_que_haces_compu_vi...   \n",
       "76   a_que_haces_compu_videos, a_que_haces_compu_tarea   \n",
       "79                             a_que_haces_compu_tarea   \n",
       "112  a_que_haces_compu_juegos, a_que_haces_compu_vi...   \n",
       "\n",
       "          q_donde_aprendiste_compu           q_que_celu_usas  \\\n",
       "47   a_donde_aprendiste_compu_casa    a_que_celu_usas_propio   \n",
       "73   a_donde_aprendiste_compu_casa    a_que_celu_usas_propio   \n",
       "76   a_donde_aprendiste_compu_casa  a_que_celu_usas_prestado   \n",
       "79   a_donde_aprendiste_compu_solo     a_que_celu_usas_nouso   \n",
       "112  a_donde_aprendiste_compu_solo  a_que_celu_usas_prestado   \n",
       "\n",
       "                                      q_que_haces_celu                  q_yt  \\\n",
       "47   a_que_haces_celu_chat, a_que_haces_celu_redes,...             a_yt_nose   \n",
       "73    a_que_haces_celu_videos, a_que_haces_celu_juegos             a_yt_nose   \n",
       "76   a_que_haces_celu_redes, a_que_haces_celu_video...             a_yt_nose   \n",
       "79                              a_que_haces_celu_nouso             a_yt_nose   \n",
       "112  a_que_haces_celu_chat, a_que_haces_celu_videos...  a_yt_muchisimascompu   \n",
       "\n",
       "        q_acceso_fotos  ... misconception_mandar_fotos  \\\n",
       "47   a_acceso_fotos_yo  ...                         no   \n",
       "73   a_acceso_fotos_yo  ...                         no   \n",
       "76   a_acceso_fotos_yo  ...                         no   \n",
       "79   a_acceso_fotos_yo  ...                         no   \n",
       "112  a_acceso_fotos_yo  ...                         no   \n",
       "\n",
       "    misconception_mandar_fotos2 misconception_borrar_fotos  \\\n",
       "47                           no                         no   \n",
       "73                           no                         no   \n",
       "76                        no se                         no   \n",
       "79                           no                         no   \n",
       "112                          no                         no   \n",
       "\n",
       "    misconception_borrar_fotos2 misconception_mensaje_sin_wifi  \\\n",
       "47                           no                             no   \n",
       "73                           no                             no   \n",
       "76                        no se                             no   \n",
       "79                           no                             no   \n",
       "112                          no                             no   \n",
       "\n",
       "    misconception_mensaje_sin_wifi2 misconception_gratuidad3  \\\n",
       "47                            no se                       no   \n",
       "73                               no                       no   \n",
       "76                            no se                       no   \n",
       "79                               no                       no   \n",
       "112                              no                       no   \n",
       "\n",
       "    misconception_gratuidad misconception_gratuidad2  \\\n",
       "47                       no                       no   \n",
       "73                       no                       no   \n",
       "76                       no                       no   \n",
       "79                       no                       no   \n",
       "112                      no                       no   \n",
       "\n",
       "    tiene_alguna_misconception  \n",
       "47                          no  \n",
       "73                          no  \n",
       "76                          no  \n",
       "79                          no  \n",
       "112                         no  \n",
       "\n",
       "[5 rows x 31 columns]"
      ]
     },
     "execution_count": 6,
     "metadata": {},
     "output_type": "execute_result"
    }
   ],
   "source": [
    "df[df['tiene_alguna_misconception'] == 'no']\n",
    "# hay solo 5 chicos que no tiene ninguna misconception\n"
   ]
  },
  {
   "cell_type": "code",
   "execution_count": 7,
   "id": "472d8100",
   "metadata": {},
   "outputs": [
    {
     "data": {
      "text/html": [
       "<div>\n",
       "<style scoped>\n",
       "    .dataframe tbody tr th:only-of-type {\n",
       "        vertical-align: middle;\n",
       "    }\n",
       "\n",
       "    .dataframe tbody tr th {\n",
       "        vertical-align: top;\n",
       "    }\n",
       "\n",
       "    .dataframe thead th {\n",
       "        text-align: right;\n",
       "    }\n",
       "</style>\n",
       "<table border=\"1\" class=\"dataframe\">\n",
       "  <thead>\n",
       "    <tr style=\"text-align: right;\">\n",
       "      <th></th>\n",
       "      <th>Youtube</th>\n",
       "      <th>Acceso Fotos</th>\n",
       "      <th>Mandar Fotos</th>\n",
       "      <th>Borrar Fotos</th>\n",
       "      <th>Mensaje sin WiFi</th>\n",
       "      <th>Gratuidad Apps</th>\n",
       "    </tr>\n",
       "  </thead>\n",
       "  <tbody>\n",
       "    <tr>\n",
       "      <th>0</th>\n",
       "      <td>1.0</td>\n",
       "      <td>1.0</td>\n",
       "      <td>1.0</td>\n",
       "      <td>1.0</td>\n",
       "      <td>1.0</td>\n",
       "      <td>0.0</td>\n",
       "    </tr>\n",
       "    <tr>\n",
       "      <th>1</th>\n",
       "      <td>1.0</td>\n",
       "      <td>0.0</td>\n",
       "      <td>1.0</td>\n",
       "      <td>0.0</td>\n",
       "      <td>1.0</td>\n",
       "      <td>1.0</td>\n",
       "    </tr>\n",
       "    <tr>\n",
       "      <th>2</th>\n",
       "      <td>1.0</td>\n",
       "      <td>0.0</td>\n",
       "      <td>0.0</td>\n",
       "      <td>1.0</td>\n",
       "      <td>0.0</td>\n",
       "      <td>1.0</td>\n",
       "    </tr>\n",
       "    <tr>\n",
       "      <th>3</th>\n",
       "      <td>0.0</td>\n",
       "      <td>1.0</td>\n",
       "      <td>0.0</td>\n",
       "      <td>1.0</td>\n",
       "      <td>1.0</td>\n",
       "      <td>1.0</td>\n",
       "    </tr>\n",
       "    <tr>\n",
       "      <th>4</th>\n",
       "      <td>1.0</td>\n",
       "      <td>0.0</td>\n",
       "      <td>1.0</td>\n",
       "      <td>1.0</td>\n",
       "      <td>1.0</td>\n",
       "      <td>1.0</td>\n",
       "    </tr>\n",
       "  </tbody>\n",
       "</table>\n",
       "</div>"
      ],
      "text/plain": [
       "   Youtube  Acceso Fotos  Mandar Fotos  Borrar Fotos  Mensaje sin WiFi  \\\n",
       "0      1.0           1.0           1.0           1.0               1.0   \n",
       "1      1.0           0.0           1.0           0.0               1.0   \n",
       "2      1.0           0.0           0.0           1.0               0.0   \n",
       "3      0.0           1.0           0.0           1.0               1.0   \n",
       "4      1.0           0.0           1.0           1.0               1.0   \n",
       "\n",
       "   Gratuidad Apps  \n",
       "0             0.0  \n",
       "1             1.0  \n",
       "2             1.0  \n",
       "3             1.0  \n",
       "4             1.0  "
      ]
     },
     "execution_count": 7,
     "metadata": {},
     "output_type": "execute_result"
    }
   ],
   "source": [
    "#data frame con presencia de misconceptions en las distintas preguntas\n",
    "\n",
    "df_misconceptions = df[['misconception_yt', \n",
    "                        'misconception_acceso_fotos', \n",
    "                        'misconception_mandar_fotos', \n",
    "                        'misconception_borrar_fotos', \n",
    "                        'misconception_mensaje_sin_wifi', \n",
    "                        'misconception_gratuidad3']].copy() # consideramos misconception parcial como SIN MISCONCEPTION y NO SE como SIN MISCONCEPTION\n",
    "\n",
    "df_misconceptions = df_misconceptions.rename(columns={\"misconception_yt\": \"Youtube\",\n",
    "                                  \"misconception_acceso_fotos\": \"Acceso Fotos\",\n",
    "                                  \"misconception_mandar_fotos\": \"Mandar Fotos\",\n",
    "                                  \"misconception_borrar_fotos\": \"Borrar Fotos\",\n",
    "                                  \"misconception_mensaje_sin_wifi\": \"Mensaje sin WiFi\",\n",
    "                                  \"misconception_gratuidad3\": \"Gratuidad Apps\"})\n",
    "\n",
    "for col in df_misconceptions.columns:\n",
    "    df_misconceptions[col] = df_misconceptions[col].transform(lambda x: 1.0 if x == 'si' else 0.0)\n",
    "df_misconceptions.head()\n"
   ]
  },
  {
   "cell_type": "markdown",
   "id": "0ac6453b",
   "metadata": {},
   "source": [
    "## Frecuencia de cantidad de misconceptions"
   ]
  },
  {
   "cell_type": "code",
   "execution_count": 8,
   "id": "04750b97",
   "metadata": {},
   "outputs": [
    {
     "data": {
      "image/png": "[encoded data removed]",
      "text/plain": [
       "<Figure size 432x288 with 1 Axes>"
      ]
     },
     "metadata": {
      "needs_background": "light"
     },
     "output_type": "display_data"
    }
   ],
   "source": [
    "df_misconceptions.sum(axis=1).astype(int).value_counts().sort_index().plot.bar();\n",
    "plt.title(\"Cantidad misconceptions por alumno\", fontsize=15)\n",
    "plt.xticks(fontsize=14, rotation=0);\n",
    "plt.yticks(fontsize=14);\n",
    "plt.ylim(0,60)\n",
    "plt.savefig('25.pdf')\n"
   ]
  },
  {
   "cell_type": "code",
   "execution_count": null,
   "id": "2ba139c2",
   "metadata": {},
   "outputs": [],
   "source": []
  },
  {
   "cell_type": "code",
   "execution_count": null,
   "id": "7b5a5c19",
   "metadata": {},
   "outputs": [],
   "source": []
  },
  {
   "cell_type": "code",
   "execution_count": null,
   "id": "42518629",
   "metadata": {},
   "outputs": [],
   "source": []
  },
  {
   "cell_type": "code",
   "execution_count": null,
   "id": "a560cdcc",
   "metadata": {},
   "outputs": [],
   "source": []
  },
  {
   "cell_type": "code",
   "execution_count": null,
   "id": "07e86177",
   "metadata": {},
   "outputs": [],
   "source": []
  },
  {
   "cell_type": "code",
   "execution_count": null,
   "id": "93daf07e",
   "metadata": {},
   "outputs": [],
   "source": []
  },
  {
   "cell_type": "code",
   "execution_count": null,
   "id": "7cdaa1bc",
   "metadata": {},
   "outputs": [],
   "source": []
  },
  {
   "cell_type": "code",
   "execution_count": null,
   "id": "2637b7ff",
   "metadata": {},
   "outputs": [],
   "source": []
  },
  {
   "cell_type": "code",
   "execution_count": null,
   "id": "c3ba4a71",
   "metadata": {},
   "outputs": [],
   "source": []
  },
  {
   "cell_type": "code",
   "execution_count": null,
   "id": "fd9f2bd3",
   "metadata": {},
   "outputs": [],
   "source": []
  },
  {
   "cell_type": "code",
   "execution_count": null,
   "id": "6a4da0ea",
   "metadata": {},
   "outputs": [],
   "source": []
  },
  {
   "cell_type": "code",
   "execution_count": null,
   "id": "55d59d0a",
   "metadata": {},
   "outputs": [],
   "source": []
  },
  {
   "cell_type": "code",
   "execution_count": null,
   "id": "7f32d3e8",
   "metadata": {},
   "outputs": [],
   "source": []
  },
  {
   "cell_type": "code",
   "execution_count": null,
   "id": "fbe91377",
   "metadata": {},
   "outputs": [],
   "source": []
  },
  {
   "cell_type": "code",
   "execution_count": null,
   "id": "402569c4",
   "metadata": {},
   "outputs": [],
   "source": []
  },
  {
   "cell_type": "code",
   "execution_count": null,
   "id": "ff413628",
   "metadata": {},
   "outputs": [],
   "source": []
  },
  {
   "cell_type": "code",
   "execution_count": null,
   "id": "f61af0ea",
   "metadata": {},
   "outputs": [],
   "source": []
  },
  {
   "cell_type": "code",
   "execution_count": null,
   "id": "256e1f50",
   "metadata": {},
   "outputs": [],
   "source": []
  },
  {
   "cell_type": "code",
   "execution_count": null,
   "id": "36b73a2f",
   "metadata": {},
   "outputs": [],
   "source": []
  },
  {
   "cell_type": "code",
   "execution_count": null,
   "id": "7b81913f",
   "metadata": {},
   "outputs": [],
   "source": []
  },
  {
   "cell_type": "code",
   "execution_count": 9,
   "id": "77c1086f",
   "metadata": {},
   "outputs": [
    {
     "data": {
      "image/png": "[encoded data removed]",
      "text/plain": [
       "<Figure size 720x720 with 4 Axes>"
      ]
     },
     "metadata": {
      "needs_background": "light"
     },
     "output_type": "display_data"
    }
   ],
   "source": [
    "# Clustermap con relaciones entre las preguntas segun las misconceptions que hay en cada una\n",
    "svm = sns.clustermap(df_misconceptions, cmap='Greens');\n",
    "figure = svm.fig    \n",
    "figure.savefig('31.pdf', bbox_inches='tight')\n"
   ]
  },
  {
   "cell_type": "code",
   "execution_count": null,
   "id": "a6c66d85",
   "metadata": {},
   "outputs": [],
   "source": []
  },
  {
   "cell_type": "code",
   "execution_count": 10,
   "id": "864d76ef",
   "metadata": {},
   "outputs": [
    {
     "data": {
      "image/png": "[encoded data removed]",
      "text/plain": [
       "<Figure size 432x288 with 2 Axes>"
      ]
     },
     "metadata": {
      "needs_background": "light"
     },
     "output_type": "display_data"
    }
   ],
   "source": [
    "#https://seaborn.pydata.org/generated/seaborn.heatmap.html\n",
    "\n",
    "#plt.rc('xtick', labelsize=15) \n",
    "#plt.rc('ytick', labelsize=15) \n",
    "\n",
    "ax = plt.axes()\n",
    "\n",
    "svm = sns.heatmap(df_misconceptions.corr(method='pearson'), ax=ax, vmax=1, vmin=-1, cmap='RdBu_r');\n",
    "ax.set_title('Relación entre misconceptions', fontsize=15)\n",
    "figure = svm.get_figure()    \n",
    "figure.savefig('28.pdf', bbox_inches='tight')\n",
    "\n",
    "\n",
    "# * pearson : standard correlation coefficient\n",
    "# * kendall : Kendall Tau correlation coefficient\n",
    "# * spearman : Spearman rank correlation"
   ]
  },
  {
   "cell_type": "code",
   "execution_count": null,
   "id": "64a00c64",
   "metadata": {},
   "outputs": [],
   "source": []
  },
  {
   "cell_type": "code",
   "execution_count": null,
   "id": "0b92b06c",
   "metadata": {},
   "outputs": [],
   "source": []
  },
  {
   "cell_type": "code",
   "execution_count": null,
   "id": "9459aafd",
   "metadata": {},
   "outputs": [],
   "source": []
  },
  {
   "cell_type": "code",
   "execution_count": null,
   "id": "7509e18c",
   "metadata": {},
   "outputs": [],
   "source": []
  },
  {
   "cell_type": "code",
   "execution_count": null,
   "id": "01a59d39",
   "metadata": {},
   "outputs": [],
   "source": []
  },
  {
   "cell_type": "code",
   "execution_count": null,
   "id": "1c52735e",
   "metadata": {},
   "outputs": [],
   "source": []
  },
  {
   "cell_type": "code",
   "execution_count": null,
   "id": "50b0c418",
   "metadata": {},
   "outputs": [],
   "source": []
  },
  {
   "cell_type": "code",
   "execution_count": null,
   "id": "f87e1ebd",
   "metadata": {},
   "outputs": [],
   "source": []
  },
  {
   "cell_type": "code",
   "execution_count": null,
   "id": "daf1de7c",
   "metadata": {},
   "outputs": [],
   "source": []
  },
  {
   "cell_type": "code",
   "execution_count": null,
   "id": "bf835604",
   "metadata": {},
   "outputs": [],
   "source": []
  },
  {
   "cell_type": "code",
   "execution_count": null,
   "id": "ce37ad8e",
   "metadata": {},
   "outputs": [],
   "source": []
  },
  {
   "cell_type": "code",
   "execution_count": null,
   "id": "9d352335",
   "metadata": {},
   "outputs": [],
   "source": []
  },
  {
   "cell_type": "code",
   "execution_count": 11,
   "id": "b116cad5",
   "metadata": {
    "scrolled": true
   },
   "outputs": [
    {
     "data": {
      "image/png": "[encoded data removed]",
      "text/plain": [
       "<Figure size 1080x360 with 1 Axes>"
      ]
     },
     "metadata": {
      "needs_background": "light"
     },
     "output_type": "display_data"
    }
   ],
   "source": [
    "#Cantidad de misconceptions por pregunta, considerando que misconception parcial NO es misconception\n",
    "\n",
    "df_misconceptions.sum(axis=0).sort_values(ascending=False).plot.bar(figsize=(15,5), rot=0)\n",
    "plt.title(\"Cantidad de misconceptions por pregunta\", fontsize=15);\n",
    "\n",
    "plt.xticks(rotation=0,fontsize=14);\n",
    "plt.savefig('26.pdf')\n"
   ]
  },
  {
   "cell_type": "code",
   "execution_count": null,
   "id": "911be320",
   "metadata": {},
   "outputs": [],
   "source": []
  },
  {
   "cell_type": "code",
   "execution_count": null,
   "id": "a5430eca",
   "metadata": {},
   "outputs": [],
   "source": []
  },
  {
   "cell_type": "code",
   "execution_count": 12,
   "id": "d1eb24a4",
   "metadata": {},
   "outputs": [
    {
     "data": {
      "image/png": "[encoded data removed]",
      "text/plain": [
       "<Figure size 864x504 with 1 Axes>"
      ]
     },
     "metadata": {},
     "output_type": "display_data"
    }
   ],
   "source": [
    "#plt.rc('xtick', labelsize=13) \n",
    "#plt.rc('ytick', labelsize=15) \n",
    "plt.rcParams['font.size'] = 18.0\n",
    "labels = (\"YouTube\", \"Borrar fotos\", \"Mensaje sin WiFi\", \"Gratuidad Apps\", \"Mandar Fotos\", \"Acceso Fotos\")\n",
    "explode = (0.1, 0, 0, 0, 0, 0)\n",
    "\n",
    "df_misconceptions.sum(axis=0).sort_values(ascending=False).plot.pie(explode=explode,labels=labels, autopct='%1.1f%%',shadow=True, startangle=90, figsize=(12,7));\n",
    "plt.gca().axes.get_yaxis().set_visible(False)\n"
   ]
  },
  {
   "cell_type": "code",
   "execution_count": null,
   "id": "4f1ab37c",
   "metadata": {},
   "outputs": [],
   "source": []
  },
  {
   "cell_type": "code",
   "execution_count": 13,
   "id": "6b554adc",
   "metadata": {},
   "outputs": [
    {
     "data": {
      "text/plain": [
       "<matplotlib.legend.Legend at 0x7fe3a3534d90>"
      ]
     },
     "execution_count": 13,
     "metadata": {},
     "output_type": "execute_result"
    },
    {
     "data": {
      "image/png": "[encoded data removed]",
      "text/plain": [
       "<Figure size 432x288 with 1 Axes>"
      ]
     },
     "metadata": {},
     "output_type": "display_data"
    }
   ],
   "source": [
    "import matplotlib.pyplot as plt\n",
    "import numpy as np\n",
    "x = (\"YouTube\", \"Borrar fotos\", \"Mensaje sin WiFi\", \"Gratuidad Apps\", \"Mandar Fotos\", \"Acceso Fotos\")\n",
    "y = df_misconceptions.sum(axis=0).sort_values(ascending=False)\n",
    "porcent = 100.*y/y.sum()\n",
    "\n",
    "patches, texts = plt.pie(y, startangle=90, radius=1.2)\n",
    "labels = ['{0} - {1:1.2f} %'.format(i,j) for i,j in zip(x, porcent)]\n",
    "\n",
    "sort_legend = True\n",
    "if sort_legend:\n",
    "    patches, labels, dummy =  zip(*sorted(zip(patches, labels, y),\n",
    "                                          key=lambda x: x[2],\n",
    "                                          reverse=True))\n",
    "\n",
    "plt.legend(patches, labels, loc='best', bbox_to_anchor=(-0.1, 1.),\n",
    "           fontsize=14)"
   ]
  },
  {
   "cell_type": "code",
   "execution_count": null,
   "id": "0fceb455",
   "metadata": {},
   "outputs": [],
   "source": []
  },
  {
   "cell_type": "code",
   "execution_count": null,
   "id": "b4dcf341",
   "metadata": {},
   "outputs": [],
   "source": []
  },
  {
   "cell_type": "code",
   "execution_count": null,
   "id": "e71b08fc",
   "metadata": {},
   "outputs": [],
   "source": []
  },
  {
   "cell_type": "code",
   "execution_count": 14,
   "id": "d1bef085",
   "metadata": {},
   "outputs": [
    {
     "data": {
      "image/png": "[encoded data removed]",
      "text/plain": [
       "<Figure size 936x360 with 1 Axes>"
      ]
     },
     "metadata": {
      "needs_background": "light"
     },
     "output_type": "display_data"
    }
   ],
   "source": [
    "#aca Consideramos a los que tienen misconception parcial como CON misconception.\n",
    "\n",
    "#https://seaborn.pydata.org/generated/seaborn.clustermap.html\n",
    "df_misconceptions_parcial = df[['misconception_yt', \n",
    "                        'misconception_acceso_fotos', \n",
    "                        'misconception_mandar_fotos', \n",
    "                        'misconception_borrar_fotos', \n",
    "                        'misconception_mensaje_sin_wifi', \n",
    "                        'misconception_gratuidad2']].copy() # ACA MISCONCEPTION PARCIAL ES MISCONCEPTION\n",
    "\n",
    "for col in df_misconceptions_parcial.columns:\n",
    "    df_misconceptions_parcial[col] = df_misconceptions_parcial[col].transform(lambda x: 1.0 if x == 'si' else 0.0)\n",
    "df_misconceptions_parcial.head()\n",
    "\n",
    "\n",
    "df_misconceptions_parcial = df_misconceptions_parcial.rename(columns={\"misconception_yt\": \"Youtube\",\n",
    "                                  \"misconception_acceso_fotos\": \"Acceso Fotos\",\n",
    "                                  \"misconception_mandar_fotos\": \"Mandar Fotos\",\n",
    "                                  \"misconception_borrar_fotos\": \"Borrar Fotos\",\n",
    "                                  \"misconception_mensaje_sin_wifi\": \"Mensaje sin WiFi\",\n",
    "                                  \"misconception_gratuidad2\": \"Gratuidad Apps\"})\n",
    "\n",
    "df_misconceptions_parcial\n",
    "\n",
    "df_misconceptions_parcial.sum(axis=0).sort_values(ascending=False).plot.bar(figsize=(13,5), rot=0)\n",
    "plt.title(\"Cantidad de misconceptions por pregunta\", fontsize=15);\n",
    "\n",
    "plt.xticks(rotation=0,fontsize=14);\n",
    "plt.savefig('27.pdf')\n"
   ]
  },
  {
   "cell_type": "code",
   "execution_count": null,
   "id": "bc94e6e0",
   "metadata": {},
   "outputs": [],
   "source": []
  },
  {
   "cell_type": "code",
   "execution_count": null,
   "id": "8ffad9a4",
   "metadata": {},
   "outputs": [],
   "source": []
  },
  {
   "cell_type": "code",
   "execution_count": null,
   "id": "28021cc1",
   "metadata": {},
   "outputs": [],
   "source": []
  },
  {
   "cell_type": "code",
   "execution_count": null,
   "id": "f28dbc3b",
   "metadata": {},
   "outputs": [],
   "source": []
  },
  {
   "cell_type": "code",
   "execution_count": null,
   "id": "530b4b29",
   "metadata": {},
   "outputs": [],
   "source": []
  },
  {
   "cell_type": "code",
   "execution_count": null,
   "id": "f23964f7",
   "metadata": {},
   "outputs": [],
   "source": []
  },
  {
   "cell_type": "code",
   "execution_count": null,
   "id": "c42d3556",
   "metadata": {},
   "outputs": [],
   "source": []
  },
  {
   "cell_type": "code",
   "execution_count": null,
   "id": "b7072d35",
   "metadata": {},
   "outputs": [],
   "source": []
  }
 ],
 "metadata": {
  "kernelspec": {
   "display_name": "Python 3",
   "language": "python",
   "name": "python3"
  },
  "language_info": {
   "codemirror_mode": {
    "name": "ipython",
    "version": 3
   },
   "file_extension": ".py",
   "mimetype": "text/x-python",
   "name": "python",
   "nbconvert_exporter": "python",
   "pygments_lexer": "ipython3",
   "version": "3.7.10"
  }
 },
 "nbformat": 4,
 "nbformat_minor": 5
}
