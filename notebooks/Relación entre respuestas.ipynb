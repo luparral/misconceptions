{
 "cells": [
  {
   "cell_type": "code",
   "execution_count": 1,
   "id": "bc9c097f",
   "metadata": {},
   "outputs": [],
   "source": [
    "import pandas as pd\n",
    "import numpy as np\n",
    "import matplotlib.pyplot as plt\n",
    "import seaborn as sns\n",
    "sns.set_style('whitegrid')\n",
    "sns.set_palette(\"Set2\")\n",
    "\n",
    "%matplotlib inline"
   ]
  },
  {
   "cell_type": "code",
   "execution_count": 2,
   "id": "2dc1154b",
   "metadata": {},
   "outputs": [],
   "source": [
    "def classify_answers(df, q, a1, a2):\n",
    "    if df[q] == a1:\n",
    "        return 'no'\n",
    "    elif df[q] == a2:\n",
    "        return 'no se'\n",
    "    else : \n",
    "        return 'si'\n",
    "\n",
    "\n",
    "def classify_answers_gratuidad_3grupos(df):\n",
    "    if df['q_gratuidad'] == 'a_gratuidad_publicidades' : \n",
    "        return 'correcta'\n",
    "    elif 'a_gratuidad_publicidades' in df['q_gratuidad'].replace(\" \", \"\").split(',') :  # si la respuesta correcta esta dentro de las elegidas\n",
    "        return 'mixta'\n",
    "    elif df['q_gratuidad'] == 'a_gratuidad_nose':\n",
    "        return 'no se'\n",
    "    else : \n",
    "        return 'misconception'\n",
    "\n",
    "    \n",
    "def classify_answers_gratuidad(df):\n",
    "    if 'a_gratuidad_publicidades' in df['q_gratuidad'].split(',') :  # si la respuesta correcta esta dentro de las elegidas\n",
    "        return 'no' # misconception parcial NO Es misconception\n",
    "    elif df['q_gratuidad'] == 'a_gratuidad_nose': # consideramos que no se NO es misconception\n",
    "        return 'no'\n",
    "    else : \n",
    "        return 'si'"
   ]
  },
  {
   "cell_type": "code",
   "execution_count": 3,
   "id": "24f0cbcf",
   "metadata": {},
   "outputs": [],
   "source": [
    "df = pd.read_csv(\"../data/respuestas.csv\")"
   ]
  },
  {
   "cell_type": "code",
   "execution_count": 4,
   "id": "fd492dbb",
   "metadata": {},
   "outputs": [],
   "source": [
    "df['misconception_yt'] = np.where((df['q_yt']=='a_yt_muchisimascompu') | (df['q_yt']=='a_yt_nose'), 'no', 'si')\n",
    "df['misconception_yt2'] = df.apply(lambda x: classify_answers(x, q='q_yt', a1='a_yt_muchisimascompu', a2='a_yt_nose'), axis=1)\n",
    "df['misconception_acceso_fotos'] = np.where((df['q_acceso_fotos']=='a_acceso_fotos_yo') | (df['q_acceso_fotos']=='a_acceso_fotos_nose'), 'no', 'si')\n",
    "df['misconception_acceso_fotos2'] = df.apply(lambda x: classify_answers(x, q='q_acceso_fotos', a1='a_acceso_fotos_yo', a2='a_acceso_fotos_nose'), axis=1)\n",
    "df['misconception_mandar_fotos'] = np.where((df['q_mandar_fotos']=='a_mandar_fotos_copia') | (df['q_mandar_fotos']=='a_mandar_fotos_nose'), 'no', 'si')\n",
    "df['misconception_mandar_fotos2'] = df.apply(lambda x: classify_answers(x, q='q_mandar_fotos', a1='a_mandar_fotos_copia', a2='a_mandar_fotos_nose'), axis=1)\n",
    "df['misconception_borrar_fotos'] = np.where((df['q_borrar_fotos']=='a_borrar_fotos_nopuedo') | (df['q_borrar_fotos']=='a_borrar_fotos_nose'), 'no', 'si')\n",
    "df['misconception_borrar_fotos2'] = df.apply(lambda x: classify_answers(x, q='q_borrar_fotos', a1='a_borrar_fotos_nopuedo', a2='a_borrar_fotos_nose'), axis=1)\n",
    "df['misconception_mensaje_sin_wifi'] = np.where((df['q_mensaje_sin_wifi']=='a_mensaje_sin_wifi_red') | (df['q_mensaje_sin_wifi']=='a_mensaje_sin_wifi_nose'), 'no', 'si')\n",
    "df['misconception_mensaje_sin_wifi2'] = df.apply(lambda x: classify_answers(x, q='q_mensaje_sin_wifi', a1='a_mensaje_sin_wifi_red', a2='a_mensaje_sin_wifi_nose'), axis=1)\n",
    "df['misconception_gratuidad3'] = df.apply(lambda x: classify_answers_gratuidad(x), axis=1)\n",
    "df['misconception_gratuidad'] = np.where((df['q_gratuidad']=='a_gratuidad_publicidades'), 'no', 'si')\n",
    "df['misconception_gratuidad2'] = df.apply(lambda x: classify_answers(x, q='q_gratuidad', a1='a_gratuidad_publicidades', a2='a_gratuidad_nose'), axis=1)\n"
   ]
  },
  {
   "cell_type": "markdown",
   "id": "2a724498",
   "metadata": {},
   "source": [
    "## YouTube - Mensaje sin WiFi"
   ]
  },
  {
   "cell_type": "code",
   "execution_count": 5,
   "id": "f2ad381b",
   "metadata": {},
   "outputs": [],
   "source": [
    "df_yt_vs_wifi =  df[['q_yt', 'q_mensaje_sin_wifi']].copy()\n",
    "df_binary = pd.concat([pd.get_dummies(df_yt_vs_wifi['q_yt']), \n",
    "                    pd.get_dummies(df_yt_vs_wifi['q_mensaje_sin_wifi'])], \n",
    "                   axis=1)\n",
    "\n",
    "df_binary = df_binary.rename(columns={\"a_yt_1compu\": \"YouTube - Una compu\",\n",
    "                                  \"a_yt_celular\": \"YouTube - Celular\",\n",
    "                                  \"a_yt_muchascompu\": \"YouTube - Muchas compus\",\n",
    "                                  \"a_yt_muchisimascompu\": \"YouTube - Muchísimas compus\",\n",
    "                                  \"a_yt_nose\": \"YouTube - No sé\",\n",
    "                                  \"a_yt_nube\": \"YouTube - Nube\",\n",
    "                                  \"a_mensaje_sin_wifi_antena\": \"Sin WiFi - Antena\",\n",
    "                                  \"a_mensaje_sin_wifi_directo\": \"Sin WiFi - Directamente\",\n",
    "                                  \"a_mensaje_sin_wifi_nose\": \"Sin WiFi - No sé\",\n",
    "                                  \"a_mensaje_sin_wifi_nube\": \"Sin WiFi - Nube\",\n",
    "                                  \"a_mensaje_sin_wifi_red\": \"Sin WiFi - Red\",\n",
    "                                  \"a_mensaje_sin_wifi_satelite\": \"Sin WiFi - Satélite\"})\n",
    "\n"
   ]
  },
  {
   "cell_type": "code",
   "execution_count": 6,
   "id": "64ae3f15",
   "metadata": {},
   "outputs": [
    {
     "data": {
      "image/png": "[encoded data removed]",
      "text/plain": [
       "<Figure size 432x288 with 2 Axes>"
      ]
     },
     "metadata": {
      "needs_background": "light"
     },
     "output_type": "display_data"
    }
   ],
   "source": [
    "sns.heatmap(df_binary.corr().iloc[:6,6:], cmap='RdBu_r', vmax=1, vmin=-1);"
   ]
  },
  {
   "cell_type": "code",
   "execution_count": 7,
   "id": "8bfb7451",
   "metadata": {},
   "outputs": [
    {
     "data": {
      "text/html": [
       "<div>\n",
       "<style scoped>\n",
       "    .dataframe tbody tr th:only-of-type {\n",
       "        vertical-align: middle;\n",
       "    }\n",
       "\n",
       "    .dataframe tbody tr th {\n",
       "        vertical-align: top;\n",
       "    }\n",
       "\n",
       "    .dataframe thead th {\n",
       "        text-align: right;\n",
       "    }\n",
       "</style>\n",
       "<table border=\"1\" class=\"dataframe\">\n",
       "  <thead>\n",
       "    <tr style=\"text-align: right;\">\n",
       "      <th>Sin WiFi - Directamente</th>\n",
       "      <th>0</th>\n",
       "      <th>1</th>\n",
       "    </tr>\n",
       "    <tr>\n",
       "      <th>YouTube - Una compu</th>\n",
       "      <th></th>\n",
       "      <th></th>\n",
       "    </tr>\n",
       "  </thead>\n",
       "  <tbody>\n",
       "    <tr>\n",
       "      <th>0</th>\n",
       "      <td>118</td>\n",
       "      <td>13</td>\n",
       "    </tr>\n",
       "    <tr>\n",
       "      <th>1</th>\n",
       "      <td>8</td>\n",
       "      <td>5</td>\n",
       "    </tr>\n",
       "  </tbody>\n",
       "</table>\n",
       "</div>"
      ],
      "text/plain": [
       "Sin WiFi - Directamente    0   1\n",
       "YouTube - Una compu             \n",
       "0                        118  13\n",
       "1                          8   5"
      ]
     },
     "execution_count": 7,
     "metadata": {},
     "output_type": "execute_result"
    }
   ],
   "source": [
    "cross_tab_result = pd.crosstab(index=df_binary['YouTube - Una compu'], columns=df_binary['Sin WiFi - Directamente'])\n",
    "cross_tab_result"
   ]
  },
  {
   "cell_type": "code",
   "execution_count": 8,
   "id": "9a0fd5dc",
   "metadata": {},
   "outputs": [],
   "source": [
    "#https://medium.com/swlh/how-to-run-chi-square-test-in-python-4e9f5d10249d\n",
    "    \n",
    "from scipy.stats import chi2_contingency\n",
    "\n",
    "# chi2 : float\n",
    "#     The test statistic.\n",
    "# p : float\n",
    "#     The p-value of the test\n",
    "# dof : int\n",
    "#     Degrees of freedom\n",
    "# expected : ndarray, same shape as `observed`\n",
    "#     The expected frequencies, based on the marginal sums of the table.\n",
    "\n",
    "chi2, p_value, dof, expected = chi2_contingency(cross_tab_result)"
   ]
  },
  {
   "cell_type": "code",
   "execution_count": 9,
   "id": "a4dd98f9",
   "metadata": {},
   "outputs": [
    {
     "name": "stdout",
     "output_type": "stream",
     "text": [
      "chi square result: 0.01 (chi2: 6.39)\n"
     ]
    },
    {
     "data": {
      "text/plain": [
       "array([[114.625,  16.375],\n",
       "       [ 11.375,   1.625]])"
      ]
     },
     "execution_count": 9,
     "metadata": {},
     "output_type": "execute_result"
    }
   ],
   "source": [
    "print(f\"chi square result: {p_value:.2f} (chi2: {chi2:.2f})\")\n",
    "expected"
   ]
  },
  {
   "cell_type": "code",
   "execution_count": 10,
   "id": "72549189",
   "metadata": {},
   "outputs": [
    {
     "data": {
      "text/html": [
       "<div>\n",
       "<style scoped>\n",
       "    .dataframe tbody tr th:only-of-type {\n",
       "        vertical-align: middle;\n",
       "    }\n",
       "\n",
       "    .dataframe tbody tr th {\n",
       "        vertical-align: top;\n",
       "    }\n",
       "\n",
       "    .dataframe thead th {\n",
       "        text-align: right;\n",
       "    }\n",
       "</style>\n",
       "<table border=\"1\" class=\"dataframe\">\n",
       "  <thead>\n",
       "    <tr style=\"text-align: right;\">\n",
       "      <th>Sin WiFi - Directamente</th>\n",
       "      <th>0</th>\n",
       "      <th>1</th>\n",
       "    </tr>\n",
       "    <tr>\n",
       "      <th>YouTube - Celular</th>\n",
       "      <th></th>\n",
       "      <th></th>\n",
       "    </tr>\n",
       "  </thead>\n",
       "  <tbody>\n",
       "    <tr>\n",
       "      <th>0</th>\n",
       "      <td>113</td>\n",
       "      <td>12</td>\n",
       "    </tr>\n",
       "    <tr>\n",
       "      <th>1</th>\n",
       "      <td>13</td>\n",
       "      <td>6</td>\n",
       "    </tr>\n",
       "  </tbody>\n",
       "</table>\n",
       "</div>"
      ],
      "text/plain": [
       "Sin WiFi - Directamente    0   1\n",
       "YouTube - Celular               \n",
       "0                        113  12\n",
       "1                         13   6"
      ]
     },
     "execution_count": 10,
     "metadata": {},
     "output_type": "execute_result"
    }
   ],
   "source": [
    "cross_tab_result = pd.crosstab(index=df_binary['YouTube - Celular'], columns=df_binary['Sin WiFi - Directamente'])\n",
    "cross_tab_result"
   ]
  },
  {
   "cell_type": "code",
   "execution_count": 11,
   "id": "bc39f466",
   "metadata": {},
   "outputs": [
    {
     "name": "stdout",
     "output_type": "stream",
     "text": [
      "chi square result: 0.02 (chi2: 5.41)\n"
     ]
    },
    {
     "data": {
      "text/plain": [
       "array([[109.375,  15.625],\n",
       "       [ 16.625,   2.375]])"
      ]
     },
     "execution_count": 11,
     "metadata": {},
     "output_type": "execute_result"
    }
   ],
   "source": [
    "chi2, p_value, dof, expected = chi2_contingency(cross_tab_result)\n",
    "\n",
    "print(f\"chi square result: {p_value:.2f} (chi2: {chi2:.2f})\")\n",
    "expected\n"
   ]
  },
  {
   "cell_type": "code",
   "execution_count": 12,
   "id": "c82d1e15",
   "metadata": {},
   "outputs": [
    {
     "data": {
      "text/html": [
       "<div>\n",
       "<style scoped>\n",
       "    .dataframe tbody tr th:only-of-type {\n",
       "        vertical-align: middle;\n",
       "    }\n",
       "\n",
       "    .dataframe tbody tr th {\n",
       "        vertical-align: top;\n",
       "    }\n",
       "\n",
       "    .dataframe thead th {\n",
       "        text-align: right;\n",
       "    }\n",
       "</style>\n",
       "<table border=\"1\" class=\"dataframe\">\n",
       "  <thead>\n",
       "    <tr style=\"text-align: right;\">\n",
       "      <th>Sin WiFi - Directamente</th>\n",
       "      <th>0</th>\n",
       "      <th>1</th>\n",
       "    </tr>\n",
       "    <tr>\n",
       "      <th>YouTube - Nube</th>\n",
       "      <th></th>\n",
       "      <th></th>\n",
       "    </tr>\n",
       "  </thead>\n",
       "  <tbody>\n",
       "    <tr>\n",
       "      <th>0</th>\n",
       "      <td>69</td>\n",
       "      <td>16</td>\n",
       "    </tr>\n",
       "    <tr>\n",
       "      <th>1</th>\n",
       "      <td>57</td>\n",
       "      <td>2</td>\n",
       "    </tr>\n",
       "  </tbody>\n",
       "</table>\n",
       "</div>"
      ],
      "text/plain": [
       "Sin WiFi - Directamente   0   1\n",
       "YouTube - Nube                 \n",
       "0                        69  16\n",
       "1                        57   2"
      ]
     },
     "execution_count": 12,
     "metadata": {},
     "output_type": "execute_result"
    }
   ],
   "source": [
    "cross_tab_result = pd.crosstab(index=df_binary['YouTube - Nube'], columns=df_binary['Sin WiFi - Directamente'])\n",
    "cross_tab_result"
   ]
  },
  {
   "cell_type": "code",
   "execution_count": 13,
   "id": "bbb66869",
   "metadata": {},
   "outputs": [
    {
     "name": "stdout",
     "output_type": "stream",
     "text": [
      "chi square result: 0.01 (chi2: 6.24)\n"
     ]
    },
    {
     "data": {
      "text/plain": [
       "array([[74.375, 10.625],\n",
       "       [51.625,  7.375]])"
      ]
     },
     "execution_count": 13,
     "metadata": {},
     "output_type": "execute_result"
    }
   ],
   "source": [
    "chi2, p_value, dof, expected = chi2_contingency(cross_tab_result)\n",
    "print(f\"chi square result: {p_value:.2f} (chi2: {chi2:.2f})\")\n",
    "expected"
   ]
  },
  {
   "cell_type": "code",
   "execution_count": 14,
   "id": "cde97a3c",
   "metadata": {},
   "outputs": [
    {
     "data": {
      "text/html": [
       "<div>\n",
       "<style scoped>\n",
       "    .dataframe tbody tr th:only-of-type {\n",
       "        vertical-align: middle;\n",
       "    }\n",
       "\n",
       "    .dataframe tbody tr th {\n",
       "        vertical-align: top;\n",
       "    }\n",
       "\n",
       "    .dataframe thead th {\n",
       "        text-align: right;\n",
       "    }\n",
       "</style>\n",
       "<table border=\"1\" class=\"dataframe\">\n",
       "  <thead>\n",
       "    <tr style=\"text-align: right;\">\n",
       "      <th>Sin WiFi - Directamente</th>\n",
       "      <th>0</th>\n",
       "      <th>1</th>\n",
       "    </tr>\n",
       "    <tr>\n",
       "      <th>YouTube - Muchísimas compus</th>\n",
       "      <th></th>\n",
       "      <th></th>\n",
       "    </tr>\n",
       "  </thead>\n",
       "  <tbody>\n",
       "    <tr>\n",
       "      <th>0</th>\n",
       "      <td>111</td>\n",
       "      <td>16</td>\n",
       "    </tr>\n",
       "    <tr>\n",
       "      <th>1</th>\n",
       "      <td>15</td>\n",
       "      <td>2</td>\n",
       "    </tr>\n",
       "  </tbody>\n",
       "</table>\n",
       "</div>"
      ],
      "text/plain": [
       "Sin WiFi - Directamente        0   1\n",
       "YouTube - Muchísimas compus         \n",
       "0                            111  16\n",
       "1                             15   2"
      ]
     },
     "execution_count": 14,
     "metadata": {},
     "output_type": "execute_result"
    }
   ],
   "source": [
    "cross_tab_result = pd.crosstab(index=df_binary['YouTube - Muchísimas compus'], \n",
    "                               columns=df_binary['Sin WiFi - Directamente'])\n",
    "cross_tab_result"
   ]
  },
  {
   "cell_type": "code",
   "execution_count": 15,
   "id": "5ac370fa",
   "metadata": {},
   "outputs": [
    {
     "name": "stdout",
     "output_type": "stream",
     "text": [
      "chi square result: 1.00 (chi2: 0.00)\n"
     ]
    },
    {
     "data": {
      "text/plain": [
       "array([[111.125,  15.875],\n",
       "       [ 14.875,   2.125]])"
      ]
     },
     "execution_count": 15,
     "metadata": {},
     "output_type": "execute_result"
    }
   ],
   "source": [
    "chi2, p_value, dof, expected = chi2_contingency(cross_tab_result)\n",
    "print(f\"chi square result: {p_value:.2f} (chi2: {chi2:.2f})\")\n",
    "expected\n"
   ]
  },
  {
   "cell_type": "code",
   "execution_count": 16,
   "id": "a8b4647a",
   "metadata": {},
   "outputs": [
    {
     "data": {
      "text/html": [
       "<div>\n",
       "<style scoped>\n",
       "    .dataframe tbody tr th:only-of-type {\n",
       "        vertical-align: middle;\n",
       "    }\n",
       "\n",
       "    .dataframe tbody tr th {\n",
       "        vertical-align: top;\n",
       "    }\n",
       "\n",
       "    .dataframe thead th {\n",
       "        text-align: right;\n",
       "    }\n",
       "</style>\n",
       "<table border=\"1\" class=\"dataframe\">\n",
       "  <thead>\n",
       "    <tr style=\"text-align: right;\">\n",
       "      <th>Sin WiFi - Nube</th>\n",
       "      <th>0</th>\n",
       "      <th>1</th>\n",
       "    </tr>\n",
       "    <tr>\n",
       "      <th>YouTube - Nube</th>\n",
       "      <th></th>\n",
       "      <th></th>\n",
       "    </tr>\n",
       "  </thead>\n",
       "  <tbody>\n",
       "    <tr>\n",
       "      <th>0</th>\n",
       "      <td>82</td>\n",
       "      <td>3</td>\n",
       "    </tr>\n",
       "    <tr>\n",
       "      <th>1</th>\n",
       "      <td>55</td>\n",
       "      <td>4</td>\n",
       "    </tr>\n",
       "  </tbody>\n",
       "</table>\n",
       "</div>"
      ],
      "text/plain": [
       "Sin WiFi - Nube   0  1\n",
       "YouTube - Nube        \n",
       "0                82  3\n",
       "1                55  4"
      ]
     },
     "execution_count": 16,
     "metadata": {},
     "output_type": "execute_result"
    }
   ],
   "source": [
    "cross_tab_result = pd.crosstab(index=df_binary['YouTube - Nube'], \n",
    "                               columns=df_binary['Sin WiFi - Nube'])\n",
    "cross_tab_result"
   ]
  },
  {
   "cell_type": "code",
   "execution_count": 17,
   "id": "3c1cef8f",
   "metadata": {},
   "outputs": [
    {
     "name": "stdout",
     "output_type": "stream",
     "text": [
      "chi square result: 0.62 (chi2: 0.25)\n"
     ]
    },
    {
     "data": {
      "text/plain": [
       "array([[80.86805556,  4.13194444],\n",
       "       [56.13194444,  2.86805556]])"
      ]
     },
     "execution_count": 17,
     "metadata": {},
     "output_type": "execute_result"
    }
   ],
   "source": [
    "chi2, p_value, dof, expected = chi2_contingency(cross_tab_result)\n",
    "print(f\"chi square result: {p_value:.2f} (chi2: {chi2:.2f})\")\n",
    "expected"
   ]
  },
  {
   "cell_type": "code",
   "execution_count": null,
   "id": "26f613ac",
   "metadata": {},
   "outputs": [],
   "source": []
  },
  {
   "cell_type": "markdown",
   "id": "48df1b98",
   "metadata": {},
   "source": [
    "## Borrar y Mandar Fotos"
   ]
  },
  {
   "cell_type": "code",
   "execution_count": 18,
   "id": "c7177687",
   "metadata": {},
   "outputs": [
    {
     "data": {
      "text/html": [
       "<div>\n",
       "<style scoped>\n",
       "    .dataframe tbody tr th:only-of-type {\n",
       "        vertical-align: middle;\n",
       "    }\n",
       "\n",
       "    .dataframe tbody tr th {\n",
       "        vertical-align: top;\n",
       "    }\n",
       "\n",
       "    .dataframe thead th {\n",
       "        text-align: right;\n",
       "    }\n",
       "</style>\n",
       "<table border=\"1\" class=\"dataframe\">\n",
       "  <thead>\n",
       "    <tr style=\"text-align: right;\">\n",
       "      <th></th>\n",
       "      <th>Borrar - En el chat</th>\n",
       "      <th>Borrar - En mi celu</th>\n",
       "      <th>Borrar - No puedo</th>\n",
       "      <th>Borrar - No sé</th>\n",
       "      <th>Mandar - copia</th>\n",
       "      <th>Mandar - En WhatsApp</th>\n",
       "      <th>Mandar - En mi celu</th>\n",
       "      <th>Mandar - No sé</th>\n",
       "    </tr>\n",
       "  </thead>\n",
       "  <tbody>\n",
       "    <tr>\n",
       "      <th>0</th>\n",
       "      <td>1</td>\n",
       "      <td>0</td>\n",
       "      <td>0</td>\n",
       "      <td>0</td>\n",
       "      <td>0</td>\n",
       "      <td>1</td>\n",
       "      <td>0</td>\n",
       "      <td>0</td>\n",
       "    </tr>\n",
       "    <tr>\n",
       "      <th>1</th>\n",
       "      <td>0</td>\n",
       "      <td>0</td>\n",
       "      <td>1</td>\n",
       "      <td>0</td>\n",
       "      <td>0</td>\n",
       "      <td>1</td>\n",
       "      <td>0</td>\n",
       "      <td>0</td>\n",
       "    </tr>\n",
       "    <tr>\n",
       "      <th>2</th>\n",
       "      <td>1</td>\n",
       "      <td>0</td>\n",
       "      <td>0</td>\n",
       "      <td>0</td>\n",
       "      <td>1</td>\n",
       "      <td>0</td>\n",
       "      <td>0</td>\n",
       "      <td>0</td>\n",
       "    </tr>\n",
       "    <tr>\n",
       "      <th>3</th>\n",
       "      <td>1</td>\n",
       "      <td>0</td>\n",
       "      <td>0</td>\n",
       "      <td>0</td>\n",
       "      <td>1</td>\n",
       "      <td>0</td>\n",
       "      <td>0</td>\n",
       "      <td>0</td>\n",
       "    </tr>\n",
       "    <tr>\n",
       "      <th>4</th>\n",
       "      <td>1</td>\n",
       "      <td>0</td>\n",
       "      <td>0</td>\n",
       "      <td>0</td>\n",
       "      <td>0</td>\n",
       "      <td>0</td>\n",
       "      <td>1</td>\n",
       "      <td>0</td>\n",
       "    </tr>\n",
       "  </tbody>\n",
       "</table>\n",
       "</div>"
      ],
      "text/plain": [
       "   Borrar - En el chat  Borrar - En mi celu  Borrar - No puedo  \\\n",
       "0                    1                    0                  0   \n",
       "1                    0                    0                  1   \n",
       "2                    1                    0                  0   \n",
       "3                    1                    0                  0   \n",
       "4                    1                    0                  0   \n",
       "\n",
       "   Borrar - No sé  Mandar - copia  Mandar - En WhatsApp  Mandar - En mi celu  \\\n",
       "0               0               0                     1                    0   \n",
       "1               0               0                     1                    0   \n",
       "2               0               1                     0                    0   \n",
       "3               0               1                     0                    0   \n",
       "4               0               0                     0                    1   \n",
       "\n",
       "   Mandar - No sé  \n",
       "0               0  \n",
       "1               0  \n",
       "2               0  \n",
       "3               0  \n",
       "4               0  "
      ]
     },
     "execution_count": 18,
     "metadata": {},
     "output_type": "execute_result"
    }
   ],
   "source": [
    "df_borrar_mandar =  df[['q_borrar_fotos', 'q_mandar_fotos']].copy()\n",
    "\n",
    "df_binary_borrar_mandar = pd.concat([pd.get_dummies(df_borrar_mandar['q_borrar_fotos']), \n",
    "                    pd.get_dummies(df_borrar_mandar['q_mandar_fotos'])], \n",
    "                   axis=1)\n",
    "\n",
    "df_binary_borrar_mandar = df_binary_borrar_mandar.rename(columns={\"a_borrar_fotos_enelchat\": \"Borrar - En el chat\",\n",
    "                                  \"a_borrar_fotos_enmicelu\": \"Borrar - En mi celu\",\n",
    "                                  \"a_borrar_fotos_nopuedo\": \"Borrar - No puedo\",\n",
    "                                  \"a_borrar_fotos_nose\": \"Borrar - No sé\",\n",
    "                                  \"a_mandar_fotos_copia\": \"Mandar - copia\",\n",
    "                                  \"a_mandar_fotos_enwa\": \"Mandar - En WhatsApp\",\n",
    "                                  \"a_mandar_fotos_laveenmicelu\": \"Mandar - En mi celu\",\n",
    "                                  \"a_mandar_fotos_nose\": \"Mandar - No sé\"})\n",
    "\n",
    "\n",
    "df_binary_borrar_mandar.head()"
   ]
  },
  {
   "cell_type": "code",
   "execution_count": 19,
   "id": "cb47f17f",
   "metadata": {},
   "outputs": [
    {
     "data": {
      "image/png": "[encoded data removed]",
      "text/plain": [
       "<Figure size 432x288 with 2 Axes>"
      ]
     },
     "metadata": {
      "needs_background": "light"
     },
     "output_type": "display_data"
    }
   ],
   "source": [
    "sns.heatmap(df_binary_borrar_mandar.corr().iloc[:4,4:], cmap='RdBu_r', vmax=1, vmin=-1);"
   ]
  },
  {
   "cell_type": "code",
   "execution_count": 20,
   "id": "39b69450",
   "metadata": {},
   "outputs": [
    {
     "data": {
      "text/html": [
       "<div>\n",
       "<style scoped>\n",
       "    .dataframe tbody tr th:only-of-type {\n",
       "        vertical-align: middle;\n",
       "    }\n",
       "\n",
       "    .dataframe tbody tr th {\n",
       "        vertical-align: top;\n",
       "    }\n",
       "\n",
       "    .dataframe thead th {\n",
       "        text-align: right;\n",
       "    }\n",
       "</style>\n",
       "<table border=\"1\" class=\"dataframe\">\n",
       "  <thead>\n",
       "    <tr style=\"text-align: right;\">\n",
       "      <th>Mandar - copia</th>\n",
       "      <th>0</th>\n",
       "      <th>1</th>\n",
       "    </tr>\n",
       "    <tr>\n",
       "      <th>Borrar - No puedo</th>\n",
       "      <th></th>\n",
       "      <th></th>\n",
       "    </tr>\n",
       "  </thead>\n",
       "  <tbody>\n",
       "    <tr>\n",
       "      <th>0</th>\n",
       "      <td>65</td>\n",
       "      <td>24</td>\n",
       "    </tr>\n",
       "    <tr>\n",
       "      <th>1</th>\n",
       "      <td>14</td>\n",
       "      <td>41</td>\n",
       "    </tr>\n",
       "  </tbody>\n",
       "</table>\n",
       "</div>"
      ],
      "text/plain": [
       "Mandar - copia      0   1\n",
       "Borrar - No puedo        \n",
       "0                  65  24\n",
       "1                  14  41"
      ]
     },
     "execution_count": 20,
     "metadata": {},
     "output_type": "execute_result"
    }
   ],
   "source": [
    "cross_tab_result = pd.crosstab(index=df_binary_borrar_mandar['Borrar - No puedo'], \n",
    "                               columns=df_binary_borrar_mandar['Mandar - copia'])\n",
    "cross_tab_result"
   ]
  },
  {
   "cell_type": "code",
   "execution_count": 21,
   "id": "a46997aa",
   "metadata": {},
   "outputs": [
    {
     "name": "stdout",
     "output_type": "stream",
     "text": [
      "chi square result: 0.00 (chi2: 29.18)\n"
     ]
    },
    {
     "data": {
      "text/plain": [
       "array([[48.82638889, 40.17361111],\n",
       "       [30.17361111, 24.82638889]])"
      ]
     },
     "execution_count": 21,
     "metadata": {},
     "output_type": "execute_result"
    }
   ],
   "source": [
    "chi2, p_value, dof, expected = chi2_contingency(cross_tab_result)\n",
    "print(f\"chi square result: {p_value:.2f} (chi2: {chi2:.2f})\")\n",
    "expected"
   ]
  },
  {
   "cell_type": "code",
   "execution_count": 22,
   "id": "ffa0e39c",
   "metadata": {},
   "outputs": [
    {
     "data": {
      "text/html": [
       "<div>\n",
       "<style scoped>\n",
       "    .dataframe tbody tr th:only-of-type {\n",
       "        vertical-align: middle;\n",
       "    }\n",
       "\n",
       "    .dataframe tbody tr th {\n",
       "        vertical-align: top;\n",
       "    }\n",
       "\n",
       "    .dataframe thead th {\n",
       "        text-align: right;\n",
       "    }\n",
       "</style>\n",
       "<table border=\"1\" class=\"dataframe\">\n",
       "  <thead>\n",
       "    <tr style=\"text-align: right;\">\n",
       "      <th>Mandar - No sé</th>\n",
       "      <th>0</th>\n",
       "      <th>1</th>\n",
       "    </tr>\n",
       "    <tr>\n",
       "      <th>Borrar - No sé</th>\n",
       "      <th></th>\n",
       "      <th></th>\n",
       "    </tr>\n",
       "  </thead>\n",
       "  <tbody>\n",
       "    <tr>\n",
       "      <th>0</th>\n",
       "      <td>120</td>\n",
       "      <td>12</td>\n",
       "    </tr>\n",
       "    <tr>\n",
       "      <th>1</th>\n",
       "      <td>6</td>\n",
       "      <td>6</td>\n",
       "    </tr>\n",
       "  </tbody>\n",
       "</table>\n",
       "</div>"
      ],
      "text/plain": [
       "Mandar - No sé    0   1\n",
       "Borrar - No sé         \n",
       "0               120  12\n",
       "1                 6   6"
      ]
     },
     "execution_count": 22,
     "metadata": {},
     "output_type": "execute_result"
    }
   ],
   "source": [
    "cross_tab_result = pd.crosstab(index=df_binary_borrar_mandar['Borrar - No sé'], \n",
    "                               columns=df_binary_borrar_mandar['Mandar - No sé'])\n",
    "cross_tab_result"
   ]
  },
  {
   "cell_type": "code",
   "execution_count": 23,
   "id": "5a7a9856",
   "metadata": {},
   "outputs": [
    {
     "name": "stdout",
     "output_type": "stream",
     "text": [
      "chi square result: 0.00 (chi2: 13.30)\n"
     ]
    },
    {
     "data": {
      "text/plain": [
       "array([[115.5,  16.5],\n",
       "       [ 10.5,   1.5]])"
      ]
     },
     "execution_count": 23,
     "metadata": {},
     "output_type": "execute_result"
    }
   ],
   "source": [
    "chi2, p_value, dof, expected = chi2_contingency(cross_tab_result)\n",
    "print(f\"chi square result: {p_value:.2f} (chi2: {chi2:.2f})\")\n",
    "expected"
   ]
  },
  {
   "cell_type": "code",
   "execution_count": 24,
   "id": "3638ace6",
   "metadata": {},
   "outputs": [
    {
     "data": {
      "text/html": [
       "<div>\n",
       "<style scoped>\n",
       "    .dataframe tbody tr th:only-of-type {\n",
       "        vertical-align: middle;\n",
       "    }\n",
       "\n",
       "    .dataframe tbody tr th {\n",
       "        vertical-align: top;\n",
       "    }\n",
       "\n",
       "    .dataframe thead th {\n",
       "        text-align: right;\n",
       "    }\n",
       "</style>\n",
       "<table border=\"1\" class=\"dataframe\">\n",
       "  <thead>\n",
       "    <tr style=\"text-align: right;\">\n",
       "      <th>Mandar - En WhatsApp</th>\n",
       "      <th>0</th>\n",
       "      <th>1</th>\n",
       "    </tr>\n",
       "    <tr>\n",
       "      <th>Borrar - En el chat</th>\n",
       "      <th></th>\n",
       "      <th></th>\n",
       "    </tr>\n",
       "  </thead>\n",
       "  <tbody>\n",
       "    <tr>\n",
       "      <th>0</th>\n",
       "      <td>54</td>\n",
       "      <td>15</td>\n",
       "    </tr>\n",
       "    <tr>\n",
       "      <th>1</th>\n",
       "      <td>37</td>\n",
       "      <td>38</td>\n",
       "    </tr>\n",
       "  </tbody>\n",
       "</table>\n",
       "</div>"
      ],
      "text/plain": [
       "Mandar - En WhatsApp   0   1\n",
       "Borrar - En el chat         \n",
       "0                     54  15\n",
       "1                     37  38"
      ]
     },
     "execution_count": 24,
     "metadata": {},
     "output_type": "execute_result"
    }
   ],
   "source": [
    "\n",
    "cross_tab_result = pd.crosstab(index=df_binary_borrar_mandar['Borrar - En el chat'], \n",
    "                               columns=df_binary_borrar_mandar['Mandar - En WhatsApp'])\n",
    "cross_tab_result\n"
   ]
  },
  {
   "cell_type": "code",
   "execution_count": 25,
   "id": "4c3f002a",
   "metadata": {},
   "outputs": [
    {
     "name": "stdout",
     "output_type": "stream",
     "text": [
      "chi square result: 0.00 (chi2: 11.72)\n"
     ]
    },
    {
     "data": {
      "text/plain": [
       "array([[43.60416667, 25.39583333],\n",
       "       [47.39583333, 27.60416667]])"
      ]
     },
     "execution_count": 25,
     "metadata": {},
     "output_type": "execute_result"
    }
   ],
   "source": [
    "chi2, p_value, dof, expected = chi2_contingency(cross_tab_result)\n",
    "print(f\"chi square result: {p_value:.2f} (chi2: {chi2:.2f})\")\n",
    "expected"
   ]
  },
  {
   "cell_type": "code",
   "execution_count": 26,
   "id": "31e79283",
   "metadata": {},
   "outputs": [
    {
     "data": {
      "text/html": [
       "<div>\n",
       "<style scoped>\n",
       "    .dataframe tbody tr th:only-of-type {\n",
       "        vertical-align: middle;\n",
       "    }\n",
       "\n",
       "    .dataframe tbody tr th {\n",
       "        vertical-align: top;\n",
       "    }\n",
       "\n",
       "    .dataframe thead th {\n",
       "        text-align: right;\n",
       "    }\n",
       "</style>\n",
       "<table border=\"1\" class=\"dataframe\">\n",
       "  <thead>\n",
       "    <tr style=\"text-align: right;\">\n",
       "      <th>Mandar - copia</th>\n",
       "      <th>0</th>\n",
       "      <th>1</th>\n",
       "    </tr>\n",
       "    <tr>\n",
       "      <th>Borrar - En el chat</th>\n",
       "      <th></th>\n",
       "      <th></th>\n",
       "    </tr>\n",
       "  </thead>\n",
       "  <tbody>\n",
       "    <tr>\n",
       "      <th>0</th>\n",
       "      <td>26</td>\n",
       "      <td>43</td>\n",
       "    </tr>\n",
       "    <tr>\n",
       "      <th>1</th>\n",
       "      <td>53</td>\n",
       "      <td>22</td>\n",
       "    </tr>\n",
       "  </tbody>\n",
       "</table>\n",
       "</div>"
      ],
      "text/plain": [
       "Mandar - copia        0   1\n",
       "Borrar - En el chat        \n",
       "0                    26  43\n",
       "1                    53  22"
      ]
     },
     "execution_count": 26,
     "metadata": {},
     "output_type": "execute_result"
    }
   ],
   "source": [
    "cross_tab_result = pd.crosstab(index=df_binary_borrar_mandar['Borrar - En el chat'], \n",
    "                               columns=df_binary_borrar_mandar['Mandar - copia'])\n",
    "cross_tab_result"
   ]
  },
  {
   "cell_type": "code",
   "execution_count": 27,
   "id": "d3edfdaf",
   "metadata": {},
   "outputs": [
    {
     "name": "stdout",
     "output_type": "stream",
     "text": [
      "chi square result: 0.00 (chi2: 14.49)\n"
     ]
    },
    {
     "data": {
      "text/plain": [
       "array([[37.85416667, 31.14583333],\n",
       "       [41.14583333, 33.85416667]])"
      ]
     },
     "execution_count": 27,
     "metadata": {},
     "output_type": "execute_result"
    }
   ],
   "source": [
    "chi2, p_value, dof, expected = chi2_contingency(cross_tab_result)\n",
    "print(f\"chi square result: {p_value:.2f} (chi2: {chi2:.2f})\")\n",
    "expected\n"
   ]
  },
  {
   "cell_type": "code",
   "execution_count": 28,
   "id": "e20d5e15",
   "metadata": {},
   "outputs": [
    {
     "data": {
      "text/html": [
       "<div>\n",
       "<style scoped>\n",
       "    .dataframe tbody tr th:only-of-type {\n",
       "        vertical-align: middle;\n",
       "    }\n",
       "\n",
       "    .dataframe tbody tr th {\n",
       "        vertical-align: top;\n",
       "    }\n",
       "\n",
       "    .dataframe thead th {\n",
       "        text-align: right;\n",
       "    }\n",
       "</style>\n",
       "<table border=\"1\" class=\"dataframe\">\n",
       "  <thead>\n",
       "    <tr style=\"text-align: right;\">\n",
       "      <th>Mandar - En WhatsApp</th>\n",
       "      <th>0</th>\n",
       "      <th>1</th>\n",
       "    </tr>\n",
       "    <tr>\n",
       "      <th>Borrar - No puedo</th>\n",
       "      <th></th>\n",
       "      <th></th>\n",
       "    </tr>\n",
       "  </thead>\n",
       "  <tbody>\n",
       "    <tr>\n",
       "      <th>0</th>\n",
       "      <td>47</td>\n",
       "      <td>42</td>\n",
       "    </tr>\n",
       "    <tr>\n",
       "      <th>1</th>\n",
       "      <td>44</td>\n",
       "      <td>11</td>\n",
       "    </tr>\n",
       "  </tbody>\n",
       "</table>\n",
       "</div>"
      ],
      "text/plain": [
       "Mandar - En WhatsApp   0   1\n",
       "Borrar - No puedo           \n",
       "0                     47  42\n",
       "1                     44  11"
      ]
     },
     "execution_count": 28,
     "metadata": {},
     "output_type": "execute_result"
    }
   ],
   "source": [
    "cross_tab_result = pd.crosstab(index=df_binary_borrar_mandar['Borrar - No puedo'], \n",
    "                               columns=df_binary_borrar_mandar['Mandar - En WhatsApp'])\n",
    "cross_tab_result"
   ]
  },
  {
   "cell_type": "code",
   "execution_count": 29,
   "id": "c69ecbed",
   "metadata": {},
   "outputs": [
    {
     "name": "stdout",
     "output_type": "stream",
     "text": [
      "chi square result: 0.00 (chi2: 9.67)\n"
     ]
    },
    {
     "data": {
      "text/plain": [
       "array([[56.24305556, 32.75694444],\n",
       "       [34.75694444, 20.24305556]])"
      ]
     },
     "execution_count": 29,
     "metadata": {},
     "output_type": "execute_result"
    }
   ],
   "source": [
    "chi2, p_value, dof, expected = chi2_contingency(cross_tab_result)\n",
    "print(f\"chi square result: {p_value:.2f} (chi2: {chi2:.2f})\")\n",
    "expected"
   ]
  },
  {
   "cell_type": "code",
   "execution_count": null,
   "id": "13d85df2",
   "metadata": {},
   "outputs": [],
   "source": []
  }
 ],
 "metadata": {
  "kernelspec": {
   "display_name": "Python 3",
   "language": "python",
   "name": "python3"
  },
  "language_info": {
   "codemirror_mode": {
    "name": "ipython",
    "version": 3
   },
   "file_extension": ".py",
   "mimetype": "text/x-python",
   "name": "python",
   "nbconvert_exporter": "python",
   "pygments_lexer": "ipython3",
   "version": "3.7.10"
  }
 },
 "nbformat": 4,
 "nbformat_minor": 5
}
