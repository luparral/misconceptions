{
 "cells": [
  {
   "cell_type": "code",
   "execution_count": 1,
   "id": "ec54682a",
   "metadata": {},
   "outputs": [],
   "source": [
    "import pandas as pd\n",
    "import matplotlib.pyplot as plt\n",
    "\n",
    "%matplotlib inline\n"
   ]
  },
  {
   "cell_type": "code",
   "execution_count": 2,
   "id": "905fc56a",
   "metadata": {},
   "outputs": [
    {
     "data": {
      "text/plain": [
       "(144, 15)"
      ]
     },
     "execution_count": 2,
     "metadata": {},
     "output_type": "execute_result"
    }
   ],
   "source": [
    "df = pd.read_csv(\"../data/respuestas.csv\")\n",
    "df.shape"
   ]
  },
  {
   "cell_type": "code",
   "execution_count": 3,
   "id": "592a1e81",
   "metadata": {},
   "outputs": [
    {
     "data": {
      "image/png": "[encoded data removed]",
      "text/plain": [
       "<Figure size 432x288 with 1 Axes>"
      ]
     },
     "metadata": {
      "needs_background": "light"
     },
     "output_type": "display_data"
    }
   ],
   "source": [
    "# idea: agrupar por una caracteristica y ver si hay un patron en las respuestas\n",
    "counts = df.groupby(\"q_genero\")[\"q_que_celu_usas\"].value_counts().unstack()\n",
    "counts.div(counts.sum(axis=1), axis=0).plot.bar(stacked=True)\n",
    "plt.legend(loc=(1.1, 0.1));"
   ]
  },
  {
   "cell_type": "code",
   "execution_count": 4,
   "id": "3114fcb6",
   "metadata": {},
   "outputs": [
    {
     "ename": "NameError",
     "evalue": "name 'question_q1' is not defined",
     "output_type": "error",
     "traceback": [
      "\u001b[0;31m---------------------------------------------------------------------------\u001b[0m",
      "\u001b[0;31mNameError\u001b[0m                                 Traceback (most recent call last)",
      "\u001b[0;32m<ipython-input-4-7bfb5509edf6>\u001b[0m in \u001b[0;36m<module>\u001b[0;34m\u001b[0m\n\u001b[0;32m----> 1\u001b[0;31m \u001b[0;34m(\u001b[0m\u001b[0mdf\u001b[0m\u001b[0;34m[\u001b[0m\u001b[0mquestion_q1\u001b[0m\u001b[0;34m]\u001b[0m \u001b[0;34m!=\u001b[0m \u001b[0manswer_q1\u001b[0m\u001b[0;34m)\u001b[0m\u001b[0;34m.\u001b[0m\u001b[0mhead\u001b[0m\u001b[0;34m(\u001b[0m\u001b[0;36m30\u001b[0m\u001b[0;34m)\u001b[0m\u001b[0;34m\u001b[0m\u001b[0;34m\u001b[0m\u001b[0m\n\u001b[0m",
      "\u001b[0;31mNameError\u001b[0m: name 'question_q1' is not defined"
     ]
    }
   ],
   "source": [
    "(df[question_q1] != answer_q1).head(30)"
   ]
  },
  {
   "cell_type": "code",
   "execution_count": null,
   "id": "b3a6a35a",
   "metadata": {},
   "outputs": [],
   "source": [
    "# idea 2: calcular proporcion de missconcepions en cada pregunta\n",
    "question_q1 = \"¿Dónde se almacenan los videos que están en YouTube?\"\n",
    "answer_q1 = \"En muchísimas computadoras (tantas que podrían llenar una cancha de fútbol)\"\n",
    "na_q1 = \"No sé\"\n",
    "df[\"missconception_q1\"] = (df[question_q1] != answer_q1) & (df[question_q1] != na_q1)\n",
    "df[\"missconception_q1\"].value_counts()"
   ]
  },
  {
   "cell_type": "code",
   "execution_count": null,
   "id": "44f97ed8",
   "metadata": {},
   "outputs": [],
   "source": [
    "question_2 = \"¿Quién tiene acceso a las fotos que tengo guardadas en mi celular?\"\n",
    "answer_q2 = \"Yo y otras personas.\"\n",
    "df[\"missconception_q2\"] = df[question_2] != answer_q2\n",
    "df[\"missconception_q2\"].value_counts()"
   ]
  },
  {
   "cell_type": "code",
   "execution_count": null,
   "id": "76f2e23c",
   "metadata": {},
   "outputs": [],
   "source": [
    "question_3 = \"Cuando le mando a una amiga una foto por WhatsApp...\"\n",
    "answer_q3 = \"La foto ahora existe en WhatsApp y mi amiga la puede ver cuando mira nuestro chat.\"\n",
    "df[\"missconception_q3\"] = df[question_3] != answer_q3\n",
    "df[\"missconception_q3\"].value_counts()"
   ]
  },
  {
   "cell_type": "code",
   "execution_count": null,
   "id": "0002c51b",
   "metadata": {},
   "outputs": [],
   "source": [
    "df[[\"missconception_q1\", \"missconception_q2\", \"missconception_q3\"]].head()"
   ]
  },
  {
   "cell_type": "code",
   "execution_count": null,
   "id": "7df6ca92",
   "metadata": {},
   "outputs": [],
   "source": [
    "# chi square"
   ]
  },
  {
   "cell_type": "code",
   "execution_count": null,
   "id": "ea1436ba",
   "metadata": {},
   "outputs": [],
   "source": [
    "# exploratory data analysis\n",
    "# cleaning, preprocessing => renombrar columnas, normalizar las respuestas (e.g. \"no se.\" => \"no sé\")\n",
    "# descriptive analysis (how many missconceptions, what are the questions that students failed the most, etc.)\n",
    "# 0 y 10 missconception => barplot x: numero de missconceptions, y: cantidad de estudiantes"
   ]
  },
  {
   "cell_type": "code",
   "execution_count": null,
   "id": "73479403",
   "metadata": {},
   "outputs": [],
   "source": [
    "df['num_missconception'] = df['missconception_q1'].astype('int') +\\\n",
    "                           df['missconception_q2'].astype('int') +\\\n",
    "                           df['missconception_q3'].astype('int')\n",
    "df['num_missconception'].head()"
   ]
  },
  {
   "cell_type": "code",
   "execution_count": null,
   "id": "59b3eab3",
   "metadata": {},
   "outputs": [],
   "source": []
  },
  {
   "cell_type": "code",
   "execution_count": null,
   "id": "ef0a654c",
   "metadata": {},
   "outputs": [],
   "source": [
    "df['num_missconception'].value_counts().sort_index().plot.bar();"
   ]
  },
  {
   "cell_type": "code",
   "execution_count": null,
   "id": "e7c75145",
   "metadata": {},
   "outputs": [],
   "source": []
  },
  {
   "cell_type": "code",
   "execution_count": null,
   "id": "671da0cf",
   "metadata": {},
   "outputs": [],
   "source": []
  }
 ],
 "metadata": {
  "kernelspec": {
   "display_name": "Python 3",
   "language": "python",
   "name": "python3"
  },
  "language_info": {
   "codemirror_mode": {
    "name": "ipython",
    "version": 3
   },
   "file_extension": ".py",
   "mimetype": "text/x-python",
   "name": "python",
   "nbconvert_exporter": "python",
   "pygments_lexer": "ipython3",
   "version": "3.7.10"
  }
 },
 "nbformat": 4,
 "nbformat_minor": 5
}
