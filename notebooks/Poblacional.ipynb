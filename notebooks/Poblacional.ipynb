{
 "cells": [
  {
   "cell_type": "code",
   "execution_count": 1,
   "id": "d87faddb",
   "metadata": {},
   "outputs": [],
   "source": [
    "import pandas as pd\n",
    "import numpy as np\n",
    "import matplotlib.pyplot as plt\n",
    "import seaborn as sns\n",
    "sns.set_style('whitegrid')\n",
    "sns.set_palette(\"Set2\")\n",
    "\n",
    "%matplotlib inline"
   ]
  },
  {
   "cell_type": "code",
   "execution_count": 2,
   "id": "5a5c8d3e",
   "metadata": {},
   "outputs": [],
   "source": [
    "# !pip install seaborn"
   ]
  },
  {
   "cell_type": "markdown",
   "id": "753a638d",
   "metadata": {},
   "source": [
    "# Read data"
   ]
  },
  {
   "cell_type": "code",
   "execution_count": 3,
   "id": "86c6a85d",
   "metadata": {},
   "outputs": [
    {
     "data": {
      "text/plain": [
       "(144, 17)"
      ]
     },
     "execution_count": 3,
     "metadata": {},
     "output_type": "execute_result"
    }
   ],
   "source": [
    "df = pd.read_csv(\"../data/respuestas.csv\")\n",
    "df.shape"
   ]
  },
  {
   "cell_type": "code",
   "execution_count": 4,
   "id": "996dc440",
   "metadata": {},
   "outputs": [
    {
     "data": {
      "text/html": [
       "<div>\n",
       "<style scoped>\n",
       "    .dataframe tbody tr th:only-of-type {\n",
       "        vertical-align: middle;\n",
       "    }\n",
       "\n",
       "    .dataframe tbody tr th {\n",
       "        vertical-align: top;\n",
       "    }\n",
       "\n",
       "    .dataframe thead th {\n",
       "        text-align: right;\n",
       "    }\n",
       "</style>\n",
       "<table border=\"1\" class=\"dataframe\">\n",
       "  <thead>\n",
       "    <tr style=\"text-align: right;\">\n",
       "      <th></th>\n",
       "      <th>0</th>\n",
       "      <th>1</th>\n",
       "      <th>2</th>\n",
       "      <th>3</th>\n",
       "      <th>4</th>\n",
       "    </tr>\n",
       "  </thead>\n",
       "  <tbody>\n",
       "    <tr>\n",
       "      <th>timestamp</th>\n",
       "      <td>3/12/2021 19:15:01</td>\n",
       "      <td>3/17/2021 21:12:19</td>\n",
       "      <td>3/18/2021 21:28:35</td>\n",
       "      <td>3/26/2021 22:14:29</td>\n",
       "      <td>4/19/2021 13:40:42</td>\n",
       "    </tr>\n",
       "    <tr>\n",
       "      <th>q_edad</th>\n",
       "      <td>10</td>\n",
       "      <td>9</td>\n",
       "      <td>10</td>\n",
       "      <td>9</td>\n",
       "      <td>9</td>\n",
       "    </tr>\n",
       "    <tr>\n",
       "      <th>q_genero</th>\n",
       "      <td>f</td>\n",
       "      <td>f</td>\n",
       "      <td>m</td>\n",
       "      <td>f</td>\n",
       "      <td>f</td>\n",
       "    </tr>\n",
       "    <tr>\n",
       "      <th>q_donde_compu</th>\n",
       "      <td>a_donde_compu_casa</td>\n",
       "      <td>a_donde_compu_casa</td>\n",
       "      <td>a_donde_compu_casa</td>\n",
       "      <td>a_donde_compu_casa</td>\n",
       "      <td>a_donde_compu_casa</td>\n",
       "    </tr>\n",
       "    <tr>\n",
       "      <th>q_que_haces_compu</th>\n",
       "      <td>a_que_haces_compu_videos, a_que_haces_compu_tarea</td>\n",
       "      <td>a_que_haces_compu_juegos</td>\n",
       "      <td>a_que_haces_compu_videos</td>\n",
       "      <td>a_que_haces_compu_juegos, a_que_haces_compu_vi...</td>\n",
       "      <td>a_que_haces_compu_juegos, a_que_haces_compu_vi...</td>\n",
       "    </tr>\n",
       "    <tr>\n",
       "      <th>q_donde_aprendiste_compu</th>\n",
       "      <td>a_donde_aprendiste_compu_casa</td>\n",
       "      <td>a_donde_aprendiste_compu_solo</td>\n",
       "      <td>a_donde_aprendiste_compu_escuela</td>\n",
       "      <td>a_donde_aprendiste_compu_casa, a_donde_aprendi...</td>\n",
       "      <td>a_donde_aprendiste_compu_casa</td>\n",
       "    </tr>\n",
       "    <tr>\n",
       "      <th>q_que_celu_usas</th>\n",
       "      <td>a_que_celu_usas_propio</td>\n",
       "      <td>a_que_celu_usas_propio</td>\n",
       "      <td>a_que_celu_usas_propio</td>\n",
       "      <td>a_que_celu_usas_prestado</td>\n",
       "      <td>a_que_celu_usas_propio</td>\n",
       "    </tr>\n",
       "    <tr>\n",
       "      <th>q_que_haces_celu</th>\n",
       "      <td>a_que_haces_celu_chat, a_que_haces_celu_videos...</td>\n",
       "      <td>a_que_haces_celu_redes</td>\n",
       "      <td>a_que_haces_celu_juegos</td>\n",
       "      <td>a_que_haces_celu_chat, a_que_haces_celu_telefo...</td>\n",
       "      <td>a_que_haces_celu_chat</td>\n",
       "    </tr>\n",
       "    <tr>\n",
       "      <th>q_yt</th>\n",
       "      <td>a_yt_1compu</td>\n",
       "      <td>a_yt_1compu</td>\n",
       "      <td>a_yt_muchascompu</td>\n",
       "      <td>a_yt_nose</td>\n",
       "      <td>a_yt_celular</td>\n",
       "    </tr>\n",
       "    <tr>\n",
       "      <th>q_acceso_fotos</th>\n",
       "      <td>a_acceso_fotos_yoyotros</td>\n",
       "      <td>a_acceso_fotos_yo</td>\n",
       "      <td>a_acceso_fotos_yo</td>\n",
       "      <td>a_acceso_fotos_yoyotros</td>\n",
       "      <td>a_acceso_fotos_yo</td>\n",
       "    </tr>\n",
       "    <tr>\n",
       "      <th>q_mandar_fotos</th>\n",
       "      <td>a_mandar_fotos_enwa</td>\n",
       "      <td>a_mandar_fotos_enwa</td>\n",
       "      <td>a_mandar_fotos_copia</td>\n",
       "      <td>a_mandar_fotos_copia</td>\n",
       "      <td>a_mandar_fotos_laveenmicelu</td>\n",
       "    </tr>\n",
       "    <tr>\n",
       "      <th>q_mandar_fotos_agrup</th>\n",
       "      <td>referencia</td>\n",
       "      <td>referencia</td>\n",
       "      <td>copia</td>\n",
       "      <td>copia</td>\n",
       "      <td>referencia</td>\n",
       "    </tr>\n",
       "    <tr>\n",
       "      <th>q_borrar_fotos</th>\n",
       "      <td>a_borrar_fotos_enelchat</td>\n",
       "      <td>a_borrar_fotos_nopuedo</td>\n",
       "      <td>a_borrar_fotos_enelchat</td>\n",
       "      <td>a_borrar_fotos_enelchat</td>\n",
       "      <td>a_borrar_fotos_enelchat</td>\n",
       "    </tr>\n",
       "    <tr>\n",
       "      <th>q_mensaje_sin_wifi</th>\n",
       "      <td>a_mensaje_sin_wifi_directo</td>\n",
       "      <td>a_mensaje_sin_wifi_nube</td>\n",
       "      <td>a_mensaje_sin_wifi_red</td>\n",
       "      <td>a_mensaje_sin_wifi_directo</td>\n",
       "      <td>a_mensaje_sin_wifi_directo</td>\n",
       "    </tr>\n",
       "    <tr>\n",
       "      <th>q_mensaje_sin_wifi_agrup</th>\n",
       "      <td>otras</td>\n",
       "      <td>otras</td>\n",
       "      <td>red</td>\n",
       "      <td>otras</td>\n",
       "      <td>otras</td>\n",
       "    </tr>\n",
       "    <tr>\n",
       "      <th>q_gratuidad</th>\n",
       "      <td>a_gratuidad_publicidades, a_gratuidad_paraquet...</td>\n",
       "      <td>a_gratuidad_yatienenplata</td>\n",
       "      <td>a_gratuidad_datos</td>\n",
       "      <td>a_gratuidad_datos, a_gratuidad_paraquetodoslas...</td>\n",
       "      <td>a_gratuidad_yatienenplata</td>\n",
       "    </tr>\n",
       "    <tr>\n",
       "      <th>q_escuela</th>\n",
       "      <td>a_escuela_piloteo</td>\n",
       "      <td>a_escuela_piloteo</td>\n",
       "      <td>a_escuela_piloteo</td>\n",
       "      <td>a_escuela_piloteo</td>\n",
       "      <td>a_escuela_n83_4to</td>\n",
       "    </tr>\n",
       "  </tbody>\n",
       "</table>\n",
       "</div>"
      ],
      "text/plain": [
       "                                                                          0  \\\n",
       "timestamp                                                3/12/2021 19:15:01   \n",
       "q_edad                                                                   10   \n",
       "q_genero                                                                  f   \n",
       "q_donde_compu                                            a_donde_compu_casa   \n",
       "q_que_haces_compu         a_que_haces_compu_videos, a_que_haces_compu_tarea   \n",
       "q_donde_aprendiste_compu                      a_donde_aprendiste_compu_casa   \n",
       "q_que_celu_usas                                      a_que_celu_usas_propio   \n",
       "q_que_haces_celu          a_que_haces_celu_chat, a_que_haces_celu_videos...   \n",
       "q_yt                                                            a_yt_1compu   \n",
       "q_acceso_fotos                                      a_acceso_fotos_yoyotros   \n",
       "q_mandar_fotos                                          a_mandar_fotos_enwa   \n",
       "q_mandar_fotos_agrup                                             referencia   \n",
       "q_borrar_fotos                                      a_borrar_fotos_enelchat   \n",
       "q_mensaje_sin_wifi                               a_mensaje_sin_wifi_directo   \n",
       "q_mensaje_sin_wifi_agrup                                              otras   \n",
       "q_gratuidad               a_gratuidad_publicidades, a_gratuidad_paraquet...   \n",
       "q_escuela                                                 a_escuela_piloteo   \n",
       "\n",
       "                                                      1  \\\n",
       "timestamp                            3/17/2021 21:12:19   \n",
       "q_edad                                                9   \n",
       "q_genero                                              f   \n",
       "q_donde_compu                        a_donde_compu_casa   \n",
       "q_que_haces_compu              a_que_haces_compu_juegos   \n",
       "q_donde_aprendiste_compu  a_donde_aprendiste_compu_solo   \n",
       "q_que_celu_usas                  a_que_celu_usas_propio   \n",
       "q_que_haces_celu                 a_que_haces_celu_redes   \n",
       "q_yt                                        a_yt_1compu   \n",
       "q_acceso_fotos                        a_acceso_fotos_yo   \n",
       "q_mandar_fotos                      a_mandar_fotos_enwa   \n",
       "q_mandar_fotos_agrup                         referencia   \n",
       "q_borrar_fotos                   a_borrar_fotos_nopuedo   \n",
       "q_mensaje_sin_wifi              a_mensaje_sin_wifi_nube   \n",
       "q_mensaje_sin_wifi_agrup                          otras   \n",
       "q_gratuidad                   a_gratuidad_yatienenplata   \n",
       "q_escuela                             a_escuela_piloteo   \n",
       "\n",
       "                                                         2  \\\n",
       "timestamp                               3/18/2021 21:28:35   \n",
       "q_edad                                                  10   \n",
       "q_genero                                                 m   \n",
       "q_donde_compu                           a_donde_compu_casa   \n",
       "q_que_haces_compu                 a_que_haces_compu_videos   \n",
       "q_donde_aprendiste_compu  a_donde_aprendiste_compu_escuela   \n",
       "q_que_celu_usas                     a_que_celu_usas_propio   \n",
       "q_que_haces_celu                   a_que_haces_celu_juegos   \n",
       "q_yt                                      a_yt_muchascompu   \n",
       "q_acceso_fotos                           a_acceso_fotos_yo   \n",
       "q_mandar_fotos                        a_mandar_fotos_copia   \n",
       "q_mandar_fotos_agrup                                 copia   \n",
       "q_borrar_fotos                     a_borrar_fotos_enelchat   \n",
       "q_mensaje_sin_wifi                  a_mensaje_sin_wifi_red   \n",
       "q_mensaje_sin_wifi_agrup                               red   \n",
       "q_gratuidad                              a_gratuidad_datos   \n",
       "q_escuela                                a_escuela_piloteo   \n",
       "\n",
       "                                                                          3  \\\n",
       "timestamp                                                3/26/2021 22:14:29   \n",
       "q_edad                                                                    9   \n",
       "q_genero                                                                  f   \n",
       "q_donde_compu                                            a_donde_compu_casa   \n",
       "q_que_haces_compu         a_que_haces_compu_juegos, a_que_haces_compu_vi...   \n",
       "q_donde_aprendiste_compu  a_donde_aprendiste_compu_casa, a_donde_aprendi...   \n",
       "q_que_celu_usas                                    a_que_celu_usas_prestado   \n",
       "q_que_haces_celu          a_que_haces_celu_chat, a_que_haces_celu_telefo...   \n",
       "q_yt                                                              a_yt_nose   \n",
       "q_acceso_fotos                                      a_acceso_fotos_yoyotros   \n",
       "q_mandar_fotos                                         a_mandar_fotos_copia   \n",
       "q_mandar_fotos_agrup                                                  copia   \n",
       "q_borrar_fotos                                      a_borrar_fotos_enelchat   \n",
       "q_mensaje_sin_wifi                               a_mensaje_sin_wifi_directo   \n",
       "q_mensaje_sin_wifi_agrup                                              otras   \n",
       "q_gratuidad               a_gratuidad_datos, a_gratuidad_paraquetodoslas...   \n",
       "q_escuela                                                 a_escuela_piloteo   \n",
       "\n",
       "                                                                          4  \n",
       "timestamp                                                4/19/2021 13:40:42  \n",
       "q_edad                                                                    9  \n",
       "q_genero                                                                  f  \n",
       "q_donde_compu                                            a_donde_compu_casa  \n",
       "q_que_haces_compu         a_que_haces_compu_juegos, a_que_haces_compu_vi...  \n",
       "q_donde_aprendiste_compu                      a_donde_aprendiste_compu_casa  \n",
       "q_que_celu_usas                                      a_que_celu_usas_propio  \n",
       "q_que_haces_celu                                      a_que_haces_celu_chat  \n",
       "q_yt                                                           a_yt_celular  \n",
       "q_acceso_fotos                                            a_acceso_fotos_yo  \n",
       "q_mandar_fotos                                  a_mandar_fotos_laveenmicelu  \n",
       "q_mandar_fotos_agrup                                             referencia  \n",
       "q_borrar_fotos                                      a_borrar_fotos_enelchat  \n",
       "q_mensaje_sin_wifi                               a_mensaje_sin_wifi_directo  \n",
       "q_mensaje_sin_wifi_agrup                                              otras  \n",
       "q_gratuidad                                       a_gratuidad_yatienenplata  \n",
       "q_escuela                                                 a_escuela_n83_4to  "
      ]
     },
     "execution_count": 4,
     "metadata": {},
     "output_type": "execute_result"
    }
   ],
   "source": [
    "df.head().transpose()"
   ]
  },
  {
   "cell_type": "markdown",
   "id": "8fd2a223",
   "metadata": {},
   "source": [
    "# Descripción del grupo\n",
    "\n",
    "A continuación se describe el grupo encuestado según distintas variables poblacionales. \n"
   ]
  },
  {
   "cell_type": "code",
   "execution_count": 5,
   "id": "71a64a64",
   "metadata": {},
   "outputs": [
    {
     "data": {
      "image/png": "[encoded data removed]",
      "text/plain": [
       "<Figure size 432x288 with 1 Axes>"
      ]
     },
     "metadata": {
      "needs_background": "light"
     },
     "output_type": "display_data"
    }
   ],
   "source": [
    "# Participantes por Edad\n",
    "\n",
    "df[\"q_edad\"].value_counts().sort_index().plot.bar(rot=0)\n",
    "plt.xlabel(\"Edad\")\n",
    "plt.title(\"Distribución según edad\", fontsize=15);"
   ]
  },
  {
   "cell_type": "code",
   "execution_count": 6,
   "id": "f5ce911b",
   "metadata": {
    "scrolled": true
   },
   "outputs": [
    {
     "data": {
      "image/png": "[encoded data removed]",
      "text/plain": [
       "<Figure size 432x288 with 1 Axes>"
      ]
     },
     "metadata": {
      "needs_background": "light"
     },
     "output_type": "display_data"
    }
   ],
   "source": [
    "# Participantes por Género\n",
    "\n",
    "df[\"q_genero\"].value_counts().plot.bar(rot=0)\n",
    "plt.xticks([0, 1, 2], ['masculino', 'femenino', 'otro'])\n",
    "plt.title(\"Distribución según género\", fontsize=15);"
   ]
  },
  {
   "cell_type": "markdown",
   "id": "55d5fb1e",
   "metadata": {},
   "source": [
    "Podemos ver que se trata de un grupo bastante homogéneo en cuanto a la edad, en tanto es el objeto de nuestro estudio el grupo comprendido por niños y niñas de alrededor de diez años. En tanto al género tenemos una muy buena distribución también."
   ]
  },
  {
   "cell_type": "code",
   "execution_count": 7,
   "id": "e40cfefa",
   "metadata": {
    "scrolled": false
   },
   "outputs": [
    {
     "data": {
      "image/png": "[encoded data removed]",
      "text/plain": [
       "<Figure size 864x360 with 1 Axes>"
      ]
     },
     "metadata": {
      "needs_background": "light"
     },
     "output_type": "display_data"
    }
   ],
   "source": [
    "# ¿Qué hacés cuando usás la computadora (podés elegir más de una opción)?\n",
    "positions = (0, 1, 2, 3, 4, 5)\n",
    "labels = (\"Juegos\", \"Actividades escolares\", \"YouTube\", \"Zoom, Skype, Meet\", \"Actividades creativas\", \"No uso\")\n",
    "\n",
    "df[\"q_que_haces_compu\"].str.replace(\" \", \"\").str.get_dummies(sep=',') \\\n",
    "    .sum().sort_values(ascending=False).plot.bar(figsize=(12,5))\n",
    "plt.title(\"¿Qué hacés cuando usás la computadora?\", fontsize=15);\n",
    "plt.xticks(positions, labels,rotation=0);\n"
   ]
  },
  {
   "cell_type": "markdown",
   "id": "8ec06b41",
   "metadata": {},
   "source": [
    "Queda claro que la mayor parte de los participantes utilizan la computadora en su casa. Siendo que tanto este año como el anterior vivimos en un contexto de pandemia, este resultado no resulta sorprendente.\n",
    "\n",
    "Podemos destacar que la mayor parte de los niños y niñas parecieran contar con una computadora en sus hogares, siendo tan solo uno de ellos quien respondió que no poseía una.\n",
    "\n",
    "También les preguntamos para qué utilizan más comúnmente la computadora. Les dimos la posibilidad de marcar más de una opción dentro de una serie de respuestas y al mismo tiempo, dejamos espacio disponible para poder completar con otras actividades que no estuvieran dentro de las que les habíamos propuesto.\n",
    "\n",
    "Por otro lado, la mayoría utiliza la computadora para jugar juegos, siendo las siguientes actividades más usuales mirar videos en YouTube, realizar videollamadas utilizando Skype, Meet o Zoom y realizar actividades escolares. Nuevamente, esto tiene sentido siendo que durante todo el 2020 en Argentina hubo clases de manera virtual."
   ]
  },
  {
   "cell_type": "code",
   "execution_count": 8,
   "id": "d1927535",
   "metadata": {},
   "outputs": [
    {
     "data": {
      "image/png": "[encoded data removed]",
      "text/plain": [
       "<Figure size 432x288 with 1 Axes>"
      ]
     },
     "metadata": {
      "needs_background": "light"
     },
     "output_type": "display_data"
    }
   ],
   "source": [
    "#¿Dónde aprendiste a usar la computadora? \n",
    "\n",
    "positions = (0, 1, 2)\n",
    "labels = (\"En casa\", \"Aprendí solo\", \"En la escuela\")\n",
    "\n",
    "\n",
    "df[\"q_donde_aprendiste_compu\"].str.replace(\" \", \"\").str.get_dummies(sep=',') \\\n",
    "    .sum().sort_values(ascending=False).plot.bar()\n",
    "plt.title(\"¿Dónde aprendiste a usar la computadora?\", fontsize=15);\n",
    "\n",
    "plt.xticks(positions, labels,rotation=0);\n"
   ]
  },
  {
   "cell_type": "markdown",
   "id": "cd190274",
   "metadata": {},
   "source": [
    "En cuanto a la forma en la que aprendieron a usar la computadora, podemos ver que las opciones más elegidas son _\"Me enseñaron en mi casa (mis padres, hermanos u otro familiar)\"_ y _\"Aprendí solo\"_. \n",
    "\n",
    "Podemos ver que la tendencia está claramente más orientada a la formación recibida en el hogar, tanto por la enseñanza directa por parte de la familia o bien tal vez por la observación o la experiencia indirecta, al ver a otros miembros de la familia. \n",
    "\n",
    "Esta hipótesis es respaldada por otros estudios anteriores, como por ejemplo el de Mertala [8] _“Young children's perceptions of ubiquitous computing and the Internet of Things”_ donde explica que el conocimiento de los chicos sobre las distintas tecnologías se basa en el contacto que tuvieron con éstas a través de sus padres, hermanos u otras figuras del entorno familiar o escolar. \n",
    "\n",
    "De esta forma, esta percepción de haber \"aprendido solos\" podría tener raíz en este contacto indirecto."
   ]
  },
  {
   "cell_type": "code",
   "execution_count": 9,
   "id": "0b0d9d34",
   "metadata": {},
   "outputs": [
    {
     "data": {
      "image/png": "[encoded data removed]",
      "text/plain": [
       "<Figure size 432x288 with 1 Axes>"
      ]
     },
     "metadata": {
      "needs_background": "light"
     },
     "output_type": "display_data"
    }
   ],
   "source": [
    "#¿Qué celular usás?\n",
    "\n",
    "positions = (0, 1, 2)\n",
    "labels = (\"El mío\", \"Me prestan uno\", \"No uso\")\n",
    "\n",
    "df[\"q_que_celu_usas\"].value_counts().plot.bar()\n",
    "plt.title(\"¿Qué celular usás?\", fontsize=15)\n",
    "plt.xticks(positions, labels,rotation=0);\n"
   ]
  },
  {
   "cell_type": "code",
   "execution_count": 10,
   "id": "d665ae52",
   "metadata": {},
   "outputs": [
    {
     "data": {
      "image/png": "[encoded data removed]",
      "text/plain": [
       "<Figure size 1080x360 with 1 Axes>"
      ]
     },
     "metadata": {
      "needs_background": "light"
     },
     "output_type": "display_data"
    }
   ],
   "source": [
    "# Si usás celular: ¿qué haces cuando usás el celular? (podés elegir más de una opción)\n",
    "\n",
    "positions = (0, 1, 2, 3, 4, 5, 6, 7)\n",
    "labels = (\"Juegos\", \"Chat\", \"YouTube\", \"Llamadas\\n telefónicas\", \"Redes sociales\", \\\n",
    "          \"No uso\", \"Actividades\\n creativas\", \"Actividades\\n escolares\")\n",
    "\n",
    "df[\"q_que_haces_celu\"].str.replace(\" \", \"\").str.get_dummies(sep=',') \\\n",
    "    .sum().sort_values(ascending=False).plot.bar(figsize=(15,5))\n",
    "plt.title(\"¿Qué haces cuando usás el celular?\", fontsize=15);\n",
    "plt.xticks(positions, labels,rotation=0);\n"
   ]
  },
  {
   "cell_type": "markdown",
   "id": "7f2c591c",
   "metadata": {},
   "source": [
    "Al indagar en la forma en que los chicos y chicas utilizan los celulares nos encontramos con que la gran mayoría cuenta con un dispositivo propio.\n",
    "\n",
    "La actividad más realizada es nuevamente jugar juegos, pero se suma con mucha importancia también el chat (utilizando aplicaciones de mensajería tales como Whatsapp, Telegram, etc) y mirar videos en YouTube.\n",
    "\n",
    "Es llamativo que haya aparecido _\"Llamadas telefónicas\"_ como una actividad de una importancia considerable, aunque cabe preguntarse si habría que haber pedido que especifiquen si se referían videollamadas utilizando las aplicaciones anteriormente mencionadas, y en tal caso la actividad \"Chat\" cobraría aún más relevancia.\n",
    "\n",
    "Dentro de _\"Redes Sociales\"_ se incluyen ejemplos como TikTok, Instagram y Facebook, aunque no les pedimos que especifiquen ninguna en particular. Sin embargo, sabemos por la consulta realizada previamente a la confección de la encuesta que realizamos a los referentes pedagógicos de la Fundación Sadosky que trabajan para el Plan Ceibal, que la red social elegida por sobre las otras es en estos momentos TikTok.\n",
    "\n",
    "Por último, cabe destacar que _\"Actividades creativas\"_ no fue una opción propuesta por nosotros en el cuestionario (tanto en esta pregunta como en la relacionada a las actividades realizadas con la computadora), sino que fue agregada por los chicos y chicas al momento de completar la encuesta. Dentro de este grupo, agrupamos respuestas que se referían a la edición de videos y fotos (tal vez para compartir en aplicaciones tales como TikTok o Instagram), escuchar música y escribir historias."
   ]
  }
 ],
 "metadata": {
  "kernelspec": {
   "display_name": "Python 3",
   "language": "python",
   "name": "python3"
  },
  "language_info": {
   "codemirror_mode": {
    "name": "ipython",
    "version": 3
   },
   "file_extension": ".py",
   "mimetype": "text/x-python",
   "name": "python",
   "nbconvert_exporter": "python",
   "pygments_lexer": "ipython3",
   "version": "3.7.10"
  }
 },
 "nbformat": 4,
 "nbformat_minor": 5
}
