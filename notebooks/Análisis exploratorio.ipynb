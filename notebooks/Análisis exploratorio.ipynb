{
 "cells": [
  {
   "cell_type": "code",
   "execution_count": 2,
   "id": "d87faddb",
   "metadata": {},
   "outputs": [],
   "source": [
    "import pandas as pd\n",
    "import matplotlib.pyplot as plt\n",
    "\n",
    "%matplotlib inline"
   ]
  },
  {
   "cell_type": "markdown",
   "id": "753a638d",
   "metadata": {},
   "source": [
    "# Read data"
   ]
  },
  {
   "cell_type": "code",
   "execution_count": 42,
   "id": "86c6a85d",
   "metadata": {},
   "outputs": [
    {
     "data": {
      "text/plain": [
       "(144, 15)"
      ]
     },
     "execution_count": 42,
     "metadata": {},
     "output_type": "execute_result"
    }
   ],
   "source": [
    "df = pd.read_csv(\"../data/respuestas.csv\")\n",
    "df.shape"
   ]
  },
  {
   "cell_type": "code",
   "execution_count": 43,
   "id": "996dc440",
   "metadata": {},
   "outputs": [
    {
     "data": {
      "text/html": [
       "<div>\n",
       "<style scoped>\n",
       "    .dataframe tbody tr th:only-of-type {\n",
       "        vertical-align: middle;\n",
       "    }\n",
       "\n",
       "    .dataframe tbody tr th {\n",
       "        vertical-align: top;\n",
       "    }\n",
       "\n",
       "    .dataframe thead th {\n",
       "        text-align: right;\n",
       "    }\n",
       "</style>\n",
       "<table border=\"1\" class=\"dataframe\">\n",
       "  <thead>\n",
       "    <tr style=\"text-align: right;\">\n",
       "      <th></th>\n",
       "      <th>0</th>\n",
       "      <th>1</th>\n",
       "      <th>2</th>\n",
       "      <th>3</th>\n",
       "      <th>4</th>\n",
       "    </tr>\n",
       "  </thead>\n",
       "  <tbody>\n",
       "    <tr>\n",
       "      <th>timestamp</th>\n",
       "      <td>3/12/2021 19:15:01</td>\n",
       "      <td>3/17/2021 21:12:19</td>\n",
       "      <td>3/18/2021 21:28:35</td>\n",
       "      <td>3/26/2021 22:14:29</td>\n",
       "      <td>4/19/2021 13:40:42</td>\n",
       "    </tr>\n",
       "    <tr>\n",
       "      <th>q_edad</th>\n",
       "      <td>10</td>\n",
       "      <td>9</td>\n",
       "      <td>10</td>\n",
       "      <td>9</td>\n",
       "      <td>9</td>\n",
       "    </tr>\n",
       "    <tr>\n",
       "      <th>q_genero</th>\n",
       "      <td>f</td>\n",
       "      <td>f</td>\n",
       "      <td>m</td>\n",
       "      <td>f</td>\n",
       "      <td>f</td>\n",
       "    </tr>\n",
       "    <tr>\n",
       "      <th>q_donde_compu</th>\n",
       "      <td>a_donde_compu_casa</td>\n",
       "      <td>a_donde_compu_casa</td>\n",
       "      <td>a_donde_compu_casa</td>\n",
       "      <td>a_donde_compu_casa</td>\n",
       "      <td>a_donde_compu_casa</td>\n",
       "    </tr>\n",
       "    <tr>\n",
       "      <th>q_que_haces_compu</th>\n",
       "      <td>a_que_haces_compu_videos, a_que_haces_compu_tarea</td>\n",
       "      <td>a_que_haces_compu_juegos</td>\n",
       "      <td>a_que_haces_compu_videos</td>\n",
       "      <td>a_que_haces_compu_juegos, a_que_haces_compu_vi...</td>\n",
       "      <td>a_que_haces_compu_juegos, a_que_haces_compu_vi...</td>\n",
       "    </tr>\n",
       "    <tr>\n",
       "      <th>q_donde_aprendiste_compu</th>\n",
       "      <td>a_donde_aprendiste_compu_casa</td>\n",
       "      <td>a_donde_aprendiste_compu_solo</td>\n",
       "      <td>a_donde_aprendiste_compu_escuela</td>\n",
       "      <td>a_donde_aprendiste_compu_casa, a_donde_aprendi...</td>\n",
       "      <td>a_donde_aprendiste_compu_casa</td>\n",
       "    </tr>\n",
       "    <tr>\n",
       "      <th>q_que_celu_usas</th>\n",
       "      <td>a_que_celu_usas_propio</td>\n",
       "      <td>a_que_celu_usas_propio</td>\n",
       "      <td>a_que_celu_usas_propio</td>\n",
       "      <td>a_que_celu_usas_prestado</td>\n",
       "      <td>a_que_celu_usas_propio</td>\n",
       "    </tr>\n",
       "    <tr>\n",
       "      <th>q_que_haces_celu</th>\n",
       "      <td>a_que_haces_celu_chat, a_que_haces_celu_videos...</td>\n",
       "      <td>a_que_haces_celu_redes</td>\n",
       "      <td>a_que_haces_celu_juegos</td>\n",
       "      <td>a_que_haces_celu_chat, a_que_haces_celu_telefo...</td>\n",
       "      <td>a_que_haces_celu_chat</td>\n",
       "    </tr>\n",
       "    <tr>\n",
       "      <th>q_yt</th>\n",
       "      <td>a_yt_1compu</td>\n",
       "      <td>a_yt_1compu</td>\n",
       "      <td>a_yt_muchascompu</td>\n",
       "      <td>a_yt_nose</td>\n",
       "      <td>a_yt_celular</td>\n",
       "    </tr>\n",
       "    <tr>\n",
       "      <th>q_acceso_fotos</th>\n",
       "      <td>a_acceso_fotos_yoyotros</td>\n",
       "      <td>a_acceso_fotos_yo</td>\n",
       "      <td>a_acceso_fotos_yo</td>\n",
       "      <td>a_acceso_fotos_yoyotros</td>\n",
       "      <td>a_acceso_fotos_yo</td>\n",
       "    </tr>\n",
       "    <tr>\n",
       "      <th>q_mandar_fotos</th>\n",
       "      <td>a_mandar_fotos_enwa</td>\n",
       "      <td>a_mandar_fotos_enwa</td>\n",
       "      <td>a_mandar_fotos_copia</td>\n",
       "      <td>a_mandar_fotos_copia</td>\n",
       "      <td>a_mandar_fotos_laveenmicelu</td>\n",
       "    </tr>\n",
       "    <tr>\n",
       "      <th>q_borrar_fotos</th>\n",
       "      <td>a_borrar_fotos_enelchat</td>\n",
       "      <td>a_borrar_fotos_nopuedo</td>\n",
       "      <td>a_borrar_fotos_enelchat</td>\n",
       "      <td>a_borrar_fotos_enelchat</td>\n",
       "      <td>a_borrar_fotos_enelchat</td>\n",
       "    </tr>\n",
       "    <tr>\n",
       "      <th>q_mensaje_sin_wifi</th>\n",
       "      <td>a_mensaje_sin_wifi_directo</td>\n",
       "      <td>a_mensaje_sin_wifi_nube</td>\n",
       "      <td>a_mensaje_sin_wifi_red</td>\n",
       "      <td>a_mensaje_sin_wifi_directo</td>\n",
       "      <td>a_mensaje_sin_wifi_directo</td>\n",
       "    </tr>\n",
       "    <tr>\n",
       "      <th>q_gratuidad</th>\n",
       "      <td>a_gratuidad_publicidades, a_gratuidad_paraquet...</td>\n",
       "      <td>a_gratuidad_yatienenplata</td>\n",
       "      <td>a_gratuidad_datos</td>\n",
       "      <td>a_gratuidad_datos, a_gratuidad_paraquetodoslas...</td>\n",
       "      <td>a_gratuidad_yatienenplata</td>\n",
       "    </tr>\n",
       "    <tr>\n",
       "      <th>q_escuela</th>\n",
       "      <td>a_escuela_piloteo</td>\n",
       "      <td>a_escuela_piloteo</td>\n",
       "      <td>a_escuela_piloteo</td>\n",
       "      <td>a_escuela_piloteo</td>\n",
       "      <td>a_escuela_n83_4to</td>\n",
       "    </tr>\n",
       "  </tbody>\n",
       "</table>\n",
       "</div>"
      ],
      "text/plain": [
       "                                                                          0  \\\n",
       "timestamp                                                3/12/2021 19:15:01   \n",
       "q_edad                                                                   10   \n",
       "q_genero                                                                  f   \n",
       "q_donde_compu                                            a_donde_compu_casa   \n",
       "q_que_haces_compu         a_que_haces_compu_videos, a_que_haces_compu_tarea   \n",
       "q_donde_aprendiste_compu                      a_donde_aprendiste_compu_casa   \n",
       "q_que_celu_usas                                      a_que_celu_usas_propio   \n",
       "q_que_haces_celu          a_que_haces_celu_chat, a_que_haces_celu_videos...   \n",
       "q_yt                                                            a_yt_1compu   \n",
       "q_acceso_fotos                                      a_acceso_fotos_yoyotros   \n",
       "q_mandar_fotos                                          a_mandar_fotos_enwa   \n",
       "q_borrar_fotos                                      a_borrar_fotos_enelchat   \n",
       "q_mensaje_sin_wifi                               a_mensaje_sin_wifi_directo   \n",
       "q_gratuidad               a_gratuidad_publicidades, a_gratuidad_paraquet...   \n",
       "q_escuela                                                 a_escuela_piloteo   \n",
       "\n",
       "                                                      1  \\\n",
       "timestamp                            3/17/2021 21:12:19   \n",
       "q_edad                                                9   \n",
       "q_genero                                              f   \n",
       "q_donde_compu                        a_donde_compu_casa   \n",
       "q_que_haces_compu              a_que_haces_compu_juegos   \n",
       "q_donde_aprendiste_compu  a_donde_aprendiste_compu_solo   \n",
       "q_que_celu_usas                  a_que_celu_usas_propio   \n",
       "q_que_haces_celu                 a_que_haces_celu_redes   \n",
       "q_yt                                        a_yt_1compu   \n",
       "q_acceso_fotos                        a_acceso_fotos_yo   \n",
       "q_mandar_fotos                      a_mandar_fotos_enwa   \n",
       "q_borrar_fotos                   a_borrar_fotos_nopuedo   \n",
       "q_mensaje_sin_wifi              a_mensaje_sin_wifi_nube   \n",
       "q_gratuidad                   a_gratuidad_yatienenplata   \n",
       "q_escuela                             a_escuela_piloteo   \n",
       "\n",
       "                                                         2  \\\n",
       "timestamp                               3/18/2021 21:28:35   \n",
       "q_edad                                                  10   \n",
       "q_genero                                                 m   \n",
       "q_donde_compu                           a_donde_compu_casa   \n",
       "q_que_haces_compu                 a_que_haces_compu_videos   \n",
       "q_donde_aprendiste_compu  a_donde_aprendiste_compu_escuela   \n",
       "q_que_celu_usas                     a_que_celu_usas_propio   \n",
       "q_que_haces_celu                   a_que_haces_celu_juegos   \n",
       "q_yt                                      a_yt_muchascompu   \n",
       "q_acceso_fotos                           a_acceso_fotos_yo   \n",
       "q_mandar_fotos                        a_mandar_fotos_copia   \n",
       "q_borrar_fotos                     a_borrar_fotos_enelchat   \n",
       "q_mensaje_sin_wifi                  a_mensaje_sin_wifi_red   \n",
       "q_gratuidad                              a_gratuidad_datos   \n",
       "q_escuela                                a_escuela_piloteo   \n",
       "\n",
       "                                                                          3  \\\n",
       "timestamp                                                3/26/2021 22:14:29   \n",
       "q_edad                                                                    9   \n",
       "q_genero                                                                  f   \n",
       "q_donde_compu                                            a_donde_compu_casa   \n",
       "q_que_haces_compu         a_que_haces_compu_juegos, a_que_haces_compu_vi...   \n",
       "q_donde_aprendiste_compu  a_donde_aprendiste_compu_casa, a_donde_aprendi...   \n",
       "q_que_celu_usas                                    a_que_celu_usas_prestado   \n",
       "q_que_haces_celu          a_que_haces_celu_chat, a_que_haces_celu_telefo...   \n",
       "q_yt                                                              a_yt_nose   \n",
       "q_acceso_fotos                                      a_acceso_fotos_yoyotros   \n",
       "q_mandar_fotos                                         a_mandar_fotos_copia   \n",
       "q_borrar_fotos                                      a_borrar_fotos_enelchat   \n",
       "q_mensaje_sin_wifi                               a_mensaje_sin_wifi_directo   \n",
       "q_gratuidad               a_gratuidad_datos, a_gratuidad_paraquetodoslas...   \n",
       "q_escuela                                                 a_escuela_piloteo   \n",
       "\n",
       "                                                                          4  \n",
       "timestamp                                                4/19/2021 13:40:42  \n",
       "q_edad                                                                    9  \n",
       "q_genero                                                                  f  \n",
       "q_donde_compu                                            a_donde_compu_casa  \n",
       "q_que_haces_compu         a_que_haces_compu_juegos, a_que_haces_compu_vi...  \n",
       "q_donde_aprendiste_compu                      a_donde_aprendiste_compu_casa  \n",
       "q_que_celu_usas                                      a_que_celu_usas_propio  \n",
       "q_que_haces_celu                                      a_que_haces_celu_chat  \n",
       "q_yt                                                           a_yt_celular  \n",
       "q_acceso_fotos                                            a_acceso_fotos_yo  \n",
       "q_mandar_fotos                                  a_mandar_fotos_laveenmicelu  \n",
       "q_borrar_fotos                                      a_borrar_fotos_enelchat  \n",
       "q_mensaje_sin_wifi                               a_mensaje_sin_wifi_directo  \n",
       "q_gratuidad                                       a_gratuidad_yatienenplata  \n",
       "q_escuela                                                 a_escuela_n83_4to  "
      ]
     },
     "execution_count": 43,
     "metadata": {},
     "output_type": "execute_result"
    }
   ],
   "source": [
    "df.head().transpose()"
   ]
  },
  {
   "cell_type": "markdown",
   "id": "8fd2a223",
   "metadata": {},
   "source": [
    "# Descripción del grupo\n",
    "\n",
    "A continuación se describe el grupo encuestado según distintas variables poblacionales. "
   ]
  },
  {
   "cell_type": "code",
   "execution_count": 44,
   "id": "71a64a64",
   "metadata": {},
   "outputs": [
    {
     "data": {
      "image/png": "[encoded data removed]",
      "text/plain": [
       "<Figure size 432x288 with 1 Axes>"
      ]
     },
     "metadata": {
      "needs_background": "light"
     },
     "output_type": "display_data"
    }
   ],
   "source": [
    "# Participantes por Edad\n",
    "\n",
    "df[\"q_edad\"].value_counts().plot.bar(rot=0)\n",
    "plt.xlabel(\"Edad\")\n",
    "plt.title(\"Distribución según edad\");"
   ]
  },
  {
   "cell_type": "code",
   "execution_count": 45,
   "id": "f5ce911b",
   "metadata": {},
   "outputs": [
    {
     "data": {
      "image/png": "[encoded data removed]",
      "text/plain": [
       "<Figure size 432x288 with 1 Axes>"
      ]
     },
     "metadata": {
      "needs_background": "light"
     },
     "output_type": "display_data"
    }
   ],
   "source": [
    "# Participantes por Género\n",
    "\n",
    "df[\"q_genero\"].value_counts().plot.bar(rot=0)\n",
    "plt.xlabel(\"Género\")\n",
    "plt.title(\"Distribución según género\");"
   ]
  },
  {
   "cell_type": "markdown",
   "id": "55d5fb1e",
   "metadata": {},
   "source": [
    "Podemos ver que se trata de un grupo bastante homogéneo en cuanto a la edad, en tanto es el objeto de nuestro estudio el grupo comprendido por niños y niñas de alrededor de diez años. En tanto al género tenemos una buena distribución también, tratándose de un grupo muy parejo."
   ]
  },
  {
   "cell_type": "code",
   "execution_count": 46,
   "id": "a8c49631",
   "metadata": {},
   "outputs": [
    {
     "data": {
      "image/png": "[encoded data removed]",
      "text/plain": [
       "<Figure size 432x288 with 1 Axes>"
      ]
     },
     "metadata": {
      "needs_background": "light"
     },
     "output_type": "display_data"
    }
   ],
   "source": [
    "# En qué lugar usas más comunmente la computadora\n",
    "\n",
    "df[\"q_donde_compu\"].value_counts().plot.bar()\n",
    "plt.title(\"¿Dónde usas comunmente la computadora?\");"
   ]
  },
  {
   "cell_type": "code",
   "execution_count": 47,
   "id": "e40cfefa",
   "metadata": {},
   "outputs": [
    {
     "data": {
      "image/png": "[encoded data removed]",
      "text/plain": [
       "<Figure size 432x288 with 1 Axes>"
      ]
     },
     "metadata": {
      "needs_background": "light"
     },
     "output_type": "display_data"
    }
   ],
   "source": [
    "# ¿Qué hacés cuando usás la computadora (podés elegir más de una opción)?\n",
    "\n",
    "df[\"q_que_haces_compu\"].value_counts().plot.bar()\n",
    "plt.title(\"¿Dónde usas comunmente la computadora?\");"
   ]
  },
  {
   "cell_type": "code",
   "execution_count": 38,
   "id": "5872996d",
   "metadata": {},
   "outputs": [
    {
     "data": {
      "text/plain": [
       "0    a_que_haces_compu_videos, a_que_haces_compu_tarea\n",
       "1                             a_que_haces_compu_juegos\n",
       "2                             a_que_haces_compu_videos\n",
       "3    a_que_haces_compu_juegos, a_que_haces_compu_vi...\n",
       "4    a_que_haces_compu_juegos, a_que_haces_compu_vi...\n",
       "Name: q_que_haces_compu, dtype: object"
      ]
     },
     "execution_count": 38,
     "metadata": {},
     "output_type": "execute_result"
    }
   ],
   "source": [
    "# df[\"q_que_haces_compu\"].str.split(', ') \n",
    "# df[\"q_que_haces_compu\"].str.get_dummies().head()"
   ]
  },
  {
   "cell_type": "code",
   "execution_count": 48,
   "id": "028cb71c",
   "metadata": {
    "scrolled": true
   },
   "outputs": [
    {
     "data": {
      "text/plain": [
       " a_que_haces_compu_creativas         6\n",
       " a_que_haces_compu_tarea            83\n",
       " a_que_haces_compu_videollamada     64\n",
       " a_que_haces_compu_videos           76\n",
       "a_que_haces_compu_juegos           111\n",
       "a_que_haces_compu_nouso              3\n",
       "a_que_haces_compu_tarea             13\n",
       "a_que_haces_compu_videollamada       4\n",
       "a_que_haces_compu_videos            13\n",
       "dtype: int64"
      ]
     },
     "execution_count": 48,
     "metadata": {},
     "output_type": "execute_result"
    }
   ],
   "source": [
    "df[\"q_que_haces_compu\"].str.get_dummies(sep=',').sum()"
   ]
  },
  {
   "cell_type": "code",
   "execution_count": null,
   "id": "f2831446",
   "metadata": {},
   "outputs": [],
   "source": []
  },
  {
   "cell_type": "markdown",
   "id": "8ec06b41",
   "metadata": {},
   "source": [
    "Queda claro que la mayor parte de los participantes utilizan la computadora en su casa. Siendo que tanto este año como el anterior vivimos en un contexto de Pandemia, este resultado no resulta sorprendente.\n",
    "\n",
    "Si cabe destacar que la mayor parte de los niños y niñas parecieran contar con una computadora en sus hogares, siendo tan solo uno de ellos quien respondió que no poseía una."
   ]
  },
  {
   "cell_type": "code",
   "execution_count": 19,
   "id": "2dd6c370",
   "metadata": {},
   "outputs": [
    {
     "data": {
      "image/png": "[encoded data removed]",
      "text/plain": [
       "<Figure size 432x288 with 1 Axes>"
      ]
     },
     "metadata": {
      "needs_background": "light"
     },
     "output_type": "display_data"
    }
   ],
   "source": [
    "# idea: agrupar por una caracteristica y ver si hay un patron en las respuestas\n",
    "counts = df.groupby(\"q_genero\")[\"q_que_celu_usas\"].value_counts().unstack()\n",
    "counts.div(counts.sum(axis=1), axis=0).plot.bar(stacked=True)\n",
    "plt.legend(loc=(1.1, 0.1));"
   ]
  },
  {
   "cell_type": "code",
   "execution_count": null,
   "id": "de0006f2",
   "metadata": {},
   "outputs": [],
   "source": []
  },
  {
   "cell_type": "code",
   "execution_count": 60,
   "id": "fb0ab92d",
   "metadata": {},
   "outputs": [
    {
     "data": {
      "text/plain": [
       "0      True\n",
       "1      True\n",
       "2      True\n",
       "3      True\n",
       "4      True\n",
       "5      True\n",
       "6      True\n",
       "7      True\n",
       "8      True\n",
       "9      True\n",
       "10     True\n",
       "11     True\n",
       "12    False\n",
       "13     True\n",
       "14     True\n",
       "15     True\n",
       "16     True\n",
       "17     True\n",
       "18     True\n",
       "19     True\n",
       "20     True\n",
       "21     True\n",
       "22     True\n",
       "23     True\n",
       "24     True\n",
       "25     True\n",
       "26     True\n",
       "27     True\n",
       "28     True\n",
       "29    False\n",
       "Name: ¿Dónde se almacenan los videos que están en YouTube?, dtype: bool"
      ]
     },
     "execution_count": 60,
     "metadata": {},
     "output_type": "execute_result"
    }
   ],
   "source": [
    "(df[question_q1] != answer_q1).head(30)"
   ]
  },
  {
   "cell_type": "code",
   "execution_count": 61,
   "id": "4c60bb0e",
   "metadata": {},
   "outputs": [
    {
     "data": {
      "text/plain": [
       "True     93\n",
       "False    51\n",
       "Name: missconception_q1, dtype: int64"
      ]
     },
     "execution_count": 61,
     "metadata": {},
     "output_type": "execute_result"
    }
   ],
   "source": [
    "# idea 2: calcular proporcion de missconcepions en cada pregunta\n",
    "question_q1 = \"¿Dónde se almacenan los videos que están en YouTube?\"\n",
    "answer_q1 = \"En muchísimas computadoras (tantas que podrían llenar una cancha de fútbol)\"\n",
    "na_q1 = \"No sé\"\n",
    "df[\"missconception_q1\"] = (df[question_q1] != answer_q1) & (df[question_q1] != na_q1)\n",
    "df[\"missconception_q1\"].value_counts()"
   ]
  },
  {
   "cell_type": "code",
   "execution_count": 46,
   "id": "b60dc0c3",
   "metadata": {},
   "outputs": [
    {
     "data": {
      "text/plain": [
       "True     103\n",
       "False     41\n",
       "Name: missconception_q2, dtype: int64"
      ]
     },
     "execution_count": 46,
     "metadata": {},
     "output_type": "execute_result"
    }
   ],
   "source": [
    "question_2 = \"¿Quién tiene acceso a las fotos que tengo guardadas en mi celular?\"\n",
    "answer_q2 = \"Yo y otras personas.\"\n",
    "df[\"missconception_q2\"] = df[question_2] != answer_q2\n",
    "df[\"missconception_q2\"].value_counts()"
   ]
  },
  {
   "cell_type": "code",
   "execution_count": 47,
   "id": "cf0c2d83",
   "metadata": {},
   "outputs": [
    {
     "data": {
      "text/plain": [
       "True     142\n",
       "False      2\n",
       "Name: missconception_q3, dtype: int64"
      ]
     },
     "execution_count": 47,
     "metadata": {},
     "output_type": "execute_result"
    }
   ],
   "source": [
    "question_3 = \"Cuando le mando a una amiga una foto por WhatsApp...\"\n",
    "answer_q3 = \"La foto ahora existe en WhatsApp y mi amiga la puede ver cuando mira nuestro chat.\"\n",
    "df[\"missconception_q3\"] = df[question_3] != answer_q3\n",
    "df[\"missconception_q3\"].value_counts()"
   ]
  },
  {
   "cell_type": "code",
   "execution_count": 51,
   "id": "d3cb1b5f",
   "metadata": {},
   "outputs": [
    {
     "data": {
      "text/html": [
       "<div>\n",
       "<style scoped>\n",
       "    .dataframe tbody tr th:only-of-type {\n",
       "        vertical-align: middle;\n",
       "    }\n",
       "\n",
       "    .dataframe tbody tr th {\n",
       "        vertical-align: top;\n",
       "    }\n",
       "\n",
       "    .dataframe thead th {\n",
       "        text-align: right;\n",
       "    }\n",
       "</style>\n",
       "<table border=\"1\" class=\"dataframe\">\n",
       "  <thead>\n",
       "    <tr style=\"text-align: right;\">\n",
       "      <th></th>\n",
       "      <th>missconception_q1</th>\n",
       "      <th>missconception_q2</th>\n",
       "      <th>missconception_q3</th>\n",
       "    </tr>\n",
       "  </thead>\n",
       "  <tbody>\n",
       "    <tr>\n",
       "      <th>0</th>\n",
       "      <td>True</td>\n",
       "      <td>False</td>\n",
       "      <td>False</td>\n",
       "    </tr>\n",
       "    <tr>\n",
       "      <th>1</th>\n",
       "      <td>True</td>\n",
       "      <td>True</td>\n",
       "      <td>False</td>\n",
       "    </tr>\n",
       "    <tr>\n",
       "      <th>2</th>\n",
       "      <td>True</td>\n",
       "      <td>True</td>\n",
       "      <td>True</td>\n",
       "    </tr>\n",
       "    <tr>\n",
       "      <th>3</th>\n",
       "      <td>True</td>\n",
       "      <td>False</td>\n",
       "      <td>True</td>\n",
       "    </tr>\n",
       "    <tr>\n",
       "      <th>4</th>\n",
       "      <td>True</td>\n",
       "      <td>True</td>\n",
       "      <td>True</td>\n",
       "    </tr>\n",
       "  </tbody>\n",
       "</table>\n",
       "</div>"
      ],
      "text/plain": [
       "   missconception_q1  missconception_q2  missconception_q3\n",
       "0               True              False              False\n",
       "1               True               True              False\n",
       "2               True               True               True\n",
       "3               True              False               True\n",
       "4               True               True               True"
      ]
     },
     "execution_count": 51,
     "metadata": {},
     "output_type": "execute_result"
    }
   ],
   "source": [
    "df[[\"missconception_q1\", \"missconception_q2\", \"missconception_q3\"]].head()"
   ]
  },
  {
   "cell_type": "code",
   "execution_count": null,
   "id": "e29bb8be",
   "metadata": {},
   "outputs": [],
   "source": [
    "# chi square"
   ]
  },
  {
   "cell_type": "code",
   "execution_count": 62,
   "id": "ce222ecc",
   "metadata": {},
   "outputs": [],
   "source": [
    "# exploratory data analysis\n",
    "# cleaning, preprocessing => renombrar columnas, normalizar las respuestas (e.g. \"no se.\" => \"no sé\")\n",
    "# descriptive analysis (how many missconceptions, what are the questions that students failed the most, etc.)\n",
    "# 0 y 10 missconception => barplot x: numero de missconceptions, y: cantidad de estudiantes"
   ]
  },
  {
   "cell_type": "code",
   "execution_count": 64,
   "id": "8b3b1852",
   "metadata": {},
   "outputs": [
    {
     "data": {
      "text/plain": [
       "0    1\n",
       "1    2\n",
       "2    3\n",
       "3    1\n",
       "4    3\n",
       "Name: num_missconception, dtype: int64"
      ]
     },
     "execution_count": 64,
     "metadata": {},
     "output_type": "execute_result"
    }
   ],
   "source": [
    "df['num_missconception'] = df['missconception_q1'].astype('int') +\\\n",
    "                           df['missconception_q2'].astype('int') +\\\n",
    "                           df['missconception_q3'].astype('int')\n",
    "df['num_missconception'].head()"
   ]
  },
  {
   "cell_type": "code",
   "execution_count": 66,
   "id": "b384e9a5",
   "metadata": {},
   "outputs": [
    {
     "data": {
      "image/png": "[encoded data removed]",
      "text/plain": [
       "<Figure size 432x288 with 1 Axes>"
      ]
     },
     "metadata": {
      "needs_background": "light"
     },
     "output_type": "display_data"
    }
   ],
   "source": [
    "df['num_missconception'].value_counts().sort_index().plot.bar();"
   ]
  },
  {
   "cell_type": "code",
   "execution_count": null,
   "id": "8fa45b77",
   "metadata": {},
   "outputs": [],
   "source": []
  }
 ],
 "metadata": {
  "kernelspec": {
   "display_name": "Python 3",
   "language": "python",
   "name": "python3"
  },
  "language_info": {
   "codemirror_mode": {
    "name": "ipython",
    "version": 3
   },
   "file_extension": ".py",
   "mimetype": "text/x-python",
   "name": "python",
   "nbconvert_exporter": "python",
   "pygments_lexer": "ipython3",
   "version": "3.7.10"
  }
 },
 "nbformat": 4,
 "nbformat_minor": 5
}
