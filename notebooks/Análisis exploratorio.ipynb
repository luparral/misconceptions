{
 "cells": [
  {
   "cell_type": "code",
   "execution_count": 1,
   "id": "d87faddb",
   "metadata": {},
   "outputs": [],
   "source": [
    "import pandas as pd\n",
    "import numpy as np\n",
    "import matplotlib.pyplot as plt\n",
    "import seaborn as sns\n",
    "sns.set_style('whitegrid')\n",
    "sns.set_palette(\"Set2\")\n",
    "\n",
    "%matplotlib inline"
   ]
  },
  {
   "cell_type": "code",
   "execution_count": 2,
   "id": "5a5c8d3e",
   "metadata": {},
   "outputs": [],
   "source": [
    "# !pip install seaborn"
   ]
  },
  {
   "cell_type": "markdown",
   "id": "753a638d",
   "metadata": {},
   "source": [
    "# Read data"
   ]
  },
  {
   "cell_type": "code",
   "execution_count": 3,
   "id": "86c6a85d",
   "metadata": {},
   "outputs": [
    {
     "data": {
      "text/plain": [
       "(144, 17)"
      ]
     },
     "execution_count": 3,
     "metadata": {},
     "output_type": "execute_result"
    }
   ],
   "source": [
    "df = pd.read_csv(\"../data/respuestas.csv\")\n",
    "df.shape"
   ]
  },
  {
   "cell_type": "code",
   "execution_count": 4,
   "id": "996dc440",
   "metadata": {},
   "outputs": [
    {
     "data": {
      "text/html": [
       "<div>\n",
       "<style scoped>\n",
       "    .dataframe tbody tr th:only-of-type {\n",
       "        vertical-align: middle;\n",
       "    }\n",
       "\n",
       "    .dataframe tbody tr th {\n",
       "        vertical-align: top;\n",
       "    }\n",
       "\n",
       "    .dataframe thead th {\n",
       "        text-align: right;\n",
       "    }\n",
       "</style>\n",
       "<table border=\"1\" class=\"dataframe\">\n",
       "  <thead>\n",
       "    <tr style=\"text-align: right;\">\n",
       "      <th></th>\n",
       "      <th>0</th>\n",
       "      <th>1</th>\n",
       "      <th>2</th>\n",
       "      <th>3</th>\n",
       "      <th>4</th>\n",
       "    </tr>\n",
       "  </thead>\n",
       "  <tbody>\n",
       "    <tr>\n",
       "      <th>timestamp</th>\n",
       "      <td>3/12/2021 19:15:01</td>\n",
       "      <td>3/17/2021 21:12:19</td>\n",
       "      <td>3/18/2021 21:28:35</td>\n",
       "      <td>3/26/2021 22:14:29</td>\n",
       "      <td>4/19/2021 13:40:42</td>\n",
       "    </tr>\n",
       "    <tr>\n",
       "      <th>q_edad</th>\n",
       "      <td>10</td>\n",
       "      <td>9</td>\n",
       "      <td>10</td>\n",
       "      <td>9</td>\n",
       "      <td>9</td>\n",
       "    </tr>\n",
       "    <tr>\n",
       "      <th>q_genero</th>\n",
       "      <td>f</td>\n",
       "      <td>f</td>\n",
       "      <td>m</td>\n",
       "      <td>f</td>\n",
       "      <td>f</td>\n",
       "    </tr>\n",
       "    <tr>\n",
       "      <th>q_donde_compu</th>\n",
       "      <td>a_donde_compu_casa</td>\n",
       "      <td>a_donde_compu_casa</td>\n",
       "      <td>a_donde_compu_casa</td>\n",
       "      <td>a_donde_compu_casa</td>\n",
       "      <td>a_donde_compu_casa</td>\n",
       "    </tr>\n",
       "    <tr>\n",
       "      <th>q_que_haces_compu</th>\n",
       "      <td>a_que_haces_compu_videos, a_que_haces_compu_tarea</td>\n",
       "      <td>a_que_haces_compu_juegos</td>\n",
       "      <td>a_que_haces_compu_videos</td>\n",
       "      <td>a_que_haces_compu_juegos, a_que_haces_compu_vi...</td>\n",
       "      <td>a_que_haces_compu_juegos, a_que_haces_compu_vi...</td>\n",
       "    </tr>\n",
       "    <tr>\n",
       "      <th>q_donde_aprendiste_compu</th>\n",
       "      <td>a_donde_aprendiste_compu_casa</td>\n",
       "      <td>a_donde_aprendiste_compu_solo</td>\n",
       "      <td>a_donde_aprendiste_compu_escuela</td>\n",
       "      <td>a_donde_aprendiste_compu_casa, a_donde_aprendi...</td>\n",
       "      <td>a_donde_aprendiste_compu_casa</td>\n",
       "    </tr>\n",
       "    <tr>\n",
       "      <th>q_que_celu_usas</th>\n",
       "      <td>a_que_celu_usas_propio</td>\n",
       "      <td>a_que_celu_usas_propio</td>\n",
       "      <td>a_que_celu_usas_propio</td>\n",
       "      <td>a_que_celu_usas_prestado</td>\n",
       "      <td>a_que_celu_usas_propio</td>\n",
       "    </tr>\n",
       "    <tr>\n",
       "      <th>q_que_haces_celu</th>\n",
       "      <td>a_que_haces_celu_chat, a_que_haces_celu_videos...</td>\n",
       "      <td>a_que_haces_celu_redes</td>\n",
       "      <td>a_que_haces_celu_juegos</td>\n",
       "      <td>a_que_haces_celu_chat, a_que_haces_celu_telefo...</td>\n",
       "      <td>a_que_haces_celu_chat</td>\n",
       "    </tr>\n",
       "    <tr>\n",
       "      <th>q_yt</th>\n",
       "      <td>a_yt_1compu</td>\n",
       "      <td>a_yt_1compu</td>\n",
       "      <td>a_yt_muchascompu</td>\n",
       "      <td>a_yt_nose</td>\n",
       "      <td>a_yt_celular</td>\n",
       "    </tr>\n",
       "    <tr>\n",
       "      <th>q_acceso_fotos</th>\n",
       "      <td>a_acceso_fotos_yoyotros</td>\n",
       "      <td>a_acceso_fotos_yo</td>\n",
       "      <td>a_acceso_fotos_yo</td>\n",
       "      <td>a_acceso_fotos_yoyotros</td>\n",
       "      <td>a_acceso_fotos_yo</td>\n",
       "    </tr>\n",
       "    <tr>\n",
       "      <th>q_mandar_fotos</th>\n",
       "      <td>a_mandar_fotos_enwa</td>\n",
       "      <td>a_mandar_fotos_enwa</td>\n",
       "      <td>a_mandar_fotos_copia</td>\n",
       "      <td>a_mandar_fotos_copia</td>\n",
       "      <td>a_mandar_fotos_laveenmicelu</td>\n",
       "    </tr>\n",
       "    <tr>\n",
       "      <th>q_mandar_fotos_agrup</th>\n",
       "      <td>referencia</td>\n",
       "      <td>referencia</td>\n",
       "      <td>copia</td>\n",
       "      <td>copia</td>\n",
       "      <td>referencia</td>\n",
       "    </tr>\n",
       "    <tr>\n",
       "      <th>q_borrar_fotos</th>\n",
       "      <td>a_borrar_fotos_enelchat</td>\n",
       "      <td>a_borrar_fotos_nopuedo</td>\n",
       "      <td>a_borrar_fotos_enelchat</td>\n",
       "      <td>a_borrar_fotos_enelchat</td>\n",
       "      <td>a_borrar_fotos_enelchat</td>\n",
       "    </tr>\n",
       "    <tr>\n",
       "      <th>q_mensaje_sin_wifi</th>\n",
       "      <td>a_mensaje_sin_wifi_directo</td>\n",
       "      <td>a_mensaje_sin_wifi_nube</td>\n",
       "      <td>a_mensaje_sin_wifi_red</td>\n",
       "      <td>a_mensaje_sin_wifi_directo</td>\n",
       "      <td>a_mensaje_sin_wifi_directo</td>\n",
       "    </tr>\n",
       "    <tr>\n",
       "      <th>q_mensaje_sin_wifi_agrup</th>\n",
       "      <td>otras</td>\n",
       "      <td>otras</td>\n",
       "      <td>red</td>\n",
       "      <td>otras</td>\n",
       "      <td>otras</td>\n",
       "    </tr>\n",
       "    <tr>\n",
       "      <th>q_gratuidad</th>\n",
       "      <td>a_gratuidad_publicidades, a_gratuidad_paraquet...</td>\n",
       "      <td>a_gratuidad_yatienenplata</td>\n",
       "      <td>a_gratuidad_datos</td>\n",
       "      <td>a_gratuidad_datos, a_gratuidad_paraquetodoslas...</td>\n",
       "      <td>a_gratuidad_yatienenplata</td>\n",
       "    </tr>\n",
       "    <tr>\n",
       "      <th>q_escuela</th>\n",
       "      <td>a_escuela_piloteo</td>\n",
       "      <td>a_escuela_piloteo</td>\n",
       "      <td>a_escuela_piloteo</td>\n",
       "      <td>a_escuela_piloteo</td>\n",
       "      <td>a_escuela_n83_4to</td>\n",
       "    </tr>\n",
       "  </tbody>\n",
       "</table>\n",
       "</div>"
      ],
      "text/plain": [
       "                                                                          0  \\\n",
       "timestamp                                                3/12/2021 19:15:01   \n",
       "q_edad                                                                   10   \n",
       "q_genero                                                                  f   \n",
       "q_donde_compu                                            a_donde_compu_casa   \n",
       "q_que_haces_compu         a_que_haces_compu_videos, a_que_haces_compu_tarea   \n",
       "q_donde_aprendiste_compu                      a_donde_aprendiste_compu_casa   \n",
       "q_que_celu_usas                                      a_que_celu_usas_propio   \n",
       "q_que_haces_celu          a_que_haces_celu_chat, a_que_haces_celu_videos...   \n",
       "q_yt                                                            a_yt_1compu   \n",
       "q_acceso_fotos                                      a_acceso_fotos_yoyotros   \n",
       "q_mandar_fotos                                          a_mandar_fotos_enwa   \n",
       "q_mandar_fotos_agrup                                             referencia   \n",
       "q_borrar_fotos                                      a_borrar_fotos_enelchat   \n",
       "q_mensaje_sin_wifi                               a_mensaje_sin_wifi_directo   \n",
       "q_mensaje_sin_wifi_agrup                                              otras   \n",
       "q_gratuidad               a_gratuidad_publicidades, a_gratuidad_paraquet...   \n",
       "q_escuela                                                 a_escuela_piloteo   \n",
       "\n",
       "                                                      1  \\\n",
       "timestamp                            3/17/2021 21:12:19   \n",
       "q_edad                                                9   \n",
       "q_genero                                              f   \n",
       "q_donde_compu                        a_donde_compu_casa   \n",
       "q_que_haces_compu              a_que_haces_compu_juegos   \n",
       "q_donde_aprendiste_compu  a_donde_aprendiste_compu_solo   \n",
       "q_que_celu_usas                  a_que_celu_usas_propio   \n",
       "q_que_haces_celu                 a_que_haces_celu_redes   \n",
       "q_yt                                        a_yt_1compu   \n",
       "q_acceso_fotos                        a_acceso_fotos_yo   \n",
       "q_mandar_fotos                      a_mandar_fotos_enwa   \n",
       "q_mandar_fotos_agrup                         referencia   \n",
       "q_borrar_fotos                   a_borrar_fotos_nopuedo   \n",
       "q_mensaje_sin_wifi              a_mensaje_sin_wifi_nube   \n",
       "q_mensaje_sin_wifi_agrup                          otras   \n",
       "q_gratuidad                   a_gratuidad_yatienenplata   \n",
       "q_escuela                             a_escuela_piloteo   \n",
       "\n",
       "                                                         2  \\\n",
       "timestamp                               3/18/2021 21:28:35   \n",
       "q_edad                                                  10   \n",
       "q_genero                                                 m   \n",
       "q_donde_compu                           a_donde_compu_casa   \n",
       "q_que_haces_compu                 a_que_haces_compu_videos   \n",
       "q_donde_aprendiste_compu  a_donde_aprendiste_compu_escuela   \n",
       "q_que_celu_usas                     a_que_celu_usas_propio   \n",
       "q_que_haces_celu                   a_que_haces_celu_juegos   \n",
       "q_yt                                      a_yt_muchascompu   \n",
       "q_acceso_fotos                           a_acceso_fotos_yo   \n",
       "q_mandar_fotos                        a_mandar_fotos_copia   \n",
       "q_mandar_fotos_agrup                                 copia   \n",
       "q_borrar_fotos                     a_borrar_fotos_enelchat   \n",
       "q_mensaje_sin_wifi                  a_mensaje_sin_wifi_red   \n",
       "q_mensaje_sin_wifi_agrup                               red   \n",
       "q_gratuidad                              a_gratuidad_datos   \n",
       "q_escuela                                a_escuela_piloteo   \n",
       "\n",
       "                                                                          3  \\\n",
       "timestamp                                                3/26/2021 22:14:29   \n",
       "q_edad                                                                    9   \n",
       "q_genero                                                                  f   \n",
       "q_donde_compu                                            a_donde_compu_casa   \n",
       "q_que_haces_compu         a_que_haces_compu_juegos, a_que_haces_compu_vi...   \n",
       "q_donde_aprendiste_compu  a_donde_aprendiste_compu_casa, a_donde_aprendi...   \n",
       "q_que_celu_usas                                    a_que_celu_usas_prestado   \n",
       "q_que_haces_celu          a_que_haces_celu_chat, a_que_haces_celu_telefo...   \n",
       "q_yt                                                              a_yt_nose   \n",
       "q_acceso_fotos                                      a_acceso_fotos_yoyotros   \n",
       "q_mandar_fotos                                         a_mandar_fotos_copia   \n",
       "q_mandar_fotos_agrup                                                  copia   \n",
       "q_borrar_fotos                                      a_borrar_fotos_enelchat   \n",
       "q_mensaje_sin_wifi                               a_mensaje_sin_wifi_directo   \n",
       "q_mensaje_sin_wifi_agrup                                              otras   \n",
       "q_gratuidad               a_gratuidad_datos, a_gratuidad_paraquetodoslas...   \n",
       "q_escuela                                                 a_escuela_piloteo   \n",
       "\n",
       "                                                                          4  \n",
       "timestamp                                                4/19/2021 13:40:42  \n",
       "q_edad                                                                    9  \n",
       "q_genero                                                                  f  \n",
       "q_donde_compu                                            a_donde_compu_casa  \n",
       "q_que_haces_compu         a_que_haces_compu_juegos, a_que_haces_compu_vi...  \n",
       "q_donde_aprendiste_compu                      a_donde_aprendiste_compu_casa  \n",
       "q_que_celu_usas                                      a_que_celu_usas_propio  \n",
       "q_que_haces_celu                                      a_que_haces_celu_chat  \n",
       "q_yt                                                           a_yt_celular  \n",
       "q_acceso_fotos                                            a_acceso_fotos_yo  \n",
       "q_mandar_fotos                                  a_mandar_fotos_laveenmicelu  \n",
       "q_mandar_fotos_agrup                                             referencia  \n",
       "q_borrar_fotos                                      a_borrar_fotos_enelchat  \n",
       "q_mensaje_sin_wifi                               a_mensaje_sin_wifi_directo  \n",
       "q_mensaje_sin_wifi_agrup                                              otras  \n",
       "q_gratuidad                                       a_gratuidad_yatienenplata  \n",
       "q_escuela                                                 a_escuela_n83_4to  "
      ]
     },
     "execution_count": 4,
     "metadata": {},
     "output_type": "execute_result"
    }
   ],
   "source": [
    "df.head().transpose()"
   ]
  },
  {
   "cell_type": "markdown",
   "id": "8fd2a223",
   "metadata": {},
   "source": [
    "# Descripción del grupo\n",
    "\n",
    "A continuación se describe el grupo encuestado según distintas variables poblacionales. \n"
   ]
  },
  {
   "cell_type": "code",
   "execution_count": 5,
   "id": "71a64a64",
   "metadata": {},
   "outputs": [
    {
     "data": {
      "image/png": "[encoded data removed]",
      "text/plain": [
       "<Figure size 432x288 with 1 Axes>"
      ]
     },
     "metadata": {
      "needs_background": "light"
     },
     "output_type": "display_data"
    }
   ],
   "source": [
    "# Participantes por Edad\n",
    "\n",
    "df[\"q_edad\"].value_counts().plot.bar(rot=0)\n",
    "plt.xlabel(\"Edad\")\n",
    "plt.title(\"Distribución según edad\", fontsize=15);"
   ]
  },
  {
   "cell_type": "code",
   "execution_count": 6,
   "id": "f5ce911b",
   "metadata": {},
   "outputs": [
    {
     "data": {
      "image/png": "[encoded data removed]",
      "text/plain": [
       "<Figure size 432x288 with 1 Axes>"
      ]
     },
     "metadata": {
      "needs_background": "light"
     },
     "output_type": "display_data"
    }
   ],
   "source": [
    "# Participantes por Género\n",
    "\n",
    "df[\"q_genero\"].value_counts().plot.bar(rot=0)\n",
    "plt.xlabel(\"Género\")\n",
    "plt.xticks([0, 1, 2], ['masculino', 'femenino', 'otro'])\n",
    "plt.title(\"Distribución según género\", fontsize=15);"
   ]
  },
  {
   "cell_type": "markdown",
   "id": "55d5fb1e",
   "metadata": {},
   "source": [
    "Podemos ver que se trata de un grupo bastante homogéneo en cuanto a la edad, en tanto es el objeto de nuestro estudio el grupo comprendido por niños y niñas de alrededor de diez años. En tanto al género tenemos una muy buena distribución también."
   ]
  },
  {
   "cell_type": "code",
   "execution_count": 7,
   "id": "a8c49631",
   "metadata": {},
   "outputs": [
    {
     "data": {
      "image/png": "[encoded data removed]",
      "text/plain": [
       "<Figure size 864x360 with 1 Axes>"
      ]
     },
     "metadata": {
      "needs_background": "light"
     },
     "output_type": "display_data"
    }
   ],
   "source": [
    "# En qué lugar usas más comunmente la computadora?\n",
    "positions = (0, 1, 2, 3)\n",
    "labels = (\"En casa\", \"En la escuela\", \"En lo de un familiar\", \"No tengo\")\n",
    "\n",
    "df[\"q_donde_compu\"].value_counts().plot.bar(figsize=(12,5))\n",
    "plt.title(\"¿Dónde usas comunmente la computadora?\", fontsize=15)\n",
    "plt.xticks(positions, labels,rotation=0);"
   ]
  },
  {
   "cell_type": "code",
   "execution_count": 8,
   "id": "e40cfefa",
   "metadata": {
    "scrolled": false
   },
   "outputs": [
    {
     "data": {
      "image/png": "[encoded data removed]",
      "text/plain": [
       "<Figure size 864x360 with 1 Axes>"
      ]
     },
     "metadata": {
      "needs_background": "light"
     },
     "output_type": "display_data"
    }
   ],
   "source": [
    "# ¿Qué hacés cuando usás la computadora (podés elegir más de una opción)?\n",
    "positions = (0, 1, 2, 3, 4, 5)\n",
    "labels = (\"Juegos\", \"Actividades escolares\", \"YouTube\", \"Zoom, Skype, Meet\", \"Actividades creativas\", \"No uso\")\n",
    "\n",
    "df[\"q_que_haces_compu\"].str.replace(\" \", \"\").str.get_dummies(sep=',') \\\n",
    "    .sum().sort_values(ascending=False).plot.bar(figsize=(12,5))\n",
    "plt.title(\"¿Qué hacés cuando usás la computadora?\", fontsize=15);\n",
    "plt.xticks(positions, labels,rotation=0);\n"
   ]
  },
  {
   "cell_type": "markdown",
   "id": "8ec06b41",
   "metadata": {},
   "source": [
    "Queda claro que la mayor parte de los participantes utilizan la computadora en su casa. Siendo que tanto este año como el anterior vivimos en un contexto de pandemia, este resultado no resulta sorprendente.\n",
    "\n",
    "Podemos destacar que la mayor parte de los niños y niñas parecieran contar con una computadora en sus hogares, siendo tan solo uno de ellos quien respondió que no poseía una.\n",
    "\n",
    "También les preguntamos para qué utilizan más comúnmente la computadora. Les dimos la posibilidad de marcar más de una opción dentro de una serie de respuestas y al mismo tiempo, dejamos espacio disponible para poder completar con otras actividades que no estuvieran dentro de las que les habíamos propuesto.\n",
    "\n",
    "Por otro lado, la mayoría utiliza la computadora para jugar juegos, siendo las siguientes actividades más usuales mirar videos en YouTube, realizar videollamadas utilizando Skype, Meet o Zoom y realizar actividades escolares. Nuevamente, esto tiene sentido siendo que durante todo el 2020 en Argentina hubo clases de manera virtual."
   ]
  },
  {
   "cell_type": "code",
   "execution_count": 9,
   "id": "d1927535",
   "metadata": {},
   "outputs": [
    {
     "data": {
      "image/png": "[encoded data removed]",
      "text/plain": [
       "<Figure size 432x288 with 1 Axes>"
      ]
     },
     "metadata": {
      "needs_background": "light"
     },
     "output_type": "display_data"
    }
   ],
   "source": [
    "#¿Dónde aprendiste a usar la computadora? \n",
    "\n",
    "positions = (0, 1, 2)\n",
    "labels = (\"En casa\", \"Aprendí solo\", \"En la escuela\")\n",
    "\n",
    "\n",
    "df[\"q_donde_aprendiste_compu\"].str.replace(\" \", \"\").str.get_dummies(sep=',') \\\n",
    "    .sum().sort_values(ascending=False).plot.bar()\n",
    "plt.title(\"¿Dónde aprendiste a usar la computadora?\", fontsize=15);\n",
    "\n",
    "plt.xticks(positions, labels,rotation=0);\n"
   ]
  },
  {
   "cell_type": "markdown",
   "id": "cd190274",
   "metadata": {},
   "source": [
    "En cuanto a la forma en la que aprendieron a usar la computadora, podemos ver que las opciones más elegidas son _\"Me enseñaron en mi casa (mis padres, hermanos u otro familiar)\"_ y _\"Aprendí solo\"_. \n",
    "\n",
    "Podemos ver que la tendencia está claramente más orientada a la formación recibida en el hogar, tanto por la enseñanza directa por parte de la familia o bien tal vez por la observación o la experiencia indirecta, al ver a otros miembros de la familia. \n",
    "\n",
    "Esta hipótesis es respaldada por otros estudios anteriores, como por ejemplo el de Mertala [8] _“Young children's perceptions of ubiquitous computing and the Internet of Things”_ donde explica que el conocimiento de los chicos sobre las distintas tecnologías se basa en el contacto que tuvieron con éstas a través de sus padres, hermanos u otras figuras del entorno familiar o escolar. \n",
    "\n",
    "De esta forma, esta percepción de haber \"aprendido solos\" podría tener raíz en este contacto indirecto."
   ]
  },
  {
   "cell_type": "code",
   "execution_count": 10,
   "id": "0b0d9d34",
   "metadata": {},
   "outputs": [
    {
     "data": {
      "image/png": "[encoded data removed]",
      "text/plain": [
       "<Figure size 432x288 with 1 Axes>"
      ]
     },
     "metadata": {
      "needs_background": "light"
     },
     "output_type": "display_data"
    }
   ],
   "source": [
    "#¿Qué celular usás?\n",
    "\n",
    "positions = (0, 1, 2)\n",
    "labels = (\"El mío\", \"Me prestan uno\", \"No uso\")\n",
    "\n",
    "df[\"q_que_celu_usas\"].value_counts().plot.bar()\n",
    "plt.title(\"¿Qué celular usás?\", fontsize=15)\n",
    "plt.xticks(positions, labels,rotation=0);\n"
   ]
  },
  {
   "cell_type": "code",
   "execution_count": 11,
   "id": "d665ae52",
   "metadata": {},
   "outputs": [
    {
     "data": {
      "image/png": "[encoded data removed]",
      "text/plain": [
       "<Figure size 1080x360 with 1 Axes>"
      ]
     },
     "metadata": {
      "needs_background": "light"
     },
     "output_type": "display_data"
    }
   ],
   "source": [
    "# Si usás celular: ¿qué haces cuando usás el celular? (podés elegir más de una opción)\n",
    "\n",
    "positions = (0, 1, 2, 3, 4, 5, 6, 7)\n",
    "labels = (\"Juegos\", \"Chat\", \"YouTube\", \"Llamadas\\n telefónicas\", \"Redes sociales\", \\\n",
    "          \"No uso\", \"Actividades\\n creativas\", \"Actividades\\n escolares\")\n",
    "\n",
    "df[\"q_que_haces_celu\"].str.replace(\" \", \"\").str.get_dummies(sep=',') \\\n",
    "    .sum().sort_values(ascending=False).plot.bar(figsize=(15,5))\n",
    "plt.title(\"¿Qué haces cuando usás el celular?\", fontsize=15);\n",
    "plt.xticks(positions, labels,rotation=0);\n"
   ]
  },
  {
   "cell_type": "markdown",
   "id": "7f2c591c",
   "metadata": {},
   "source": [
    "Al indagar en la forma en que los chicos y chicas utilizan los celulares nos encontramos con que la gran mayoría cuenta con un dispositivo propio.\n",
    "\n",
    "La actividad más realizada es nuevamente jugar juegos, pero se suma con mucha importancia también el chat (utilizando aplicaciones de mensajería tales como Whatsapp, Telegram, etc) y mirar videos en YouTube.\n",
    "\n",
    "Es llamativo que haya aparecido _\"Llamadas telefónicas\"_ como una actividad de una importancia considerable, aunque cabe preguntarse si habría que haber pedido que especifiquen si se referían videollamadas utilizando las aplicaciones anteriormente mencionadas, y en tal caso la actividad \"Chat\" cobraría aún más relevancia.\n",
    "\n",
    "Dentro de _\"Redes Sociales\"_ se incluyen ejemplos como TikTok, Instagram y Facebook, aunque no les pedimos que especifiquen ninguna en particular. Sin embargo, sabemos por la consulta realizada previamente a la confección de la encuesta que realizamos a los referentes pedagógicos de la Fundación Sadosky que trabajan para el Plan Ceibal, que la red social elegida por sobre las otras es en estos momentos TikTok.\n",
    "\n",
    "Por último, cabe destacar que _\"Actividades creativas\"_ no fue una opción propuesta por nosotros en el cuestionario (tanto en esta pregunta como en la relacionada a las actividades realizadas con la computadora), sino que fue agregada por los chicos y chicas al momento de completar la encuesta. Dentro de este grupo, agrupamos respuestas que se referían a la edición de videos y fotos (tal vez para compartir en aplicaciones tales como TikTok o Instagram), escuchar música y escribir historias."
   ]
  },
  {
   "cell_type": "markdown",
   "id": "7e0af67b",
   "metadata": {},
   "source": [
    "# Análisis exploratorio de misconceptions\n"
   ]
  },
  {
   "cell_type": "code",
   "execution_count": 12,
   "id": "bbd92db2",
   "metadata": {
    "scrolled": false
   },
   "outputs": [
    {
     "data": {
      "image/png": "[encoded data removed]",
      "text/plain": [
       "<Figure size 864x360 with 1 Axes>"
      ]
     },
     "metadata": {
      "needs_background": "light"
     },
     "output_type": "display_data"
    }
   ],
   "source": [
    "# ¿Dónde se almacenan los videos que están en YouTube?\n",
    "positions = (0, 1, 2, 3, 4, 5)\n",
    "labels = (\"La nube\", \"No sé\", \"Mi celular\", \"Muchísimas\\n compus\", \"Una compu\", \"Muchas compus\")\n",
    "\n",
    "df[\"q_yt\"].value_counts().plot.bar(figsize=(12,5))\n",
    "plt.title(\"¿Dónde se almacenan los videos que están en YouTube?\", fontsize=15)\n",
    "plt.xticks(positions, labels,rotation=0);"
   ]
  },
  {
   "cell_type": "markdown",
   "id": "a35e1a8c",
   "metadata": {},
   "source": [
    "El primer tema a analizar es el almacenamiento de grandes volúmenes de datos en YouTube. Para esto le preguntamos a los chicos _\"¿Dónde se almacenan los videos que están en YouTube?\"_ y les dimos como opciones de respuesta _\"En mi celular\"_, _\"En la nube\"_, _\"En una computadora\"_, _\"En muchas computadoras (tantas que podríamos llenar una casa)\"_, _\"En muchísimas computadoras (tantas que podríamos llenar una cancha de fútbol)\"_ o bien _\"No sé\"_.\n",
    "\n",
    "Podemos ver en un resultado inicial que la mayoría de ellos respondió _\"En la nube\"_. Esto es interesante porque el concepto de \"Nube\" es actualmente muy mencionado y por lo tanto está en el léxico de los chicos, a quienes seguramente Google les habrá ofrecido más de una vez _\"más espacio de almacenamiento en la nube\"_ (por nombrar un ejemplo). Sin embargo, cabe preguntarse si hay _misconceptions_ respecto de este tema puntual: ¿piensan la nube como algo etéreo? ¿Qué cantidad de información \"entra\" en la nube? ¿Cómo funciona? Este es sin duda un tema interesante para seguir investigando a futuro.\n",
    "\n",
    "En siguiente lugar nos encontramos con la respuesta _\"No sé\"_. Esto deja en evidencia que éste es un tema sobre el cual no se han preguntado mucho, incluso siendo que mirar videos en YouTube es la tercer actividad más elegida (tanto en la computadora como en el celular). \n",
    "\n",
    "Luego nos encontramos con similar cantidad de respuestas con las opciones de _\"En mi celular\"_ y en _\"Muchísimas computadoras (tantas que podríamos llenar una cancha de fútbol)\"_. Por un lado, está la _misconception_ de que el almacenamiento se da a nivel local, y más aún, que la cantidad información a almacenar es tal que entraría en un celular. Por otro lado, nos encontramos con la respuesta que propusimos como correcta, en la que queremos transmitir la idea de información distribuida en gran escala.\n",
    "\n",
    "Por último tenemos quienes opinaron que la información se guarda en una sola computadora, con la idea de almacenamiento no distribuido, pero tal vez con más capacidad que un celular, y en _\"En muchas computadoras (tantas que podríamos llenar una casa)\"_, donde quisimos transmitir una noción de almacenamiento distribuido pero a una escala menor que en la opción de \"**Muchísimas** computadoras\" (tal vez incluso llevarlos a pensar en que las muchas computadoras podrían encontrarse en una oficina de YouTube o Google, pero todas en un mismo lugar físico).\n",
    "\n",
    "\n",
    "\n"
   ]
  },
  {
   "cell_type": "code",
   "execution_count": 13,
   "id": "1aa3c4b3",
   "metadata": {},
   "outputs": [
    {
     "data": {
      "image/png": "[encoded data removed]",
      "text/plain": [
       "<Figure size 432x288 with 1 Axes>"
      ]
     },
     "metadata": {
      "needs_background": "light"
     },
     "output_type": "display_data"
    }
   ],
   "source": [
    "# ¿Quién tiene acceso a las fotos que tengo guardadas en mi celular?\n",
    "positions = (0, 1, 2)\n",
    "labels = (\"Solo yo\", \"Yo y otros\", \"No sé\")\n",
    "\n",
    "df[\"q_acceso_fotos\"].value_counts().plot.bar()\n",
    "plt.title(\"¿Quién tiene acceso a las fotos que tengo guardadas en mi celular?\", fontsize=15)\n",
    "plt.xticks(positions, labels, rotation=0);"
   ]
  },
  {
   "cell_type": "markdown",
   "id": "bfc47ec9",
   "metadata": {},
   "source": [
    "La siguiente _misconception_ que queremos analizar es cómo es el mecanismo para compartir un archivo por WhatsApp. \n",
    "\n",
    "En particular, vamos a profundizar en sí, al compartir una imágen por este medio se genera una copia de la misma o bien se comparte \"por referencia\". \n",
    "\n",
    "Para esto, la primer pregunta que les hacemos es _\"¿Quién tiene acceso a las fotos que tengo guardadas en mi celular?\"_. Como vemos, la mayor parte de quienes entrevistamos respondió correctamente _\"Solo yo\"_. Si bien por como está planteada la pregunta es posible que dieramos una sensación cuál era la respuesta correcta, la idea fue poder armar un camino de razonamiento como el siguiente:\n",
    "\n",
    "1. En primer lugar, quién tiene acceso a los archivos que tengo guardados en mi celular.\n",
    "2. ¿Cuando comparto por WhatsApp un archivo que tenía guardado: se genera una copia o se muestra una referencia a mi archivo?\n",
    "3. Y por último: ¿qué pasa si ya no quiero compartir ese archivo? ¿Es posible? ¿Puedo perder la propiedad de un archivo que compartí por WhatsApp?\n",
    "\n",
    "Veamos entonces en la siguiente pregunta el punto 2.\n"
   ]
  },
  {
   "cell_type": "code",
   "execution_count": 14,
   "id": "8d35543f",
   "metadata": {},
   "outputs": [
    {
     "data": {
      "image/png": "[encoded data removed]",
      "text/plain": [
       "<Figure size 864x360 with 1 Axes>"
      ]
     },
     "metadata": {
      "needs_background": "light"
     },
     "output_type": "display_data"
    }
   ],
   "source": [
    "# Cuando le mando a una amiga una foto por WhatsApp...\n",
    "positions = (0, 1, 2, 3)\n",
    "labels = (\"Le mando una copia\", \\\n",
    "          \"La foto ahora existe en el chat,\\n pero no la tiene en su celular\", \\\n",
    "          \"No sé\", \\\n",
    "          \"Le doy permiso para ver la foto\\n que tengo guardada en mi celular.\")\n",
    "\n",
    "\n",
    "df[\"q_mandar_fotos\"].value_counts().plot.bar(figsize=(12,5))\n",
    "plt.title(\"Cuando le mando a una amiga una foto por WhatsApp...\", fontsize=15)\n",
    "plt.xticks(positions, labels, rotation=0);\n"
   ]
  },
  {
   "cell_type": "markdown",
   "id": "19612146",
   "metadata": {},
   "source": [
    "Acá podemos ver que es bastante pareja la cantidad de niños y niñas que opinan, por un lado, que cuando se envía una foto, lo que se manda es una copia y por el otro, que esa foto \"existe en WhatsApp\" pero que la persona a la que se la enviaron no la tiene como copia en su celular. \n",
    "\n",
    "En esta última opción quisimos dar una idea de referencia, y dejar claro que el archivo compartido no le quedaría en forma de copia a la otra persona, si no que solo se podría acceder vía referencia. \n",
    "\n",
    "De todas maneras, a pesar de que la respuesta más elegida es la \"correcta\", el número de encuestados y encuestadas con y sin _misconceptions_ es similar. En el gráfico ()\n"
   ]
  },
  {
   "cell_type": "code",
   "execution_count": 15,
   "id": "38a4ba08",
   "metadata": {},
   "outputs": [
    {
     "data": {
      "image/png": "[encoded data removed]",
      "text/plain": [
       "<Figure size 432x288 with 1 Axes>"
      ]
     },
     "metadata": {
      "needs_background": "light"
     },
     "output_type": "display_data"
    }
   ],
   "source": [
    "# Copia vs ref\n",
    "positions = (0, 1)\n",
    "labels = (\"Por copia\",\"Por referencia\")\n",
    "df[\"q_mandar_fotos_agrup\"].value_counts()[:2].plot.bar();\n",
    "plt.title(\"¿La foto se manda por copia o referencia?\", fontsize=15);\n",
    "plt.xticks(positions, labels, rotation=0);\n"
   ]
  },
  {
   "cell_type": "markdown",
   "id": "e8017aeb",
   "metadata": {},
   "source": [
    "Por _\"copia\"_ tomamos a los entrevistados que respondieron que al compartir la foto se manda una copia de la misma y por _\"referencia\"_ consideramos a la unión de los niños que eligieron las opciones _\"Le doy permiso para ver la foto que tengo guardada en mi celular\"_ y _\"La foto ahora existe en WhatsApp y mi amiga la puede ver cuando mira nuestro chat, pero no la tiene en su celular\"_. Para mayor claridad, dejamos afuera a quienes respondieron _\"No sé\"_."
   ]
  },
  {
   "cell_type": "code",
   "execution_count": 16,
   "id": "06f14c6f",
   "metadata": {
    "scrolled": false
   },
   "outputs": [
    {
     "data": {
      "image/png": "[encoded data removed]",
      "text/plain": [
       "<Figure size 864x360 with 1 Axes>"
      ]
     },
     "metadata": {
      "needs_background": "light"
     },
     "output_type": "display_data"
    }
   ],
   "source": [
    "# Si quiero hacer que mi amiga no pueda ver más la foto, ¿qué puedo hacer?\n",
    "\n",
    "positions = (0, 1, 2, 3)\n",
    "labels = (\"Tengo que borrar \\nla foto en el chat.\", \\\n",
    "          \"No puedo hacer nada,\\n mi amiga ahora también\\n tiene la foto.\", \\\n",
    "          \"No sé\", \\\n",
    "          \"Tengo que borrar la \\nfoto en la Galería\")\n",
    "\n",
    "\n",
    "df[\"q_borrar_fotos\"].value_counts().plot.bar(figsize=(12,5))\n",
    "plt.title(\"Si quiero hacer que mi amiga no pueda ver más la foto, ¿qué puedo hacer?\", fontsize=15)\n",
    "\n",
    "plt.xticks(positions, labels, rotation=0);\n",
    "\n"
   ]
  },
  {
   "cell_type": "markdown",
   "id": "390db4fc",
   "metadata": {},
   "source": [
    "Por último, como habíamos mencionado anteriormente en el punto 3, les preguntamos qué pueden hacer si quieren que la persona a la que le compartieron la foto no pueda acceder más a ella. \n",
    "\n",
    "Con esta pregunta, intentamos fijar los conceptos vistos anteriormente y dilucidar si la idea de copia y referencia estaba bien arraigada.\n",
    "\n",
    "Al analizar los datos, nos encontramos con una sorpresa: si bien en las dos preguntas anteriores, la mayor parte de los niños y niñas encuestados había contestado correctamente dando a conocer que los archivos se envían como una copia cuando se comparten por WhatsApp, en esta pregunta mostraron tener una _misconception_.\n",
    "\n",
    "La opción más elegida fue que para dejar de compartir esa foto bastaría con borrarla en el chat de WhatsApp. Esta respuesta da una idea de que hay una referencia de la foto existente en el servidor de WhatsApp y que al eliminar el mensaje con el archivo en el chat, es suficiente para quitarle el acceso a la otra persona a los datos previamente compartidos.\n",
    "\n",
    "En contraste, la opción _\"No puedo hacer nada, mi amiga ahora también tiene la foto y no tengo manera de sacársela\"_ intentaba reflejar la idea de que el archivo es compartido mediante una copia, y que una vez que ésta es enviada a la otra persona, se pierde la propiedad sobre la misma y no es posible hacer nada al respecto.\n",
    "\n"
   ]
  },
  {
   "cell_type": "code",
   "execution_count": 17,
   "id": "ca394fef",
   "metadata": {},
   "outputs": [
    {
     "data": {
      "image/png": "[encoded data removed]",
      "text/plain": [
       "<Figure size 864x360 with 1 Axes>"
      ]
     },
     "metadata": {
      "needs_background": "light"
     },
     "output_type": "display_data"
    }
   ],
   "source": [
    "# Sofi está en la calle sin Wi-Fi y le quiere mandar un mensaje de WhatsApp a Santi.  ¿Cuál de las cinco imágenes representa mejor la manera en la que el mensaje viaja?\n",
    "\n",
    "\n",
    "positions = (0, 1, 2, 3, 4, 5)\n",
    "labels = (\"No sé\", \\\n",
    "          \"Red de computadoras \\ny antenas\", \\\n",
    "          \"Una antena\", \\\n",
    "          \"Un satélite\", \\\n",
    "          \"Directamente\", \n",
    "          \"La nube\")\n",
    "\n",
    "\n",
    "df[\"q_mensaje_sin_wifi\"].value_counts().plot.bar(figsize=(12,5))\n",
    "plt.title(\"¿Cómo viajan los mensajes cuando no hay Wi-Fi?\", fontsize=15)\n",
    "\n",
    "plt.xticks(positions, labels, rotation=0);\n"
   ]
  },
  {
   "cell_type": "markdown",
   "id": "be9a71ab",
   "metadata": {},
   "source": [
    "El siguiente tema que quisimos explorar fue el funcionamiento de la conectividad móvil, en particular, indagamos sobre cómo viajan los mensajes de WhatsApp cuando no hay Wi-Fi.\n",
    "\n",
    "Es llamativo que en esta pregunta, la opción más elegida fue _\"No sé\"_. A pesar de que la gran mayoría de los chicos cuenta con un teléfono celular propio o bien accede a uno que le prestan, vemos que no han llegado a conclusiones respecto a cómo funciona la tecnología de fondo.\n",
    "\n",
    "De todas formas, una cantidad similar de niños y niñas respondieron a su vez correctamente al elegir la respuesta en la que se proponía que los mensajes viajan a través de una red de antenas y computadoras.\n",
    "\n",
    "En una proporción semejante aparecen las respuestas en las que se indica que los mensajes viajan a través de una (única) antena, un satélite y \"directamente\" (dando a entender que no existe una infraestructura que intervenga en este proceso).\n"
   ]
  },
  {
   "cell_type": "markdown",
   "id": "1ffd479e",
   "metadata": {},
   "source": [
    "En la fig. 22 se muestra un agrupamiento de las respuestas que contienen una _misconception_ (en este caso, las que indican que los mensajes viajan a través de la nube, de un satélite, una única antena o directamente) en contraste con la respuesta \"acertada\" (que indicaba que el mensaje viajaba a través de una red de antenas y computadoras). Podemos ver que la proporción de niños y niñas con una _misconception_ en este tema es mayor (casi el doble) que la de los chicos y chicas que no."
   ]
  },
  {
   "cell_type": "code",
   "execution_count": 18,
   "id": "b650e48b",
   "metadata": {},
   "outputs": [
    {
     "data": {
      "image/png": "[encoded data removed]",
      "text/plain": [
       "<Figure size 864x360 with 1 Axes>"
      ]
     },
     "metadata": {
      "needs_background": "light"
     },
     "output_type": "display_data"
    }
   ],
   "source": [
    "some_values = ['otras', 'red']\n",
    "positions = (0, 1)\n",
    "labels = (\"Respuestas con misconception\", \\\n",
    "          \"Respuesta acertada\")\n",
    "\n",
    "df2 = df.loc[df['q_mensaje_sin_wifi_agrup'].isin(some_values)];\n",
    "df2['q_mensaje_sin_wifi_agrup'].value_counts().plot.bar(figsize=(12,5));\n",
    "plt.title(\"Respuestas con misconception vs respuestas sin misconception\", fontsize=15)\n",
    "\n",
    "plt.xticks(positions, labels, rotation=0);\n"
   ]
  },
  {
   "cell_type": "markdown",
   "id": "2d1a6421",
   "metadata": {},
   "source": [
    "\n",
    "Por último, cabe destacar que la opción de que viajan a través de _\"La nube\"_ fue la menos elegida. Y esto es un dato no menor, ya que como habíamos mencionado anteriormente, en la pregunta _¿Dónde se almacenan los videos que están en YouTube?\"_ la respuesta más elegida fue justamente _\"En la nube\"_. Con esta información podemos desentrañar también un poco más cuáles son sus concepciones acerca de \"la nube\": un espacio de almacenamiento \"etéreo\" de datos más que un medio por el cual se envía y recibe información."
   ]
  },
  {
   "cell_type": "code",
   "execution_count": 19,
   "id": "92e6663d",
   "metadata": {},
   "outputs": [
    {
     "data": {
      "image/png": "[encoded data removed]",
      "text/plain": [
       "<Figure size 1080x360 with 1 Axes>"
      ]
     },
     "metadata": {
      "needs_background": "light"
     },
     "output_type": "display_data"
    }
   ],
   "source": [
    "# ¿Por qué hay aplicaciones gratuitas?\n",
    "positions = (0, 1, 2, 3, 4, 5, 6, 7)\n",
    "labels = (\"Ganan plata \\ncon publicidades\", \\\n",
    "          \"Para que todos \\nlas usen.\", \\\n",
    "          \"Venden nuestros datos\", \\\n",
    "          \"En internet \\ntodo es gratis\", \\\n",
    "          \"Ya tienen \\nsuficiente plata\", \\\n",
    "          \"Para tener \\nmás descargas\", \\\n",
    "          \"No sé\",\n",
    "          \"No todo es gratis\")\n",
    "\n",
    "\n",
    "df[\"q_gratuidad\"].str.replace(\" \", \"\").str.get_dummies(sep=',') \\\n",
    "    .sum().sort_values(ascending=False).plot.bar(figsize=(15,5))\n",
    "\n",
    "plt.title(\"¿Por qué hay aplicaciones gratuitas?\", fontsize=15)\n",
    "\n",
    "plt.xticks(positions, labels, rotation=0);\n"
   ]
  },
  {
   "cell_type": "markdown",
   "id": "9da3647d",
   "metadata": {},
   "source": [
    "Por último, nos interesaba conocer sus concepciones acerca del por qué de la gratuidad de algunas aplicaciones conocidas por ellos en Internet, tales como TikTok, YouTube, Facebook o Instagram. \n",
    "\n",
    "Ante la pregunta de _\"¿Por qué hay aplicaciones gratuitas?\"_, la gran mayoría eligió la opción que propone que la gratuidad de éstas es posible gracias al dinero que ganan con las publicidades que nos muestran. \n",
    "\n",
    "Las otras opciones que les habíamos planteado quedaron bastante por detrás en tanto a cantidad de chicos que las eligieron. \n",
    "\n",
    "Es interesante mencionar que en esta pregunta habíamos dejado un casillero libre para completar con otras opciones que se les pudiesen ocurrir y que no estuvieran disponibles. De esta forma, algunos completaron que las aplicaciones son gratis para poder conseguir así \"más descargas en el Play Store\". Según esta respuesta, las aplicaciones ganan más dinero cuantas más descargas consiguen.\n",
    "\n",
    "La otra respuesta proporcionada por los chicos y chicas fue que _\"No todo es gratis\"_ en Internet, dando a entender que hay también aplicaciones que no son gratuitas."
   ]
  },
  {
   "cell_type": "code",
   "execution_count": 20,
   "id": "a585790b",
   "metadata": {},
   "outputs": [
    {
     "data": {
      "text/html": [
       "<div>\n",
       "<style scoped>\n",
       "    .dataframe tbody tr th:only-of-type {\n",
       "        vertical-align: middle;\n",
       "    }\n",
       "\n",
       "    .dataframe tbody tr th {\n",
       "        vertical-align: top;\n",
       "    }\n",
       "\n",
       "    .dataframe thead th {\n",
       "        text-align: right;\n",
       "    }\n",
       "</style>\n",
       "<table border=\"1\" class=\"dataframe\">\n",
       "  <thead>\n",
       "    <tr style=\"text-align: right;\">\n",
       "      <th></th>\n",
       "      <th>respuesta</th>\n",
       "      <th>cantidad</th>\n",
       "    </tr>\n",
       "  </thead>\n",
       "  <tbody>\n",
       "    <tr>\n",
       "      <th>0</th>\n",
       "      <td>a_gratuidad_publicidades</td>\n",
       "      <td>91</td>\n",
       "    </tr>\n",
       "    <tr>\n",
       "      <th>1</th>\n",
       "      <td>a_gratuidad_paraquetodoslasusen</td>\n",
       "      <td>35</td>\n",
       "    </tr>\n",
       "    <tr>\n",
       "      <th>2</th>\n",
       "      <td>a_gratuidad_datos</td>\n",
       "      <td>27</td>\n",
       "    </tr>\n",
       "    <tr>\n",
       "      <th>3</th>\n",
       "      <td>a_gratuidad_todoeninternetesgratis</td>\n",
       "      <td>10</td>\n",
       "    </tr>\n",
       "    <tr>\n",
       "      <th>4</th>\n",
       "      <td>a_gratuidad_yatienenplata</td>\n",
       "      <td>10</td>\n",
       "    </tr>\n",
       "    <tr>\n",
       "      <th>5</th>\n",
       "      <td>a_gratuidad_descargas</td>\n",
       "      <td>2</td>\n",
       "    </tr>\n",
       "    <tr>\n",
       "      <th>6</th>\n",
       "      <td>a_gratuidad_nose</td>\n",
       "      <td>2</td>\n",
       "    </tr>\n",
       "    <tr>\n",
       "      <th>7</th>\n",
       "      <td>a_gratuidad_notodoesgratis</td>\n",
       "      <td>1</td>\n",
       "    </tr>\n",
       "  </tbody>\n",
       "</table>\n",
       "</div>"
      ],
      "text/plain": [
       "                            respuesta  cantidad\n",
       "0            a_gratuidad_publicidades        91\n",
       "1     a_gratuidad_paraquetodoslasusen        35\n",
       "2                   a_gratuidad_datos        27\n",
       "3  a_gratuidad_todoeninternetesgratis        10\n",
       "4           a_gratuidad_yatienenplata        10\n",
       "5               a_gratuidad_descargas         2\n",
       "6                    a_gratuidad_nose         2\n",
       "7          a_gratuidad_notodoesgratis         1"
      ]
     },
     "execution_count": 20,
     "metadata": {},
     "output_type": "execute_result"
    }
   ],
   "source": [
    "df_gratuidad = df[\"q_gratuidad\"].str.replace(\" \", \"\").str.get_dummies(sep=',') \\\n",
    "    .sum().sort_values(ascending=False).reset_index()\n",
    "df_gratuidad.columns = ['respuesta', 'cantidad']\n",
    "df_gratuidad"
   ]
  },
  {
   "cell_type": "code",
   "execution_count": 21,
   "id": "f1bb2ede",
   "metadata": {},
   "outputs": [
    {
     "data": {
      "image/png": "[encoded data removed]",
      "text/plain": [
       "<Figure size 864x360 with 1 Axes>"
      ]
     },
     "metadata": {
      "needs_background": "light"
     },
     "output_type": "display_data"
    }
   ],
   "source": [
    "positions = (0, 1)\n",
    "labels = (\"Respuestas con misconception\", \\\n",
    "          \"Respuesta acertada\")\n",
    "\n",
    "df_gratuidad['respuesta_correcta'] = df_gratuidad['respuesta'] == 'a_gratuidad_publicidades'\n",
    "df_gratuidad.groupby('respuesta_correcta').agg(np.sum) \\\n",
    "    .plot(kind='bar', legend=False, figsize=(12,5))\n",
    "\n",
    "plt.title(\"Respuestas con misconception vs respuestas sin misconception\", fontsize=15)\n",
    "plt.xticks(positions, labels, rotation=0)\n",
    "plt.xlabel(\"\");"
   ]
  },
  {
   "cell_type": "code",
   "execution_count": null,
   "id": "80cd813d",
   "metadata": {},
   "outputs": [],
   "source": []
  },
  {
   "cell_type": "code",
   "execution_count": 22,
   "id": "08c7c4c3",
   "metadata": {},
   "outputs": [
    {
     "data": {
      "text/html": [
       "<div>\n",
       "<style scoped>\n",
       "    .dataframe tbody tr th:only-of-type {\n",
       "        vertical-align: middle;\n",
       "    }\n",
       "\n",
       "    .dataframe tbody tr th {\n",
       "        vertical-align: top;\n",
       "    }\n",
       "\n",
       "    .dataframe thead th {\n",
       "        text-align: right;\n",
       "    }\n",
       "</style>\n",
       "<table border=\"1\" class=\"dataframe\">\n",
       "  <thead>\n",
       "    <tr style=\"text-align: right;\">\n",
       "      <th></th>\n",
       "      <th>respuesta</th>\n",
       "      <th>cantidad</th>\n",
       "      <th>respuesta_correcta</th>\n",
       "    </tr>\n",
       "  </thead>\n",
       "  <tbody>\n",
       "    <tr>\n",
       "      <th>0</th>\n",
       "      <td>a_gratuidad_publicidades</td>\n",
       "      <td>91</td>\n",
       "      <td>True</td>\n",
       "    </tr>\n",
       "    <tr>\n",
       "      <th>1</th>\n",
       "      <td>a_gratuidad_paraquetodoslasusen</td>\n",
       "      <td>35</td>\n",
       "      <td>False</td>\n",
       "    </tr>\n",
       "    <tr>\n",
       "      <th>2</th>\n",
       "      <td>a_gratuidad_datos</td>\n",
       "      <td>27</td>\n",
       "      <td>False</td>\n",
       "    </tr>\n",
       "    <tr>\n",
       "      <th>3</th>\n",
       "      <td>a_gratuidad_todoeninternetesgratis</td>\n",
       "      <td>10</td>\n",
       "      <td>False</td>\n",
       "    </tr>\n",
       "    <tr>\n",
       "      <th>4</th>\n",
       "      <td>a_gratuidad_yatienenplata</td>\n",
       "      <td>10</td>\n",
       "      <td>False</td>\n",
       "    </tr>\n",
       "    <tr>\n",
       "      <th>5</th>\n",
       "      <td>a_gratuidad_descargas</td>\n",
       "      <td>2</td>\n",
       "      <td>False</td>\n",
       "    </tr>\n",
       "    <tr>\n",
       "      <th>6</th>\n",
       "      <td>a_gratuidad_nose</td>\n",
       "      <td>2</td>\n",
       "      <td>False</td>\n",
       "    </tr>\n",
       "    <tr>\n",
       "      <th>7</th>\n",
       "      <td>a_gratuidad_notodoesgratis</td>\n",
       "      <td>1</td>\n",
       "      <td>False</td>\n",
       "    </tr>\n",
       "  </tbody>\n",
       "</table>\n",
       "</div>"
      ],
      "text/plain": [
       "                            respuesta  cantidad  respuesta_correcta\n",
       "0            a_gratuidad_publicidades        91                True\n",
       "1     a_gratuidad_paraquetodoslasusen        35               False\n",
       "2                   a_gratuidad_datos        27               False\n",
       "3  a_gratuidad_todoeninternetesgratis        10               False\n",
       "4           a_gratuidad_yatienenplata        10               False\n",
       "5               a_gratuidad_descargas         2               False\n",
       "6                    a_gratuidad_nose         2               False\n",
       "7          a_gratuidad_notodoesgratis         1               False"
      ]
     },
     "execution_count": 22,
     "metadata": {},
     "output_type": "execute_result"
    }
   ],
   "source": [
    "df_gratuidad"
   ]
  },
  {
   "cell_type": "code",
   "execution_count": null,
   "id": "68b51e1a",
   "metadata": {},
   "outputs": [],
   "source": []
  },
  {
   "cell_type": "code",
   "execution_count": null,
   "id": "56ea7a34",
   "metadata": {},
   "outputs": [],
   "source": []
  },
  {
   "cell_type": "code",
   "execution_count": null,
   "id": "25cb51ed",
   "metadata": {},
   "outputs": [],
   "source": []
  },
  {
   "cell_type": "code",
   "execution_count": null,
   "id": "abb041fa",
   "metadata": {},
   "outputs": [],
   "source": []
  }
 ],
 "metadata": {
  "kernelspec": {
   "display_name": "Python 3",
   "language": "python",
   "name": "python3"
  },
  "language_info": {
   "codemirror_mode": {
    "name": "ipython",
    "version": 3
   },
   "file_extension": ".py",
   "mimetype": "text/x-python",
   "name": "python",
   "nbconvert_exporter": "python",
   "pygments_lexer": "ipython3",
   "version": "3.7.10"
  }
 },
 "nbformat": 4,
 "nbformat_minor": 5
}
