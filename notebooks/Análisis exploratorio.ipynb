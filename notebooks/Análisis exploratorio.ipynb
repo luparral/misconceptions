{
 "cells": [
  {
   "cell_type": "code",
   "execution_count": 4,
   "id": "d87faddb",
   "metadata": {},
   "outputs": [],
   "source": [
    "import pandas as pd\n",
    "import matplotlib.pyplot as plt\n",
    "\n",
    "%matplotlib inline"
   ]
  },
  {
   "cell_type": "markdown",
   "id": "753a638d",
   "metadata": {},
   "source": [
    "# Read data"
   ]
  },
  {
   "cell_type": "code",
   "execution_count": 9,
   "id": "86c6a85d",
   "metadata": {},
   "outputs": [
    {
     "data": {
      "text/plain": [
       "(144, 15)"
      ]
     },
     "execution_count": 9,
     "metadata": {},
     "output_type": "execute_result"
    }
   ],
   "source": [
    "df = pd.read_csv(\"../data/respuestas_raw.csv\")\n",
    "df.shape"
   ]
  },
  {
   "cell_type": "code",
   "execution_count": 12,
   "id": "996dc440",
   "metadata": {},
   "outputs": [
    {
     "data": {
      "text/html": [
       "<div>\n",
       "<style scoped>\n",
       "    .dataframe tbody tr th:only-of-type {\n",
       "        vertical-align: middle;\n",
       "    }\n",
       "\n",
       "    .dataframe tbody tr th {\n",
       "        vertical-align: top;\n",
       "    }\n",
       "\n",
       "    .dataframe thead th {\n",
       "        text-align: right;\n",
       "    }\n",
       "</style>\n",
       "<table border=\"1\" class=\"dataframe\">\n",
       "  <thead>\n",
       "    <tr style=\"text-align: right;\">\n",
       "      <th></th>\n",
       "      <th>0</th>\n",
       "      <th>1</th>\n",
       "      <th>2</th>\n",
       "      <th>3</th>\n",
       "      <th>4</th>\n",
       "    </tr>\n",
       "  </thead>\n",
       "  <tbody>\n",
       "    <tr>\n",
       "      <th>Timestamp</th>\n",
       "      <td>3/12/2021 19:15:01</td>\n",
       "      <td>3/17/2021 21:12:19</td>\n",
       "      <td>3/18/2021 21:28:35</td>\n",
       "      <td>3/26/2021 22:14:29</td>\n",
       "      <td>4/19/2021 13:40:42</td>\n",
       "    </tr>\n",
       "    <tr>\n",
       "      <th>Edad</th>\n",
       "      <td>10</td>\n",
       "      <td>9</td>\n",
       "      <td>10</td>\n",
       "      <td>9</td>\n",
       "      <td>9</td>\n",
       "    </tr>\n",
       "    <tr>\n",
       "      <th>Género</th>\n",
       "      <td>Femenino</td>\n",
       "      <td>Femenino</td>\n",
       "      <td>Masculino</td>\n",
       "      <td>Femenino</td>\n",
       "      <td>Femenino</td>\n",
       "    </tr>\n",
       "    <tr>\n",
       "      <th>¿En qué lugar usás comúnmente la computadora?</th>\n",
       "      <td>En mi casa</td>\n",
       "      <td>En mi casa</td>\n",
       "      <td>En mi casa</td>\n",
       "      <td>En mi casa</td>\n",
       "      <td>En mi casa</td>\n",
       "    </tr>\n",
       "    <tr>\n",
       "      <th>¿Qué hacés cuando usás la computadora (podés elegir más de una opción)?</th>\n",
       "      <td>Miro videos en YouTube, Hago la tarea</td>\n",
       "      <td>Juego juegos</td>\n",
       "      <td>Miro videos en YouTube</td>\n",
       "      <td>Juego juegos, Miro videos en YouTube, Hago vid...</td>\n",
       "      <td>Juego juegos, Miro videos en YouTube</td>\n",
       "    </tr>\n",
       "    <tr>\n",
       "      <th>¿Dónde aprendiste a usar la computadora? (podés elegir más de una opción)</th>\n",
       "      <td>Me enseñaron en mi casa (mis padres, hermanos ...</td>\n",
       "      <td>Aprendí solo</td>\n",
       "      <td>Me enseñaron en la escuela</td>\n",
       "      <td>Me enseñaron en mi casa (mis padres, hermanos ...</td>\n",
       "      <td>Me enseñaron en mi casa (mis padres, hermanos ...</td>\n",
       "    </tr>\n",
       "    <tr>\n",
       "      <th>¿Qué celular usás?</th>\n",
       "      <td>El mío</td>\n",
       "      <td>El mío</td>\n",
       "      <td>El mío</td>\n",
       "      <td>Me prestan uno</td>\n",
       "      <td>El mío</td>\n",
       "    </tr>\n",
       "    <tr>\n",
       "      <th>Si usás celular: ¿qué haces cuando usás el celular? (podés elegir más de una opción)</th>\n",
       "      <td>Chateo (por ejemplo en WhatsApp o Telegram), M...</td>\n",
       "      <td>Miro redes sociales (por ejemplo Facebook, Tik...</td>\n",
       "      <td>Juego juegos</td>\n",
       "      <td>Chateo (por ejemplo en WhatsApp o Telegram), H...</td>\n",
       "      <td>Chateo (por ejemplo en WhatsApp o Telegram)</td>\n",
       "    </tr>\n",
       "    <tr>\n",
       "      <th>¿Dónde se almacenan los videos que están en YouTube?</th>\n",
       "      <td>En una computadora</td>\n",
       "      <td>En una computadora</td>\n",
       "      <td>En muchas computadoras (tantas que podrían lle...</td>\n",
       "      <td>No sé</td>\n",
       "      <td>En mi celular</td>\n",
       "    </tr>\n",
       "    <tr>\n",
       "      <th>¿Quién tiene acceso a las fotos que tengo guardadas en mi celular?</th>\n",
       "      <td>Yo y otras personas.</td>\n",
       "      <td>Solo yo.</td>\n",
       "      <td>Solo yo.</td>\n",
       "      <td>Yo y otras personas.</td>\n",
       "      <td>Solo yo.</td>\n",
       "    </tr>\n",
       "    <tr>\n",
       "      <th>Cuando le mando a una amiga una foto por WhatsApp...</th>\n",
       "      <td>La foto ahora existe en WhatsApp y mi amiga la...</td>\n",
       "      <td>La foto ahora existe en WhatsApp y mi amiga la...</td>\n",
       "      <td>Le mando una copia de mi foto.</td>\n",
       "      <td>Le mando una copia de mi foto.</td>\n",
       "      <td>Le doy permiso para ver la foto que tengo guar...</td>\n",
       "    </tr>\n",
       "    <tr>\n",
       "      <th>Si quiero hacer que mi amiga no pueda ver más la foto, ¿qué puedo hacer?</th>\n",
       "      <td>Tengo que borrar la foto en el chat.</td>\n",
       "      <td>No puedo hacer nada, mi amiga ahora también ti...</td>\n",
       "      <td>Tengo que borrar la foto en el chat.</td>\n",
       "      <td>Tengo que borrar la foto en el chat.</td>\n",
       "      <td>Tengo que borrar la foto en el chat.</td>\n",
       "    </tr>\n",
       "    <tr>\n",
       "      <th>Sofi está en la calle sin Wi-Fi y le quiere mandar un mensaje de WhatsApp a Santi.  ¿Cuál de las cinco imágenes representa mejor la manera en la que el mensaje viaja?</th>\n",
       "      <td>El mensaje se manda directamente.</td>\n",
       "      <td>El mensaje se manda a través de la nube.</td>\n",
       "      <td>El mensaje se manda a través de una red de ant...</td>\n",
       "      <td>El mensaje se manda directamente.</td>\n",
       "      <td>El mensaje se manda directamente.</td>\n",
       "    </tr>\n",
       "    <tr>\n",
       "      <th>Muchas de las aplicaciones que conocemos se pueden usar gratuitamente, como por ejemplo Facebook, YouTube, Instagram o TikTok. ¿Por qué creés que permiten su uso sin tener que pagar 💵?</th>\n",
       "      <td>Porque obtienen dinero a través de las publici...</td>\n",
       "      <td>Porque ya tienen suficiente dinero y no necesi...</td>\n",
       "      <td>Porque obtienen dinero vendiendo nuestros dato...</td>\n",
       "      <td>Porque obtienen dinero vendiendo nuestros dato...</td>\n",
       "      <td>Porque ya tienen suficiente dinero y no necesi...</td>\n",
       "    </tr>\n",
       "    <tr>\n",
       "      <th>Escuela y grado</th>\n",
       "      <td>NaN</td>\n",
       "      <td>NaN</td>\n",
       "      <td>NaN</td>\n",
       "      <td>NaN</td>\n",
       "      <td>Escuela Nº 83 Juan Arzeno - 4to grado</td>\n",
       "    </tr>\n",
       "  </tbody>\n",
       "</table>\n",
       "</div>"
      ],
      "text/plain": [
       "                                                                                                    0  \\\n",
       "Timestamp                                                                          3/12/2021 19:15:01   \n",
       "Edad                                                                                               10   \n",
       "Género                                                                                       Femenino   \n",
       "¿En qué lugar usás comúnmente la computadora?                                              En mi casa   \n",
       "¿Qué hacés cuando usás la computadora (podés el...              Miro videos en YouTube, Hago la tarea   \n",
       "¿Dónde aprendiste a usar la computadora? (podés...  Me enseñaron en mi casa (mis padres, hermanos ...   \n",
       "¿Qué celular usás?                                                                             El mío   \n",
       "Si usás celular: ¿qué haces cuando usás el celu...  Chateo (por ejemplo en WhatsApp o Telegram), M...   \n",
       "¿Dónde se almacenan los videos que están en You...                                 En una computadora   \n",
       "¿Quién tiene acceso a las fotos que tengo guard...                               Yo y otras personas.   \n",
       "Cuando le mando a una amiga una foto por WhatsA...  La foto ahora existe en WhatsApp y mi amiga la...   \n",
       "Si quiero hacer que mi amiga no pueda ver más l...               Tengo que borrar la foto en el chat.   \n",
       "Sofi está en la calle sin Wi-Fi y le quiere man...                  El mensaje se manda directamente.   \n",
       "Muchas de las aplicaciones que conocemos se pue...  Porque obtienen dinero a través de las publici...   \n",
       "Escuela y grado                                                                                   NaN   \n",
       "\n",
       "                                                                                                    1  \\\n",
       "Timestamp                                                                          3/17/2021 21:12:19   \n",
       "Edad                                                                                                9   \n",
       "Género                                                                                       Femenino   \n",
       "¿En qué lugar usás comúnmente la computadora?                                              En mi casa   \n",
       "¿Qué hacés cuando usás la computadora (podés el...                                       Juego juegos   \n",
       "¿Dónde aprendiste a usar la computadora? (podés...                                       Aprendí solo   \n",
       "¿Qué celular usás?                                                                             El mío   \n",
       "Si usás celular: ¿qué haces cuando usás el celu...  Miro redes sociales (por ejemplo Facebook, Tik...   \n",
       "¿Dónde se almacenan los videos que están en You...                                 En una computadora   \n",
       "¿Quién tiene acceso a las fotos que tengo guard...                                           Solo yo.   \n",
       "Cuando le mando a una amiga una foto por WhatsA...  La foto ahora existe en WhatsApp y mi amiga la...   \n",
       "Si quiero hacer que mi amiga no pueda ver más l...  No puedo hacer nada, mi amiga ahora también ti...   \n",
       "Sofi está en la calle sin Wi-Fi y le quiere man...           El mensaje se manda a través de la nube.   \n",
       "Muchas de las aplicaciones que conocemos se pue...  Porque ya tienen suficiente dinero y no necesi...   \n",
       "Escuela y grado                                                                                   NaN   \n",
       "\n",
       "                                                                                                    2  \\\n",
       "Timestamp                                                                          3/18/2021 21:28:35   \n",
       "Edad                                                                                               10   \n",
       "Género                                                                                      Masculino   \n",
       "¿En qué lugar usás comúnmente la computadora?                                              En mi casa   \n",
       "¿Qué hacés cuando usás la computadora (podés el...                             Miro videos en YouTube   \n",
       "¿Dónde aprendiste a usar la computadora? (podés...                         Me enseñaron en la escuela   \n",
       "¿Qué celular usás?                                                                             El mío   \n",
       "Si usás celular: ¿qué haces cuando usás el celu...                                       Juego juegos   \n",
       "¿Dónde se almacenan los videos que están en You...  En muchas computadoras (tantas que podrían lle...   \n",
       "¿Quién tiene acceso a las fotos que tengo guard...                                           Solo yo.   \n",
       "Cuando le mando a una amiga una foto por WhatsA...                     Le mando una copia de mi foto.   \n",
       "Si quiero hacer que mi amiga no pueda ver más l...               Tengo que borrar la foto en el chat.   \n",
       "Sofi está en la calle sin Wi-Fi y le quiere man...  El mensaje se manda a través de una red de ant...   \n",
       "Muchas de las aplicaciones que conocemos se pue...  Porque obtienen dinero vendiendo nuestros dato...   \n",
       "Escuela y grado                                                                                   NaN   \n",
       "\n",
       "                                                                                                    3  \\\n",
       "Timestamp                                                                          3/26/2021 22:14:29   \n",
       "Edad                                                                                                9   \n",
       "Género                                                                                       Femenino   \n",
       "¿En qué lugar usás comúnmente la computadora?                                              En mi casa   \n",
       "¿Qué hacés cuando usás la computadora (podés el...  Juego juegos, Miro videos en YouTube, Hago vid...   \n",
       "¿Dónde aprendiste a usar la computadora? (podés...  Me enseñaron en mi casa (mis padres, hermanos ...   \n",
       "¿Qué celular usás?                                                                     Me prestan uno   \n",
       "Si usás celular: ¿qué haces cuando usás el celu...  Chateo (por ejemplo en WhatsApp o Telegram), H...   \n",
       "¿Dónde se almacenan los videos que están en You...                                              No sé   \n",
       "¿Quién tiene acceso a las fotos que tengo guard...                               Yo y otras personas.   \n",
       "Cuando le mando a una amiga una foto por WhatsA...                     Le mando una copia de mi foto.   \n",
       "Si quiero hacer que mi amiga no pueda ver más l...               Tengo que borrar la foto en el chat.   \n",
       "Sofi está en la calle sin Wi-Fi y le quiere man...                  El mensaje se manda directamente.   \n",
       "Muchas de las aplicaciones que conocemos se pue...  Porque obtienen dinero vendiendo nuestros dato...   \n",
       "Escuela y grado                                                                                   NaN   \n",
       "\n",
       "                                                                                                    4  \n",
       "Timestamp                                                                          4/19/2021 13:40:42  \n",
       "Edad                                                                                                9  \n",
       "Género                                                                                       Femenino  \n",
       "¿En qué lugar usás comúnmente la computadora?                                              En mi casa  \n",
       "¿Qué hacés cuando usás la computadora (podés el...               Juego juegos, Miro videos en YouTube  \n",
       "¿Dónde aprendiste a usar la computadora? (podés...  Me enseñaron en mi casa (mis padres, hermanos ...  \n",
       "¿Qué celular usás?                                                                             El mío  \n",
       "Si usás celular: ¿qué haces cuando usás el celu...        Chateo (por ejemplo en WhatsApp o Telegram)  \n",
       "¿Dónde se almacenan los videos que están en You...                                      En mi celular  \n",
       "¿Quién tiene acceso a las fotos que tengo guard...                                           Solo yo.  \n",
       "Cuando le mando a una amiga una foto por WhatsA...  Le doy permiso para ver la foto que tengo guar...  \n",
       "Si quiero hacer que mi amiga no pueda ver más l...               Tengo que borrar la foto en el chat.  \n",
       "Sofi está en la calle sin Wi-Fi y le quiere man...                  El mensaje se manda directamente.  \n",
       "Muchas de las aplicaciones que conocemos se pue...  Porque ya tienen suficiente dinero y no necesi...  \n",
       "Escuela y grado                                                 Escuela Nº 83 Juan Arzeno - 4to grado  "
      ]
     },
     "execution_count": 12,
     "metadata": {},
     "output_type": "execute_result"
    }
   ],
   "source": [
    "df.head().transpose()"
   ]
  },
  {
   "cell_type": "code",
   "execution_count": 33,
   "id": "71a64a64",
   "metadata": {},
   "outputs": [
    {
     "data": {
      "image/png": "[encoded data removed]",
      "text/plain": [
       "<Figure size 432x288 with 1 Axes>"
      ]
     },
     "metadata": {
      "needs_background": "light"
     },
     "output_type": "display_data"
    }
   ],
   "source": [
    "df[\"Género\"].value_counts().plot.bar(rot=0)\n",
    "# plt.xticks([0, 1, 2], [\"m\", \"f\", \"o\"])\n",
    "plt.xlabel(\"Género\")\n",
    "plt.title(\"Qué celular usas?\");"
   ]
  },
  {
   "cell_type": "code",
   "execution_count": 44,
   "id": "2dd6c370",
   "metadata": {},
   "outputs": [
    {
     "data": {
      "image/png": "[encoded data removed]",
      "text/plain": [
       "<Figure size 432x288 with 1 Axes>"
      ]
     },
     "metadata": {
      "needs_background": "light"
     },
     "output_type": "display_data"
    }
   ],
   "source": [
    "# idea: agrupar por una caracteristica y ver si hay un patron en las respuestas\n",
    "counts = df.groupby(\"Género\")[\"¿Qué celular usás?\"].value_counts().unstack()\n",
    "counts.div(counts.sum(axis=1), axis=0).plot.bar(stacked=True)\n",
    "plt.legend(loc=(1.1, 0.1));"
   ]
  },
  {
   "cell_type": "code",
   "execution_count": 60,
   "id": "fb0ab92d",
   "metadata": {},
   "outputs": [
    {
     "data": {
      "text/plain": [
       "0      True\n",
       "1      True\n",
       "2      True\n",
       "3      True\n",
       "4      True\n",
       "5      True\n",
       "6      True\n",
       "7      True\n",
       "8      True\n",
       "9      True\n",
       "10     True\n",
       "11     True\n",
       "12    False\n",
       "13     True\n",
       "14     True\n",
       "15     True\n",
       "16     True\n",
       "17     True\n",
       "18     True\n",
       "19     True\n",
       "20     True\n",
       "21     True\n",
       "22     True\n",
       "23     True\n",
       "24     True\n",
       "25     True\n",
       "26     True\n",
       "27     True\n",
       "28     True\n",
       "29    False\n",
       "Name: ¿Dónde se almacenan los videos que están en YouTube?, dtype: bool"
      ]
     },
     "execution_count": 60,
     "metadata": {},
     "output_type": "execute_result"
    }
   ],
   "source": [
    "(df[question_q1] != answer_q1).head(30)"
   ]
  },
  {
   "cell_type": "code",
   "execution_count": 61,
   "id": "4c60bb0e",
   "metadata": {},
   "outputs": [
    {
     "data": {
      "text/plain": [
       "True     93\n",
       "False    51\n",
       "Name: missconception_q1, dtype: int64"
      ]
     },
     "execution_count": 61,
     "metadata": {},
     "output_type": "execute_result"
    }
   ],
   "source": [
    "# idea 2: calcular proporcion de missconcepions en cada pregunta\n",
    "question_q1 = \"¿Dónde se almacenan los videos que están en YouTube?\"\n",
    "answer_q1 = \"En muchísimas computadoras (tantas que podrían llenar una cancha de fútbol)\"\n",
    "na_q1 = \"No sé\"\n",
    "df[\"missconception_q1\"] = (df[question_q1] != answer_q1) & (df[question_q1] != na_q1)\n",
    "df[\"missconception_q1\"].value_counts()"
   ]
  },
  {
   "cell_type": "code",
   "execution_count": 46,
   "id": "b60dc0c3",
   "metadata": {},
   "outputs": [
    {
     "data": {
      "text/plain": [
       "True     103\n",
       "False     41\n",
       "Name: missconception_q2, dtype: int64"
      ]
     },
     "execution_count": 46,
     "metadata": {},
     "output_type": "execute_result"
    }
   ],
   "source": [
    "question_2 = \"¿Quién tiene acceso a las fotos que tengo guardadas en mi celular?\"\n",
    "answer_q2 = \"Yo y otras personas.\"\n",
    "df[\"missconception_q2\"] = df[question_2] != answer_q2\n",
    "df[\"missconception_q2\"].value_counts()"
   ]
  },
  {
   "cell_type": "code",
   "execution_count": 47,
   "id": "cf0c2d83",
   "metadata": {},
   "outputs": [
    {
     "data": {
      "text/plain": [
       "True     142\n",
       "False      2\n",
       "Name: missconception_q3, dtype: int64"
      ]
     },
     "execution_count": 47,
     "metadata": {},
     "output_type": "execute_result"
    }
   ],
   "source": [
    "question_3 = \"Cuando le mando a una amiga una foto por WhatsApp...\"\n",
    "answer_q3 = \"La foto ahora existe en WhatsApp y mi amiga la puede ver cuando mira nuestro chat.\"\n",
    "df[\"missconception_q3\"] = df[question_3] != answer_q3\n",
    "df[\"missconception_q3\"].value_counts()"
   ]
  },
  {
   "cell_type": "code",
   "execution_count": 51,
   "id": "d3cb1b5f",
   "metadata": {},
   "outputs": [
    {
     "data": {
      "text/html": [
       "<div>\n",
       "<style scoped>\n",
       "    .dataframe tbody tr th:only-of-type {\n",
       "        vertical-align: middle;\n",
       "    }\n",
       "\n",
       "    .dataframe tbody tr th {\n",
       "        vertical-align: top;\n",
       "    }\n",
       "\n",
       "    .dataframe thead th {\n",
       "        text-align: right;\n",
       "    }\n",
       "</style>\n",
       "<table border=\"1\" class=\"dataframe\">\n",
       "  <thead>\n",
       "    <tr style=\"text-align: right;\">\n",
       "      <th></th>\n",
       "      <th>missconception_q1</th>\n",
       "      <th>missconception_q2</th>\n",
       "      <th>missconception_q3</th>\n",
       "    </tr>\n",
       "  </thead>\n",
       "  <tbody>\n",
       "    <tr>\n",
       "      <th>0</th>\n",
       "      <td>True</td>\n",
       "      <td>False</td>\n",
       "      <td>False</td>\n",
       "    </tr>\n",
       "    <tr>\n",
       "      <th>1</th>\n",
       "      <td>True</td>\n",
       "      <td>True</td>\n",
       "      <td>False</td>\n",
       "    </tr>\n",
       "    <tr>\n",
       "      <th>2</th>\n",
       "      <td>True</td>\n",
       "      <td>True</td>\n",
       "      <td>True</td>\n",
       "    </tr>\n",
       "    <tr>\n",
       "      <th>3</th>\n",
       "      <td>True</td>\n",
       "      <td>False</td>\n",
       "      <td>True</td>\n",
       "    </tr>\n",
       "    <tr>\n",
       "      <th>4</th>\n",
       "      <td>True</td>\n",
       "      <td>True</td>\n",
       "      <td>True</td>\n",
       "    </tr>\n",
       "  </tbody>\n",
       "</table>\n",
       "</div>"
      ],
      "text/plain": [
       "   missconception_q1  missconception_q2  missconception_q3\n",
       "0               True              False              False\n",
       "1               True               True              False\n",
       "2               True               True               True\n",
       "3               True              False               True\n",
       "4               True               True               True"
      ]
     },
     "execution_count": 51,
     "metadata": {},
     "output_type": "execute_result"
    }
   ],
   "source": [
    "df[[\"missconception_q1\", \"missconception_q2\", \"missconception_q3\"]].head()"
   ]
  },
  {
   "cell_type": "code",
   "execution_count": null,
   "id": "e29bb8be",
   "metadata": {},
   "outputs": [],
   "source": [
    "# chi square"
   ]
  },
  {
   "cell_type": "code",
   "execution_count": 62,
   "id": "ce222ecc",
   "metadata": {},
   "outputs": [],
   "source": [
    "# exploratory data analysis\n",
    "# cleaning, preprocessing => renombrar columnas, normalizar las respuestas (e.g. \"no se.\" => \"no sé\")\n",
    "# descriptive analysis (how many missconceptions, what are the questions that students failed the most, etc.)\n",
    "# 0 y 10 missconception => barplot x: numero de missconceptions, y: cantidad de estudiantes"
   ]
  },
  {
   "cell_type": "code",
   "execution_count": 64,
   "id": "8b3b1852",
   "metadata": {},
   "outputs": [
    {
     "data": {
      "text/plain": [
       "0    1\n",
       "1    2\n",
       "2    3\n",
       "3    1\n",
       "4    3\n",
       "Name: num_missconception, dtype: int64"
      ]
     },
     "execution_count": 64,
     "metadata": {},
     "output_type": "execute_result"
    }
   ],
   "source": [
    "df['num_missconception'] = df['missconception_q1'].astype('int') +\\\n",
    "                           df['missconception_q2'].astype('int') +\\\n",
    "                           df['missconception_q3'].astype('int')\n",
    "df['num_missconception'].head()"
   ]
  },
  {
   "cell_type": "code",
   "execution_count": 66,
   "id": "b384e9a5",
   "metadata": {},
   "outputs": [
    {
     "data": {
      "image/png": "[encoded data removed]",
      "text/plain": [
       "<Figure size 432x288 with 1 Axes>"
      ]
     },
     "metadata": {
      "needs_background": "light"
     },
     "output_type": "display_data"
    }
   ],
   "source": [
    "df['num_missconception'].value_counts().sort_index().plot.bar();"
   ]
  },
  {
   "cell_type": "code",
   "execution_count": null,
   "id": "8fa45b77",
   "metadata": {},
   "outputs": [],
   "source": []
  }
 ],
 "metadata": {
  "kernelspec": {
   "display_name": "Python 3",
   "language": "python",
   "name": "python3"
  },
  "language_info": {
   "codemirror_mode": {
    "name": "ipython",
    "version": 3
   },
   "file_extension": ".py",
   "mimetype": "text/x-python",
   "name": "python",
   "nbconvert_exporter": "python",
   "pygments_lexer": "ipython3",
   "version": "3.7.10"
  }
 },
 "nbformat": 4,
 "nbformat_minor": 5
}
