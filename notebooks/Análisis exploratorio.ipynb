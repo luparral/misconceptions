{
 "cells": [
  {
   "cell_type": "code",
   "execution_count": 1,
   "id": "d87faddb",
   "metadata": {},
   "outputs": [],
   "source": [
    "import pandas as pd\n",
    "import numpy as np\n",
    "import matplotlib.pyplot as plt\n",
    "import seaborn as sns\n",
    "sns.set_style('whitegrid')\n",
    "sns.set_palette(\"Set2\")\n",
    "\n",
    "%matplotlib inline"
   ]
  },
  {
   "cell_type": "code",
   "execution_count": 2,
   "id": "5a5c8d3e",
   "metadata": {},
   "outputs": [],
   "source": [
    "# !pip install seaborn"
   ]
  },
  {
   "cell_type": "code",
   "execution_count": 3,
   "id": "bba7f38a",
   "metadata": {},
   "outputs": [],
   "source": [
    "def classify_answers(df, q, a1, a2):\n",
    "    if df[q] == a1:\n",
    "        return 'no'\n",
    "    elif df[q] == a2:\n",
    "        return 'no se'\n",
    "    else : \n",
    "        return 'si'"
   ]
  },
  {
   "cell_type": "markdown",
   "id": "753a638d",
   "metadata": {},
   "source": [
    "# Read data"
   ]
  },
  {
   "cell_type": "code",
   "execution_count": 4,
   "id": "86c6a85d",
   "metadata": {},
   "outputs": [
    {
     "data": {
      "text/plain": [
       "(144, 17)"
      ]
     },
     "execution_count": 4,
     "metadata": {},
     "output_type": "execute_result"
    }
   ],
   "source": [
    "df = pd.read_csv(\"../data/respuestas.csv\")\n",
    "df.shape"
   ]
  },
  {
   "cell_type": "code",
   "execution_count": 5,
   "id": "996dc440",
   "metadata": {},
   "outputs": [
    {
     "data": {
      "text/html": [
       "<div>\n",
       "<style scoped>\n",
       "    .dataframe tbody tr th:only-of-type {\n",
       "        vertical-align: middle;\n",
       "    }\n",
       "\n",
       "    .dataframe tbody tr th {\n",
       "        vertical-align: top;\n",
       "    }\n",
       "\n",
       "    .dataframe thead th {\n",
       "        text-align: right;\n",
       "    }\n",
       "</style>\n",
       "<table border=\"1\" class=\"dataframe\">\n",
       "  <thead>\n",
       "    <tr style=\"text-align: right;\">\n",
       "      <th></th>\n",
       "      <th>0</th>\n",
       "      <th>1</th>\n",
       "      <th>2</th>\n",
       "      <th>3</th>\n",
       "      <th>4</th>\n",
       "    </tr>\n",
       "  </thead>\n",
       "  <tbody>\n",
       "    <tr>\n",
       "      <th>timestamp</th>\n",
       "      <td>3/12/2021 19:15:01</td>\n",
       "      <td>3/17/2021 21:12:19</td>\n",
       "      <td>3/18/2021 21:28:35</td>\n",
       "      <td>3/26/2021 22:14:29</td>\n",
       "      <td>4/19/2021 13:40:42</td>\n",
       "    </tr>\n",
       "    <tr>\n",
       "      <th>q_edad</th>\n",
       "      <td>10</td>\n",
       "      <td>9</td>\n",
       "      <td>10</td>\n",
       "      <td>9</td>\n",
       "      <td>9</td>\n",
       "    </tr>\n",
       "    <tr>\n",
       "      <th>q_genero</th>\n",
       "      <td>f</td>\n",
       "      <td>f</td>\n",
       "      <td>m</td>\n",
       "      <td>f</td>\n",
       "      <td>f</td>\n",
       "    </tr>\n",
       "    <tr>\n",
       "      <th>q_donde_compu</th>\n",
       "      <td>a_donde_compu_casa</td>\n",
       "      <td>a_donde_compu_casa</td>\n",
       "      <td>a_donde_compu_casa</td>\n",
       "      <td>a_donde_compu_casa</td>\n",
       "      <td>a_donde_compu_casa</td>\n",
       "    </tr>\n",
       "    <tr>\n",
       "      <th>q_que_haces_compu</th>\n",
       "      <td>a_que_haces_compu_videos, a_que_haces_compu_tarea</td>\n",
       "      <td>a_que_haces_compu_juegos</td>\n",
       "      <td>a_que_haces_compu_videos</td>\n",
       "      <td>a_que_haces_compu_juegos, a_que_haces_compu_vi...</td>\n",
       "      <td>a_que_haces_compu_juegos, a_que_haces_compu_vi...</td>\n",
       "    </tr>\n",
       "    <tr>\n",
       "      <th>q_donde_aprendiste_compu</th>\n",
       "      <td>a_donde_aprendiste_compu_casa</td>\n",
       "      <td>a_donde_aprendiste_compu_solo</td>\n",
       "      <td>a_donde_aprendiste_compu_escuela</td>\n",
       "      <td>a_donde_aprendiste_compu_casa, a_donde_aprendi...</td>\n",
       "      <td>a_donde_aprendiste_compu_casa</td>\n",
       "    </tr>\n",
       "    <tr>\n",
       "      <th>q_que_celu_usas</th>\n",
       "      <td>a_que_celu_usas_propio</td>\n",
       "      <td>a_que_celu_usas_propio</td>\n",
       "      <td>a_que_celu_usas_propio</td>\n",
       "      <td>a_que_celu_usas_prestado</td>\n",
       "      <td>a_que_celu_usas_propio</td>\n",
       "    </tr>\n",
       "    <tr>\n",
       "      <th>q_que_haces_celu</th>\n",
       "      <td>a_que_haces_celu_chat, a_que_haces_celu_videos...</td>\n",
       "      <td>a_que_haces_celu_redes</td>\n",
       "      <td>a_que_haces_celu_juegos</td>\n",
       "      <td>a_que_haces_celu_chat, a_que_haces_celu_telefo...</td>\n",
       "      <td>a_que_haces_celu_chat</td>\n",
       "    </tr>\n",
       "    <tr>\n",
       "      <th>q_yt</th>\n",
       "      <td>a_yt_1compu</td>\n",
       "      <td>a_yt_1compu</td>\n",
       "      <td>a_yt_muchascompu</td>\n",
       "      <td>a_yt_nose</td>\n",
       "      <td>a_yt_celular</td>\n",
       "    </tr>\n",
       "    <tr>\n",
       "      <th>q_acceso_fotos</th>\n",
       "      <td>a_acceso_fotos_yoyotros</td>\n",
       "      <td>a_acceso_fotos_yo</td>\n",
       "      <td>a_acceso_fotos_yo</td>\n",
       "      <td>a_acceso_fotos_yoyotros</td>\n",
       "      <td>a_acceso_fotos_yo</td>\n",
       "    </tr>\n",
       "    <tr>\n",
       "      <th>q_mandar_fotos</th>\n",
       "      <td>a_mandar_fotos_enwa</td>\n",
       "      <td>a_mandar_fotos_enwa</td>\n",
       "      <td>a_mandar_fotos_copia</td>\n",
       "      <td>a_mandar_fotos_copia</td>\n",
       "      <td>a_mandar_fotos_laveenmicelu</td>\n",
       "    </tr>\n",
       "    <tr>\n",
       "      <th>q_mandar_fotos_agrup</th>\n",
       "      <td>referencia</td>\n",
       "      <td>referencia</td>\n",
       "      <td>copia</td>\n",
       "      <td>copia</td>\n",
       "      <td>referencia</td>\n",
       "    </tr>\n",
       "    <tr>\n",
       "      <th>q_borrar_fotos</th>\n",
       "      <td>a_borrar_fotos_enelchat</td>\n",
       "      <td>a_borrar_fotos_nopuedo</td>\n",
       "      <td>a_borrar_fotos_enelchat</td>\n",
       "      <td>a_borrar_fotos_enelchat</td>\n",
       "      <td>a_borrar_fotos_enelchat</td>\n",
       "    </tr>\n",
       "    <tr>\n",
       "      <th>q_mensaje_sin_wifi</th>\n",
       "      <td>a_mensaje_sin_wifi_directo</td>\n",
       "      <td>a_mensaje_sin_wifi_nube</td>\n",
       "      <td>a_mensaje_sin_wifi_red</td>\n",
       "      <td>a_mensaje_sin_wifi_directo</td>\n",
       "      <td>a_mensaje_sin_wifi_directo</td>\n",
       "    </tr>\n",
       "    <tr>\n",
       "      <th>q_mensaje_sin_wifi_agrup</th>\n",
       "      <td>otras</td>\n",
       "      <td>otras</td>\n",
       "      <td>red</td>\n",
       "      <td>otras</td>\n",
       "      <td>otras</td>\n",
       "    </tr>\n",
       "    <tr>\n",
       "      <th>q_gratuidad</th>\n",
       "      <td>a_gratuidad_publicidades, a_gratuidad_paraquet...</td>\n",
       "      <td>a_gratuidad_yatienenplata</td>\n",
       "      <td>a_gratuidad_datos</td>\n",
       "      <td>a_gratuidad_datos, a_gratuidad_paraquetodoslas...</td>\n",
       "      <td>a_gratuidad_yatienenplata</td>\n",
       "    </tr>\n",
       "    <tr>\n",
       "      <th>q_escuela</th>\n",
       "      <td>a_escuela_piloteo</td>\n",
       "      <td>a_escuela_piloteo</td>\n",
       "      <td>a_escuela_piloteo</td>\n",
       "      <td>a_escuela_piloteo</td>\n",
       "      <td>a_escuela_n83_4to</td>\n",
       "    </tr>\n",
       "  </tbody>\n",
       "</table>\n",
       "</div>"
      ],
      "text/plain": [
       "                                                                          0  \\\n",
       "timestamp                                                3/12/2021 19:15:01   \n",
       "q_edad                                                                   10   \n",
       "q_genero                                                                  f   \n",
       "q_donde_compu                                            a_donde_compu_casa   \n",
       "q_que_haces_compu         a_que_haces_compu_videos, a_que_haces_compu_tarea   \n",
       "q_donde_aprendiste_compu                      a_donde_aprendiste_compu_casa   \n",
       "q_que_celu_usas                                      a_que_celu_usas_propio   \n",
       "q_que_haces_celu          a_que_haces_celu_chat, a_que_haces_celu_videos...   \n",
       "q_yt                                                            a_yt_1compu   \n",
       "q_acceso_fotos                                      a_acceso_fotos_yoyotros   \n",
       "q_mandar_fotos                                          a_mandar_fotos_enwa   \n",
       "q_mandar_fotos_agrup                                             referencia   \n",
       "q_borrar_fotos                                      a_borrar_fotos_enelchat   \n",
       "q_mensaje_sin_wifi                               a_mensaje_sin_wifi_directo   \n",
       "q_mensaje_sin_wifi_agrup                                              otras   \n",
       "q_gratuidad               a_gratuidad_publicidades, a_gratuidad_paraquet...   \n",
       "q_escuela                                                 a_escuela_piloteo   \n",
       "\n",
       "                                                      1  \\\n",
       "timestamp                            3/17/2021 21:12:19   \n",
       "q_edad                                                9   \n",
       "q_genero                                              f   \n",
       "q_donde_compu                        a_donde_compu_casa   \n",
       "q_que_haces_compu              a_que_haces_compu_juegos   \n",
       "q_donde_aprendiste_compu  a_donde_aprendiste_compu_solo   \n",
       "q_que_celu_usas                  a_que_celu_usas_propio   \n",
       "q_que_haces_celu                 a_que_haces_celu_redes   \n",
       "q_yt                                        a_yt_1compu   \n",
       "q_acceso_fotos                        a_acceso_fotos_yo   \n",
       "q_mandar_fotos                      a_mandar_fotos_enwa   \n",
       "q_mandar_fotos_agrup                         referencia   \n",
       "q_borrar_fotos                   a_borrar_fotos_nopuedo   \n",
       "q_mensaje_sin_wifi              a_mensaje_sin_wifi_nube   \n",
       "q_mensaje_sin_wifi_agrup                          otras   \n",
       "q_gratuidad                   a_gratuidad_yatienenplata   \n",
       "q_escuela                             a_escuela_piloteo   \n",
       "\n",
       "                                                         2  \\\n",
       "timestamp                               3/18/2021 21:28:35   \n",
       "q_edad                                                  10   \n",
       "q_genero                                                 m   \n",
       "q_donde_compu                           a_donde_compu_casa   \n",
       "q_que_haces_compu                 a_que_haces_compu_videos   \n",
       "q_donde_aprendiste_compu  a_donde_aprendiste_compu_escuela   \n",
       "q_que_celu_usas                     a_que_celu_usas_propio   \n",
       "q_que_haces_celu                   a_que_haces_celu_juegos   \n",
       "q_yt                                      a_yt_muchascompu   \n",
       "q_acceso_fotos                           a_acceso_fotos_yo   \n",
       "q_mandar_fotos                        a_mandar_fotos_copia   \n",
       "q_mandar_fotos_agrup                                 copia   \n",
       "q_borrar_fotos                     a_borrar_fotos_enelchat   \n",
       "q_mensaje_sin_wifi                  a_mensaje_sin_wifi_red   \n",
       "q_mensaje_sin_wifi_agrup                               red   \n",
       "q_gratuidad                              a_gratuidad_datos   \n",
       "q_escuela                                a_escuela_piloteo   \n",
       "\n",
       "                                                                          3  \\\n",
       "timestamp                                                3/26/2021 22:14:29   \n",
       "q_edad                                                                    9   \n",
       "q_genero                                                                  f   \n",
       "q_donde_compu                                            a_donde_compu_casa   \n",
       "q_que_haces_compu         a_que_haces_compu_juegos, a_que_haces_compu_vi...   \n",
       "q_donde_aprendiste_compu  a_donde_aprendiste_compu_casa, a_donde_aprendi...   \n",
       "q_que_celu_usas                                    a_que_celu_usas_prestado   \n",
       "q_que_haces_celu          a_que_haces_celu_chat, a_que_haces_celu_telefo...   \n",
       "q_yt                                                              a_yt_nose   \n",
       "q_acceso_fotos                                      a_acceso_fotos_yoyotros   \n",
       "q_mandar_fotos                                         a_mandar_fotos_copia   \n",
       "q_mandar_fotos_agrup                                                  copia   \n",
       "q_borrar_fotos                                      a_borrar_fotos_enelchat   \n",
       "q_mensaje_sin_wifi                               a_mensaje_sin_wifi_directo   \n",
       "q_mensaje_sin_wifi_agrup                                              otras   \n",
       "q_gratuidad               a_gratuidad_datos, a_gratuidad_paraquetodoslas...   \n",
       "q_escuela                                                 a_escuela_piloteo   \n",
       "\n",
       "                                                                          4  \n",
       "timestamp                                                4/19/2021 13:40:42  \n",
       "q_edad                                                                    9  \n",
       "q_genero                                                                  f  \n",
       "q_donde_compu                                            a_donde_compu_casa  \n",
       "q_que_haces_compu         a_que_haces_compu_juegos, a_que_haces_compu_vi...  \n",
       "q_donde_aprendiste_compu                      a_donde_aprendiste_compu_casa  \n",
       "q_que_celu_usas                                      a_que_celu_usas_propio  \n",
       "q_que_haces_celu                                      a_que_haces_celu_chat  \n",
       "q_yt                                                           a_yt_celular  \n",
       "q_acceso_fotos                                            a_acceso_fotos_yo  \n",
       "q_mandar_fotos                                  a_mandar_fotos_laveenmicelu  \n",
       "q_mandar_fotos_agrup                                             referencia  \n",
       "q_borrar_fotos                                      a_borrar_fotos_enelchat  \n",
       "q_mensaje_sin_wifi                               a_mensaje_sin_wifi_directo  \n",
       "q_mensaje_sin_wifi_agrup                                              otras  \n",
       "q_gratuidad                                       a_gratuidad_yatienenplata  \n",
       "q_escuela                                                 a_escuela_n83_4to  "
      ]
     },
     "execution_count": 5,
     "metadata": {},
     "output_type": "execute_result"
    }
   ],
   "source": [
    "df.head().transpose()"
   ]
  },
  {
   "cell_type": "markdown",
   "id": "8fd2a223",
   "metadata": {},
   "source": [
    "# Descripción del grupo\n",
    "\n",
    "A continuación se describe el grupo encuestado según distintas variables poblacionales. \n"
   ]
  },
  {
   "cell_type": "code",
   "execution_count": 6,
   "id": "71a64a64",
   "metadata": {},
   "outputs": [
    {
     "data": {
      "image/png": "[encoded data removed]",
      "text/plain": [
       "<Figure size 432x288 with 1 Axes>"
      ]
     },
     "metadata": {
      "needs_background": "light"
     },
     "output_type": "display_data"
    }
   ],
   "source": [
    "# Participantes por Edad\n",
    "\n",
    "df[\"q_edad\"].value_counts().sort_index().plot.bar(rot=0)\n",
    "plt.xlabel(\"Edad\")\n",
    "plt.title(\"Distribución según edad\", fontsize=15);"
   ]
  },
  {
   "cell_type": "code",
   "execution_count": 7,
   "id": "f5ce911b",
   "metadata": {
    "scrolled": true
   },
   "outputs": [
    {
     "data": {
      "image/png": "[encoded data removed]",
      "text/plain": [
       "<Figure size 432x288 with 1 Axes>"
      ]
     },
     "metadata": {
      "needs_background": "light"
     },
     "output_type": "display_data"
    }
   ],
   "source": [
    "# Participantes por Género\n",
    "\n",
    "df[\"q_genero\"].value_counts().plot.bar(rot=0)\n",
    "plt.xticks([0, 1, 2], ['masculino', 'femenino', 'otro'])\n",
    "plt.title(\"Distribución según género\", fontsize=15);"
   ]
  },
  {
   "cell_type": "markdown",
   "id": "55d5fb1e",
   "metadata": {},
   "source": [
    "Podemos ver que se trata de un grupo bastante homogéneo en cuanto a la edad, en tanto es el objeto de nuestro estudio el grupo comprendido por niños y niñas de alrededor de diez años. En tanto al género tenemos una muy buena distribución también."
   ]
  },
  {
   "cell_type": "code",
   "execution_count": 8,
   "id": "e40cfefa",
   "metadata": {
    "scrolled": false
   },
   "outputs": [
    {
     "data": {
      "image/png": "[encoded data removed]",
      "text/plain": [
       "<Figure size 864x360 with 1 Axes>"
      ]
     },
     "metadata": {
      "needs_background": "light"
     },
     "output_type": "display_data"
    }
   ],
   "source": [
    "# ¿Qué hacés cuando usás la computadora (podés elegir más de una opción)?\n",
    "positions = (0, 1, 2, 3, 4, 5)\n",
    "labels = (\"Juegos\", \"Actividades escolares\", \"YouTube\", \"Zoom, Skype, Meet\", \"Actividades creativas\", \"No uso\")\n",
    "\n",
    "df[\"q_que_haces_compu\"].str.replace(\" \", \"\").str.get_dummies(sep=',') \\\n",
    "    .sum().sort_values(ascending=False).plot.bar(figsize=(12,5))\n",
    "plt.title(\"¿Qué hacés cuando usás la computadora?\", fontsize=15);\n",
    "plt.xticks(positions, labels,rotation=0);\n"
   ]
  },
  {
   "cell_type": "markdown",
   "id": "8ec06b41",
   "metadata": {},
   "source": [
    "Queda claro que la mayor parte de los participantes utilizan la computadora en su casa. Siendo que tanto este año como el anterior vivimos en un contexto de pandemia, este resultado no resulta sorprendente.\n",
    "\n",
    "Podemos destacar que la mayor parte de los niños y niñas parecieran contar con una computadora en sus hogares, siendo tan solo uno de ellos quien respondió que no poseía una.\n",
    "\n",
    "También les preguntamos para qué utilizan más comúnmente la computadora. Les dimos la posibilidad de marcar más de una opción dentro de una serie de respuestas y al mismo tiempo, dejamos espacio disponible para poder completar con otras actividades que no estuvieran dentro de las que les habíamos propuesto.\n",
    "\n",
    "Por otro lado, la mayoría utiliza la computadora para jugar juegos, siendo las siguientes actividades más usuales mirar videos en YouTube, realizar videollamadas utilizando Skype, Meet o Zoom y realizar actividades escolares. Nuevamente, esto tiene sentido siendo que durante todo el 2020 en Argentina hubo clases de manera virtual."
   ]
  },
  {
   "cell_type": "code",
   "execution_count": 9,
   "id": "d1927535",
   "metadata": {},
   "outputs": [
    {
     "data": {
      "image/png": "[encoded data removed]",
      "text/plain": [
       "<Figure size 432x288 with 1 Axes>"
      ]
     },
     "metadata": {
      "needs_background": "light"
     },
     "output_type": "display_data"
    }
   ],
   "source": [
    "#¿Dónde aprendiste a usar la computadora? \n",
    "\n",
    "positions = (0, 1, 2)\n",
    "labels = (\"En casa\", \"Aprendí solo\", \"En la escuela\")\n",
    "\n",
    "\n",
    "df[\"q_donde_aprendiste_compu\"].str.replace(\" \", \"\").str.get_dummies(sep=',') \\\n",
    "    .sum().sort_values(ascending=False).plot.bar()\n",
    "plt.title(\"¿Dónde aprendiste a usar la computadora?\", fontsize=15);\n",
    "\n",
    "plt.xticks(positions, labels,rotation=0);\n"
   ]
  },
  {
   "cell_type": "markdown",
   "id": "cd190274",
   "metadata": {},
   "source": [
    "En cuanto a la forma en la que aprendieron a usar la computadora, podemos ver que las opciones más elegidas son _\"Me enseñaron en mi casa (mis padres, hermanos u otro familiar)\"_ y _\"Aprendí solo\"_. \n",
    "\n",
    "Podemos ver que la tendencia está claramente más orientada a la formación recibida en el hogar, tanto por la enseñanza directa por parte de la familia o bien tal vez por la observación o la experiencia indirecta, al ver a otros miembros de la familia. \n",
    "\n",
    "Esta hipótesis es respaldada por otros estudios anteriores, como por ejemplo el de Mertala [8] _“Young children's perceptions of ubiquitous computing and the Internet of Things”_ donde explica que el conocimiento de los chicos sobre las distintas tecnologías se basa en el contacto que tuvieron con éstas a través de sus padres, hermanos u otras figuras del entorno familiar o escolar. \n",
    "\n",
    "De esta forma, esta percepción de haber \"aprendido solos\" podría tener raíz en este contacto indirecto."
   ]
  },
  {
   "cell_type": "code",
   "execution_count": 10,
   "id": "0b0d9d34",
   "metadata": {},
   "outputs": [
    {
     "data": {
      "image/png": "[encoded data removed]",
      "text/plain": [
       "<Figure size 432x288 with 1 Axes>"
      ]
     },
     "metadata": {
      "needs_background": "light"
     },
     "output_type": "display_data"
    }
   ],
   "source": [
    "#¿Qué celular usás?\n",
    "\n",
    "positions = (0, 1, 2)\n",
    "labels = (\"El mío\", \"Me prestan uno\", \"No uso\")\n",
    "\n",
    "df[\"q_que_celu_usas\"].value_counts().plot.bar()\n",
    "plt.title(\"¿Qué celular usás?\", fontsize=15)\n",
    "plt.xticks(positions, labels,rotation=0);\n"
   ]
  },
  {
   "cell_type": "code",
   "execution_count": 11,
   "id": "d665ae52",
   "metadata": {},
   "outputs": [
    {
     "data": {
      "image/png": "[encoded data removed]",
      "text/plain": [
       "<Figure size 1080x360 with 1 Axes>"
      ]
     },
     "metadata": {
      "needs_background": "light"
     },
     "output_type": "display_data"
    }
   ],
   "source": [
    "# Si usás celular: ¿qué haces cuando usás el celular? (podés elegir más de una opción)\n",
    "\n",
    "positions = (0, 1, 2, 3, 4, 5, 6, 7)\n",
    "labels = (\"Juegos\", \"Chat\", \"YouTube\", \"Llamadas\\n telefónicas\", \"Redes sociales\", \\\n",
    "          \"No uso\", \"Actividades\\n creativas\", \"Actividades\\n escolares\")\n",
    "\n",
    "df[\"q_que_haces_celu\"].str.replace(\" \", \"\").str.get_dummies(sep=',') \\\n",
    "    .sum().sort_values(ascending=False).plot.bar(figsize=(15,5))\n",
    "plt.title(\"¿Qué haces cuando usás el celular?\", fontsize=15);\n",
    "plt.xticks(positions, labels,rotation=0);\n"
   ]
  },
  {
   "cell_type": "markdown",
   "id": "7f2c591c",
   "metadata": {},
   "source": [
    "Al indagar en la forma en que los chicos y chicas utilizan los celulares nos encontramos con que la gran mayoría cuenta con un dispositivo propio.\n",
    "\n",
    "La actividad más realizada es nuevamente jugar juegos, pero se suma con mucha importancia también el chat (utilizando aplicaciones de mensajería tales como Whatsapp, Telegram, etc) y mirar videos en YouTube.\n",
    "\n",
    "Es llamativo que haya aparecido _\"Llamadas telefónicas\"_ como una actividad de una importancia considerable, aunque cabe preguntarse si habría que haber pedido que especifiquen si se referían videollamadas utilizando las aplicaciones anteriormente mencionadas, y en tal caso la actividad \"Chat\" cobraría aún más relevancia.\n",
    "\n",
    "Dentro de _\"Redes Sociales\"_ se incluyen ejemplos como TikTok, Instagram y Facebook, aunque no les pedimos que especifiquen ninguna en particular. Sin embargo, sabemos por la consulta realizada previamente a la confección de la encuesta que realizamos a los referentes pedagógicos de la Fundación Sadosky que trabajan para el Plan Ceibal, que la red social elegida por sobre las otras es en estos momentos TikTok.\n",
    "\n",
    "Por último, cabe destacar que _\"Actividades creativas\"_ no fue una opción propuesta por nosotros en el cuestionario (tanto en esta pregunta como en la relacionada a las actividades realizadas con la computadora), sino que fue agregada por los chicos y chicas al momento de completar la encuesta. Dentro de este grupo, agrupamos respuestas que se referían a la edición de videos y fotos (tal vez para compartir en aplicaciones tales como TikTok o Instagram), escuchar música y escribir historias."
   ]
  },
  {
   "cell_type": "markdown",
   "id": "7e0af67b",
   "metadata": {},
   "source": [
    "# Análisis exploratorio de misconceptions\n"
   ]
  },
  {
   "cell_type": "code",
   "execution_count": 12,
   "id": "bbd92db2",
   "metadata": {
    "scrolled": false
   },
   "outputs": [
    {
     "data": {
      "image/png": "[encoded data removed]",
      "text/plain": [
       "<Figure size 864x360 with 1 Axes>"
      ]
     },
     "metadata": {
      "needs_background": "light"
     },
     "output_type": "display_data"
    }
   ],
   "source": [
    "# ¿Dónde se almacenan los videos que están en YouTube?\n",
    "positions = (0, 1, 2, 3, 4, 5)\n",
    "labels = (\"La nube\", \"No sé\", \"Mi celular\", \"Muchísimas\\n compus\", \"Una compu\", \"Muchas compus\")\n",
    "\n",
    "df[\"q_yt\"].value_counts().plot.bar(figsize=(12,5))\n",
    "plt.title(\"¿Dónde se almacenan los videos que están en YouTube?\", fontsize=15)\n",
    "plt.xticks(positions, labels,rotation=0);"
   ]
  },
  {
   "cell_type": "markdown",
   "id": "a35e1a8c",
   "metadata": {},
   "source": [
    "El primer tema a analizar es el almacenamiento de grandes volúmenes de datos en YouTube. Para esto le preguntamos a los chicos _\"¿Dónde se almacenan los videos que están en YouTube?\"_ y les dimos como opciones de respuesta _\"En mi celular\"_, _\"En la nube\"_, _\"En una computadora\"_, _\"En muchas computadoras (tantas que podríamos llenar una casa)\"_, _\"En muchísimas computadoras (tantas que podríamos llenar una cancha de fútbol)\"_ o bien _\"No sé\"_.\n",
    "\n",
    "Podemos ver en un resultado inicial que la mayoría de ellos respondió _\"En la nube\"_. Esto es interesante porque el concepto de \"Nube\" es actualmente muy mencionado y por lo tanto está en el léxico de los chicos, a quienes seguramente Google les habrá ofrecido más de una vez _\"más espacio de almacenamiento en la nube\"_ (por nombrar un ejemplo). Sin embargo, cabe preguntarse si hay _misconceptions_ respecto de este tema puntual: ¿piensan la nube como algo etéreo? ¿Qué cantidad de información \"entra\" en la nube? ¿Cómo funciona? Este es sin duda un tema interesante para seguir investigando a futuro.\n",
    "\n",
    "En siguiente lugar nos encontramos con la respuesta _\"No sé\"_. Esto deja en evidencia que éste es un tema sobre el cual no se han preguntado mucho, incluso siendo que mirar videos en YouTube es la tercer actividad más elegida (tanto en la computadora como en el celular). \n",
    "\n",
    "Luego nos encontramos con similar cantidad de respuestas con las opciones de _\"En mi celular\"_ y en _\"Muchísimas computadoras (tantas que podríamos llenar una cancha de fútbol)\"_. Por un lado, está la _misconception_ de que el almacenamiento se da a nivel local, y más aún, que la cantidad información a almacenar es tal que entraría en un celular. Por otro lado, nos encontramos con la respuesta que propusimos como correcta, en la que queremos transmitir la idea de información distribuida en gran escala.\n",
    "\n",
    "Por último tenemos quienes opinaron que la información se guarda en una sola computadora, con la idea de almacenamiento no distribuido, pero tal vez con más capacidad que un celular, y en _\"En muchas computadoras (tantas que podríamos llenar una casa)\"_, donde quisimos transmitir una noción de almacenamiento distribuido pero a una escala menor que en la opción de \"**Muchísimas** computadoras\" (tal vez incluso llevarlos a pensar en que las muchas computadoras podrían encontrarse en una oficina de YouTube o Google, pero todas en un mismo lugar físico).\n",
    "\n",
    "\n",
    "\n"
   ]
  },
  {
   "cell_type": "code",
   "execution_count": 13,
   "id": "1aa3c4b3",
   "metadata": {},
   "outputs": [
    {
     "data": {
      "image/png": "[encoded data removed]",
      "text/plain": [
       "<Figure size 432x288 with 1 Axes>"
      ]
     },
     "metadata": {
      "needs_background": "light"
     },
     "output_type": "display_data"
    }
   ],
   "source": [
    "# ¿Quién tiene acceso a las fotos que tengo guardadas en mi celular?\n",
    "positions = (0, 1, 2)\n",
    "labels = (\"Solo yo\", \"Yo y otros\", \"No sé\")\n",
    "\n",
    "df[\"q_acceso_fotos\"].value_counts().plot.bar()\n",
    "plt.title(\"¿Quién tiene acceso a las fotos que tengo guardadas en mi celular?\", fontsize=15)\n",
    "plt.xticks(positions, labels, rotation=0);"
   ]
  },
  {
   "cell_type": "markdown",
   "id": "bfc47ec9",
   "metadata": {},
   "source": [
    "La siguiente _misconception_ que queremos analizar es cómo es el mecanismo para compartir un archivo por WhatsApp. \n",
    "\n",
    "En particular, vamos a profundizar en sí, al compartir una imágen por este medio se genera una copia de la misma o bien se comparte \"por referencia\". \n",
    "\n",
    "Para esto, la primer pregunta que les hacemos es _\"¿Quién tiene acceso a las fotos que tengo guardadas en mi celular?\"_. Como vemos, la mayor parte de quienes entrevistamos respondió correctamente _\"Solo yo\"_. Si bien por como está planteada la pregunta es posible que dieramos una sensación cuál era la respuesta correcta, la idea fue poder armar un camino de razonamiento como el siguiente:\n",
    "\n",
    "1. En primer lugar, quién tiene acceso a los archivos que tengo guardados en mi celular.\n",
    "2. ¿Cuando comparto por WhatsApp un archivo que tenía guardado: se genera una copia o se muestra una referencia a mi archivo?\n",
    "3. Y por último: ¿qué pasa si ya no quiero compartir ese archivo? ¿Es posible? ¿Puedo perder la propiedad de un archivo que compartí por WhatsApp?\n",
    "\n",
    "Veamos entonces en la siguiente pregunta el punto 2.\n"
   ]
  },
  {
   "cell_type": "code",
   "execution_count": 14,
   "id": "8d35543f",
   "metadata": {},
   "outputs": [
    {
     "data": {
      "image/png": "[encoded data removed]",
      "text/plain": [
       "<Figure size 864x360 with 1 Axes>"
      ]
     },
     "metadata": {
      "needs_background": "light"
     },
     "output_type": "display_data"
    }
   ],
   "source": [
    "# Cuando le mando a una amiga una foto por WhatsApp...\n",
    "positions = (0, 1, 2, 3)\n",
    "labels = (\"Le mando una copia\", \\\n",
    "          \"La foto ahora existe en el chat,\\n pero no la tiene en su celular\", \\\n",
    "          \"No sé\", \\\n",
    "          \"Le doy permiso para ver la foto\\n que tengo guardada en mi celular.\")\n",
    "\n",
    "\n",
    "df[\"q_mandar_fotos\"].value_counts().plot.bar(figsize=(12,5))\n",
    "plt.title(\"Cuando le mando a una amiga una foto por WhatsApp...\", fontsize=15)\n",
    "plt.xticks(positions, labels, rotation=0);\n"
   ]
  },
  {
   "cell_type": "markdown",
   "id": "19612146",
   "metadata": {},
   "source": [
    "Acá podemos ver que es bastante pareja la cantidad de niños y niñas que opinan, por un lado, que cuando se envía una foto, lo que se manda es una copia y por el otro, que esa foto \"existe en WhatsApp\" pero que la persona a la que se la enviaron no la tiene como copia en su celular. \n",
    "\n",
    "En esta última opción quisimos dar una idea de referencia, y dejar claro que el archivo compartido no le quedaría en forma de copia a la otra persona, si no que solo se podría acceder vía referencia. \n",
    "\n",
    "De todas maneras, a pesar de que la respuesta más elegida es la \"correcta\", el número de encuestados y encuestadas con y sin _misconceptions_ es similar. En el gráfico ()\n"
   ]
  },
  {
   "cell_type": "code",
   "execution_count": 15,
   "id": "38a4ba08",
   "metadata": {},
   "outputs": [
    {
     "data": {
      "image/png": "[encoded data removed]",
      "text/plain": [
       "<Figure size 432x288 with 1 Axes>"
      ]
     },
     "metadata": {
      "needs_background": "light"
     },
     "output_type": "display_data"
    }
   ],
   "source": [
    "# Copia vs ref\n",
    "positions = (0, 1)\n",
    "labels = (\"Por copia\",\"Por referencia\")\n",
    "df[\"q_mandar_fotos_agrup\"].value_counts()[:2].plot.bar();\n",
    "plt.title(\"¿La foto se manda por copia o referencia?\", fontsize=15);\n",
    "plt.xticks(positions, labels, rotation=0);\n"
   ]
  },
  {
   "cell_type": "markdown",
   "id": "e8017aeb",
   "metadata": {},
   "source": [
    "Por _\"copia\"_ tomamos a los entrevistados que respondieron que al compartir la foto se manda una copia de la misma y por _\"referencia\"_ consideramos a la unión de los niños que eligieron las opciones _\"Le doy permiso para ver la foto que tengo guardada en mi celular\"_ y _\"La foto ahora existe en WhatsApp y mi amiga la puede ver cuando mira nuestro chat, pero no la tiene en su celular\"_. Para mayor claridad, dejamos afuera a quienes respondieron _\"No sé\"_."
   ]
  },
  {
   "cell_type": "code",
   "execution_count": 16,
   "id": "06f14c6f",
   "metadata": {
    "scrolled": false
   },
   "outputs": [
    {
     "data": {
      "image/png": "[encoded data removed]",
      "text/plain": [
       "<Figure size 864x360 with 1 Axes>"
      ]
     },
     "metadata": {
      "needs_background": "light"
     },
     "output_type": "display_data"
    }
   ],
   "source": [
    "# Si quiero hacer que mi amiga no pueda ver más la foto, ¿qué puedo hacer?\n",
    "\n",
    "positions = (0, 1, 2, 3)\n",
    "labels = (\"Tengo que borrar \\nla foto en el chat.\", \\\n",
    "          \"No puedo hacer nada,\\n mi amiga ahora también\\n tiene la foto.\", \\\n",
    "          \"No sé\", \\\n",
    "          \"Tengo que borrar la \\nfoto en la Galería\")\n",
    "\n",
    "\n",
    "df[\"q_borrar_fotos\"].value_counts().plot.bar(figsize=(12,5))\n",
    "plt.title(\"Si quiero hacer que mi amiga no pueda ver más la foto, ¿qué puedo hacer?\", fontsize=15)\n",
    "\n",
    "plt.xticks(positions, labels, rotation=0);\n",
    "\n"
   ]
  },
  {
   "cell_type": "markdown",
   "id": "390db4fc",
   "metadata": {},
   "source": [
    "Por último, como habíamos mencionado anteriormente en el punto 3, les preguntamos qué pueden hacer si quieren que la persona a la que le compartieron la foto no pueda acceder más a ella. \n",
    "\n",
    "Con esta pregunta, intentamos fijar los conceptos vistos anteriormente y dilucidar si la idea de copia y referencia estaba bien arraigada.\n",
    "\n",
    "Al analizar los datos, nos encontramos con una sorpresa: si bien en las dos preguntas anteriores, la mayor parte de los niños y niñas encuestados había contestado correctamente dando a conocer que los archivos se envían como una copia cuando se comparten por WhatsApp, en esta pregunta mostraron tener una _misconception_.\n",
    "\n",
    "La opción más elegida fue que para dejar de compartir esa foto bastaría con borrarla en el chat de WhatsApp. Esta respuesta da una idea de que hay una referencia de la foto existente en el servidor de WhatsApp y que al eliminar el mensaje con el archivo en el chat, es suficiente para quitarle el acceso a la otra persona a los datos previamente compartidos.\n",
    "\n",
    "En contraste, la opción _\"No puedo hacer nada, mi amiga ahora también tiene la foto y no tengo manera de sacársela\"_ intentaba reflejar la idea de que el archivo es compartido mediante una copia, y que una vez que ésta es enviada a la otra persona, se pierde la propiedad sobre la misma y no es posible hacer nada al respecto.\n",
    "\n"
   ]
  },
  {
   "cell_type": "code",
   "execution_count": 17,
   "id": "ca394fef",
   "metadata": {},
   "outputs": [
    {
     "data": {
      "image/png": "[encoded data removed]",
      "text/plain": [
       "<Figure size 864x360 with 1 Axes>"
      ]
     },
     "metadata": {
      "needs_background": "light"
     },
     "output_type": "display_data"
    }
   ],
   "source": [
    "# Sofi está en la calle sin Wi-Fi y le quiere mandar un mensaje de WhatsApp a Santi.  ¿Cuál de las cinco imágenes representa mejor la manera en la que el mensaje viaja?\n",
    "\n",
    "\n",
    "positions = (0, 1, 2, 3, 4, 5)\n",
    "labels = (\"No sé\", \\\n",
    "          \"Red de computadoras \\ny antenas\", \\\n",
    "          \"Una antena\", \\\n",
    "          \"Un satélite\", \\\n",
    "          \"Directamente\", \n",
    "          \"La nube\")\n",
    "\n",
    "\n",
    "df[\"q_mensaje_sin_wifi\"].value_counts().plot.bar(figsize=(12,5))\n",
    "plt.title(\"¿Cómo viajan los mensajes cuando no hay Wi-Fi?\", fontsize=15)\n",
    "\n",
    "plt.xticks(positions, labels, rotation=0);\n"
   ]
  },
  {
   "cell_type": "markdown",
   "id": "be9a71ab",
   "metadata": {},
   "source": [
    "El siguiente tema que quisimos explorar fue el funcionamiento de la conectividad móvil, en particular, indagamos sobre cómo viajan los mensajes de WhatsApp cuando no hay Wi-Fi.\n",
    "\n",
    "Es llamativo que en esta pregunta, la opción más elegida fue _\"No sé\"_. A pesar de que la gran mayoría de los chicos cuenta con un teléfono celular propio o bien accede a uno que le prestan, vemos que no han llegado a conclusiones respecto a cómo funciona la tecnología de fondo.\n",
    "\n",
    "De todas formas, una cantidad similar de niños y niñas respondieron a su vez correctamente al elegir la respuesta en la que se proponía que los mensajes viajan a través de una red de antenas y computadoras.\n",
    "\n",
    "En una proporción semejante aparecen las respuestas en las que se indica que los mensajes viajan a través de una (única) antena, un satélite y \"directamente\" (dando a entender que no existe una infraestructura que intervenga en este proceso).\n"
   ]
  },
  {
   "cell_type": "markdown",
   "id": "1ffd479e",
   "metadata": {},
   "source": [
    "En la fig. 22 se muestra un agrupamiento de las respuestas que contienen una _misconception_ (en este caso, las que indican que los mensajes viajan a través de la nube, de un satélite, una única antena o directamente) en contraste con la respuesta \"acertada\" (que indicaba que el mensaje viajaba a través de una red de antenas y computadoras). Podemos ver que la proporción de niños y niñas con una _misconception_ en este tema es mayor (casi el doble) que la de los chicos y chicas que no."
   ]
  },
  {
   "cell_type": "code",
   "execution_count": 18,
   "id": "b650e48b",
   "metadata": {},
   "outputs": [
    {
     "data": {
      "image/png": "[encoded data removed]",
      "text/plain": [
       "<Figure size 864x360 with 1 Axes>"
      ]
     },
     "metadata": {
      "needs_background": "light"
     },
     "output_type": "display_data"
    }
   ],
   "source": [
    "some_values = ['otras', 'red']\n",
    "positions = (0, 1)\n",
    "labels = (\"Respuestas con misconception\", \\\n",
    "          \"Respuesta acertada\")\n",
    "\n",
    "df2 = df.loc[df['q_mensaje_sin_wifi_agrup'].isin(some_values)];\n",
    "df2['q_mensaje_sin_wifi_agrup'].value_counts().plot.bar(figsize=(12,5));\n",
    "plt.title(\"Respuestas con misconception vs respuestas sin misconception\", fontsize=15)\n",
    "\n",
    "plt.xticks(positions, labels, rotation=0);\n"
   ]
  },
  {
   "cell_type": "markdown",
   "id": "2d1a6421",
   "metadata": {},
   "source": [
    "\n",
    "Por último, cabe destacar que la opción de que viajan a través de _\"La nube\"_ fue la menos elegida. Y esto es un dato no menor, ya que como habíamos mencionado anteriormente, en la pregunta _¿Dónde se almacenan los videos que están en YouTube?\"_ la respuesta más elegida fue justamente _\"En la nube\"_. Con esta información podemos desentrañar también un poco más cuáles son sus concepciones acerca de \"la nube\": un espacio de almacenamiento \"etéreo\" de datos más que un medio por el cual se envía y recibe información."
   ]
  },
  {
   "cell_type": "code",
   "execution_count": 19,
   "id": "92e6663d",
   "metadata": {},
   "outputs": [
    {
     "data": {
      "image/png": "[encoded data removed]",
      "text/plain": [
       "<Figure size 1080x360 with 1 Axes>"
      ]
     },
     "metadata": {
      "needs_background": "light"
     },
     "output_type": "display_data"
    }
   ],
   "source": [
    "# ¿Por qué hay aplicaciones gratuitas?\n",
    "positions = (0, 1, 2, 3, 4, 5, 6, 7)\n",
    "labels = (\"Ganan plata \\ncon publicidades\", \\\n",
    "          \"Para que todos \\nlas usen.\", \\\n",
    "          \"Venden nuestros datos\", \\\n",
    "          \"En internet \\ntodo es gratis\", \\\n",
    "          \"Ya tienen \\nsuficiente plata\", \\\n",
    "          \"Para tener \\nmás descargas\", \\\n",
    "          \"No sé\",\n",
    "          \"No todo es gratis\")\n",
    "\n",
    "\n",
    "df[\"q_gratuidad\"].str.replace(\" \", \"\").str.get_dummies(sep=',') \\\n",
    "    .sum().sort_values(ascending=False).plot.bar(figsize=(15,5))\n",
    "\n",
    "plt.title(\"¿Por qué hay aplicaciones gratuitas?\", fontsize=15)\n",
    "\n",
    "plt.xticks(positions, labels, rotation=0);\n"
   ]
  },
  {
   "cell_type": "markdown",
   "id": "9da3647d",
   "metadata": {},
   "source": [
    "Por último, nos interesaba conocer sus concepciones acerca del por qué de la gratuidad de algunas aplicaciones conocidas por ellos en Internet, tales como TikTok, YouTube, Facebook o Instagram. \n",
    "\n",
    "Ante la pregunta de _\"¿Por qué hay aplicaciones gratuitas?\"_, la gran mayoría eligió la opción que propone que la gratuidad de éstas es posible gracias al dinero que ganan con las publicidades que nos muestran. \n",
    "\n",
    "Las otras opciones que les habíamos planteado quedaron bastante por detrás en tanto a cantidad de chicos que las eligieron. \n",
    "\n",
    "Es interesante mencionar que en esta pregunta habíamos dejado un casillero libre para completar con otras opciones que se les pudiesen ocurrir y que no estuvieran disponibles. De esta forma, algunos completaron que las aplicaciones son gratis para poder conseguir así \"más descargas en el Play Store\". Según esta respuesta, las aplicaciones ganan más dinero cuantas más descargas consiguen.\n",
    "\n",
    "La otra respuesta proporcionada por los chicos y chicas fue que _\"No todo es gratis\"_ en Internet, dando a entender que hay también aplicaciones que no son gratuitas."
   ]
  },
  {
   "cell_type": "code",
   "execution_count": 20,
   "id": "a585790b",
   "metadata": {},
   "outputs": [
    {
     "data": {
      "text/html": [
       "<div>\n",
       "<style scoped>\n",
       "    .dataframe tbody tr th:only-of-type {\n",
       "        vertical-align: middle;\n",
       "    }\n",
       "\n",
       "    .dataframe tbody tr th {\n",
       "        vertical-align: top;\n",
       "    }\n",
       "\n",
       "    .dataframe thead th {\n",
       "        text-align: right;\n",
       "    }\n",
       "</style>\n",
       "<table border=\"1\" class=\"dataframe\">\n",
       "  <thead>\n",
       "    <tr style=\"text-align: right;\">\n",
       "      <th></th>\n",
       "      <th>respuesta</th>\n",
       "      <th>cantidad</th>\n",
       "    </tr>\n",
       "  </thead>\n",
       "  <tbody>\n",
       "    <tr>\n",
       "      <th>0</th>\n",
       "      <td>a_gratuidad_publicidades</td>\n",
       "      <td>91</td>\n",
       "    </tr>\n",
       "    <tr>\n",
       "      <th>1</th>\n",
       "      <td>a_gratuidad_paraquetodoslasusen</td>\n",
       "      <td>35</td>\n",
       "    </tr>\n",
       "    <tr>\n",
       "      <th>2</th>\n",
       "      <td>a_gratuidad_datos</td>\n",
       "      <td>27</td>\n",
       "    </tr>\n",
       "    <tr>\n",
       "      <th>3</th>\n",
       "      <td>a_gratuidad_todoeninternetesgratis</td>\n",
       "      <td>10</td>\n",
       "    </tr>\n",
       "    <tr>\n",
       "      <th>4</th>\n",
       "      <td>a_gratuidad_yatienenplata</td>\n",
       "      <td>10</td>\n",
       "    </tr>\n",
       "    <tr>\n",
       "      <th>5</th>\n",
       "      <td>a_gratuidad_descargas</td>\n",
       "      <td>2</td>\n",
       "    </tr>\n",
       "    <tr>\n",
       "      <th>6</th>\n",
       "      <td>a_gratuidad_nose</td>\n",
       "      <td>2</td>\n",
       "    </tr>\n",
       "    <tr>\n",
       "      <th>7</th>\n",
       "      <td>a_gratuidad_notodoesgratis</td>\n",
       "      <td>1</td>\n",
       "    </tr>\n",
       "  </tbody>\n",
       "</table>\n",
       "</div>"
      ],
      "text/plain": [
       "                            respuesta  cantidad\n",
       "0            a_gratuidad_publicidades        91\n",
       "1     a_gratuidad_paraquetodoslasusen        35\n",
       "2                   a_gratuidad_datos        27\n",
       "3  a_gratuidad_todoeninternetesgratis        10\n",
       "4           a_gratuidad_yatienenplata        10\n",
       "5               a_gratuidad_descargas         2\n",
       "6                    a_gratuidad_nose         2\n",
       "7          a_gratuidad_notodoesgratis         1"
      ]
     },
     "execution_count": 20,
     "metadata": {},
     "output_type": "execute_result"
    }
   ],
   "source": [
    "df_gratuidad = df[\"q_gratuidad\"].str.replace(\" \", \"\").str.get_dummies(sep=',') \\\n",
    "    .sum().sort_values(ascending=False).reset_index()\n",
    "df_gratuidad.columns = ['respuesta', 'cantidad']\n",
    "df_gratuidad"
   ]
  },
  {
   "cell_type": "code",
   "execution_count": 21,
   "id": "f1bb2ede",
   "metadata": {},
   "outputs": [
    {
     "data": {
      "image/png": "[encoded data removed]",
      "text/plain": [
       "<Figure size 864x360 with 1 Axes>"
      ]
     },
     "metadata": {
      "needs_background": "light"
     },
     "output_type": "display_data"
    }
   ],
   "source": [
    "positions = (0, 1)\n",
    "labels = (\"Respuestas con misconception\", \\\n",
    "          \"Respuesta acertada\")\n",
    "\n",
    "df_gratuidad['respuesta_correcta'] = df_gratuidad['respuesta'] == 'a_gratuidad_publicidades'\n",
    "df_gratuidad.groupby('respuesta_correcta').agg(np.sum) \\\n",
    "    .plot(kind='bar', legend=False, figsize=(12,5))\n",
    "\n",
    "plt.title(\"Respuestas con misconception vs respuestas sin misconception\", fontsize=15)\n",
    "plt.xticks(positions, labels, rotation=0)\n",
    "plt.xlabel(\"\");"
   ]
  },
  {
   "cell_type": "code",
   "execution_count": 22,
   "id": "68b51e1a",
   "metadata": {},
   "outputs": [
    {
     "data": {
      "text/html": [
       "<div>\n",
       "<style scoped>\n",
       "    .dataframe tbody tr th:only-of-type {\n",
       "        vertical-align: middle;\n",
       "    }\n",
       "\n",
       "    .dataframe tbody tr th {\n",
       "        vertical-align: top;\n",
       "    }\n",
       "\n",
       "    .dataframe thead th {\n",
       "        text-align: right;\n",
       "    }\n",
       "</style>\n",
       "<table border=\"1\" class=\"dataframe\">\n",
       "  <thead>\n",
       "    <tr style=\"text-align: right;\">\n",
       "      <th></th>\n",
       "      <th>0</th>\n",
       "      <th>1</th>\n",
       "      <th>2</th>\n",
       "      <th>3</th>\n",
       "      <th>4</th>\n",
       "    </tr>\n",
       "  </thead>\n",
       "  <tbody>\n",
       "    <tr>\n",
       "      <th>timestamp</th>\n",
       "      <td>3/12/2021 19:15:01</td>\n",
       "      <td>3/17/2021 21:12:19</td>\n",
       "      <td>3/18/2021 21:28:35</td>\n",
       "      <td>3/26/2021 22:14:29</td>\n",
       "      <td>4/19/2021 13:40:42</td>\n",
       "    </tr>\n",
       "    <tr>\n",
       "      <th>q_edad</th>\n",
       "      <td>10</td>\n",
       "      <td>9</td>\n",
       "      <td>10</td>\n",
       "      <td>9</td>\n",
       "      <td>9</td>\n",
       "    </tr>\n",
       "    <tr>\n",
       "      <th>q_genero</th>\n",
       "      <td>f</td>\n",
       "      <td>f</td>\n",
       "      <td>m</td>\n",
       "      <td>f</td>\n",
       "      <td>f</td>\n",
       "    </tr>\n",
       "    <tr>\n",
       "      <th>q_donde_compu</th>\n",
       "      <td>a_donde_compu_casa</td>\n",
       "      <td>a_donde_compu_casa</td>\n",
       "      <td>a_donde_compu_casa</td>\n",
       "      <td>a_donde_compu_casa</td>\n",
       "      <td>a_donde_compu_casa</td>\n",
       "    </tr>\n",
       "    <tr>\n",
       "      <th>q_que_haces_compu</th>\n",
       "      <td>a_que_haces_compu_videos, a_que_haces_compu_tarea</td>\n",
       "      <td>a_que_haces_compu_juegos</td>\n",
       "      <td>a_que_haces_compu_videos</td>\n",
       "      <td>a_que_haces_compu_juegos, a_que_haces_compu_vi...</td>\n",
       "      <td>a_que_haces_compu_juegos, a_que_haces_compu_vi...</td>\n",
       "    </tr>\n",
       "    <tr>\n",
       "      <th>q_donde_aprendiste_compu</th>\n",
       "      <td>a_donde_aprendiste_compu_casa</td>\n",
       "      <td>a_donde_aprendiste_compu_solo</td>\n",
       "      <td>a_donde_aprendiste_compu_escuela</td>\n",
       "      <td>a_donde_aprendiste_compu_casa, a_donde_aprendi...</td>\n",
       "      <td>a_donde_aprendiste_compu_casa</td>\n",
       "    </tr>\n",
       "    <tr>\n",
       "      <th>q_que_celu_usas</th>\n",
       "      <td>a_que_celu_usas_propio</td>\n",
       "      <td>a_que_celu_usas_propio</td>\n",
       "      <td>a_que_celu_usas_propio</td>\n",
       "      <td>a_que_celu_usas_prestado</td>\n",
       "      <td>a_que_celu_usas_propio</td>\n",
       "    </tr>\n",
       "    <tr>\n",
       "      <th>q_que_haces_celu</th>\n",
       "      <td>a_que_haces_celu_chat, a_que_haces_celu_videos...</td>\n",
       "      <td>a_que_haces_celu_redes</td>\n",
       "      <td>a_que_haces_celu_juegos</td>\n",
       "      <td>a_que_haces_celu_chat, a_que_haces_celu_telefo...</td>\n",
       "      <td>a_que_haces_celu_chat</td>\n",
       "    </tr>\n",
       "    <tr>\n",
       "      <th>q_yt</th>\n",
       "      <td>a_yt_1compu</td>\n",
       "      <td>a_yt_1compu</td>\n",
       "      <td>a_yt_muchascompu</td>\n",
       "      <td>a_yt_nose</td>\n",
       "      <td>a_yt_celular</td>\n",
       "    </tr>\n",
       "    <tr>\n",
       "      <th>q_acceso_fotos</th>\n",
       "      <td>a_acceso_fotos_yoyotros</td>\n",
       "      <td>a_acceso_fotos_yo</td>\n",
       "      <td>a_acceso_fotos_yo</td>\n",
       "      <td>a_acceso_fotos_yoyotros</td>\n",
       "      <td>a_acceso_fotos_yo</td>\n",
       "    </tr>\n",
       "    <tr>\n",
       "      <th>q_mandar_fotos</th>\n",
       "      <td>a_mandar_fotos_enwa</td>\n",
       "      <td>a_mandar_fotos_enwa</td>\n",
       "      <td>a_mandar_fotos_copia</td>\n",
       "      <td>a_mandar_fotos_copia</td>\n",
       "      <td>a_mandar_fotos_laveenmicelu</td>\n",
       "    </tr>\n",
       "    <tr>\n",
       "      <th>q_mandar_fotos_agrup</th>\n",
       "      <td>referencia</td>\n",
       "      <td>referencia</td>\n",
       "      <td>copia</td>\n",
       "      <td>copia</td>\n",
       "      <td>referencia</td>\n",
       "    </tr>\n",
       "    <tr>\n",
       "      <th>q_borrar_fotos</th>\n",
       "      <td>a_borrar_fotos_enelchat</td>\n",
       "      <td>a_borrar_fotos_nopuedo</td>\n",
       "      <td>a_borrar_fotos_enelchat</td>\n",
       "      <td>a_borrar_fotos_enelchat</td>\n",
       "      <td>a_borrar_fotos_enelchat</td>\n",
       "    </tr>\n",
       "    <tr>\n",
       "      <th>q_mensaje_sin_wifi</th>\n",
       "      <td>a_mensaje_sin_wifi_directo</td>\n",
       "      <td>a_mensaje_sin_wifi_nube</td>\n",
       "      <td>a_mensaje_sin_wifi_red</td>\n",
       "      <td>a_mensaje_sin_wifi_directo</td>\n",
       "      <td>a_mensaje_sin_wifi_directo</td>\n",
       "    </tr>\n",
       "    <tr>\n",
       "      <th>q_mensaje_sin_wifi_agrup</th>\n",
       "      <td>otras</td>\n",
       "      <td>otras</td>\n",
       "      <td>red</td>\n",
       "      <td>otras</td>\n",
       "      <td>otras</td>\n",
       "    </tr>\n",
       "    <tr>\n",
       "      <th>q_gratuidad</th>\n",
       "      <td>a_gratuidad_publicidades, a_gratuidad_paraquet...</td>\n",
       "      <td>a_gratuidad_yatienenplata</td>\n",
       "      <td>a_gratuidad_datos</td>\n",
       "      <td>a_gratuidad_datos, a_gratuidad_paraquetodoslas...</td>\n",
       "      <td>a_gratuidad_yatienenplata</td>\n",
       "    </tr>\n",
       "    <tr>\n",
       "      <th>q_escuela</th>\n",
       "      <td>a_escuela_piloteo</td>\n",
       "      <td>a_escuela_piloteo</td>\n",
       "      <td>a_escuela_piloteo</td>\n",
       "      <td>a_escuela_piloteo</td>\n",
       "      <td>a_escuela_n83_4to</td>\n",
       "    </tr>\n",
       "  </tbody>\n",
       "</table>\n",
       "</div>"
      ],
      "text/plain": [
       "                                                                          0  \\\n",
       "timestamp                                                3/12/2021 19:15:01   \n",
       "q_edad                                                                   10   \n",
       "q_genero                                                                  f   \n",
       "q_donde_compu                                            a_donde_compu_casa   \n",
       "q_que_haces_compu         a_que_haces_compu_videos, a_que_haces_compu_tarea   \n",
       "q_donde_aprendiste_compu                      a_donde_aprendiste_compu_casa   \n",
       "q_que_celu_usas                                      a_que_celu_usas_propio   \n",
       "q_que_haces_celu          a_que_haces_celu_chat, a_que_haces_celu_videos...   \n",
       "q_yt                                                            a_yt_1compu   \n",
       "q_acceso_fotos                                      a_acceso_fotos_yoyotros   \n",
       "q_mandar_fotos                                          a_mandar_fotos_enwa   \n",
       "q_mandar_fotos_agrup                                             referencia   \n",
       "q_borrar_fotos                                      a_borrar_fotos_enelchat   \n",
       "q_mensaje_sin_wifi                               a_mensaje_sin_wifi_directo   \n",
       "q_mensaje_sin_wifi_agrup                                              otras   \n",
       "q_gratuidad               a_gratuidad_publicidades, a_gratuidad_paraquet...   \n",
       "q_escuela                                                 a_escuela_piloteo   \n",
       "\n",
       "                                                      1  \\\n",
       "timestamp                            3/17/2021 21:12:19   \n",
       "q_edad                                                9   \n",
       "q_genero                                              f   \n",
       "q_donde_compu                        a_donde_compu_casa   \n",
       "q_que_haces_compu              a_que_haces_compu_juegos   \n",
       "q_donde_aprendiste_compu  a_donde_aprendiste_compu_solo   \n",
       "q_que_celu_usas                  a_que_celu_usas_propio   \n",
       "q_que_haces_celu                 a_que_haces_celu_redes   \n",
       "q_yt                                        a_yt_1compu   \n",
       "q_acceso_fotos                        a_acceso_fotos_yo   \n",
       "q_mandar_fotos                      a_mandar_fotos_enwa   \n",
       "q_mandar_fotos_agrup                         referencia   \n",
       "q_borrar_fotos                   a_borrar_fotos_nopuedo   \n",
       "q_mensaje_sin_wifi              a_mensaje_sin_wifi_nube   \n",
       "q_mensaje_sin_wifi_agrup                          otras   \n",
       "q_gratuidad                   a_gratuidad_yatienenplata   \n",
       "q_escuela                             a_escuela_piloteo   \n",
       "\n",
       "                                                         2  \\\n",
       "timestamp                               3/18/2021 21:28:35   \n",
       "q_edad                                                  10   \n",
       "q_genero                                                 m   \n",
       "q_donde_compu                           a_donde_compu_casa   \n",
       "q_que_haces_compu                 a_que_haces_compu_videos   \n",
       "q_donde_aprendiste_compu  a_donde_aprendiste_compu_escuela   \n",
       "q_que_celu_usas                     a_que_celu_usas_propio   \n",
       "q_que_haces_celu                   a_que_haces_celu_juegos   \n",
       "q_yt                                      a_yt_muchascompu   \n",
       "q_acceso_fotos                           a_acceso_fotos_yo   \n",
       "q_mandar_fotos                        a_mandar_fotos_copia   \n",
       "q_mandar_fotos_agrup                                 copia   \n",
       "q_borrar_fotos                     a_borrar_fotos_enelchat   \n",
       "q_mensaje_sin_wifi                  a_mensaje_sin_wifi_red   \n",
       "q_mensaje_sin_wifi_agrup                               red   \n",
       "q_gratuidad                              a_gratuidad_datos   \n",
       "q_escuela                                a_escuela_piloteo   \n",
       "\n",
       "                                                                          3  \\\n",
       "timestamp                                                3/26/2021 22:14:29   \n",
       "q_edad                                                                    9   \n",
       "q_genero                                                                  f   \n",
       "q_donde_compu                                            a_donde_compu_casa   \n",
       "q_que_haces_compu         a_que_haces_compu_juegos, a_que_haces_compu_vi...   \n",
       "q_donde_aprendiste_compu  a_donde_aprendiste_compu_casa, a_donde_aprendi...   \n",
       "q_que_celu_usas                                    a_que_celu_usas_prestado   \n",
       "q_que_haces_celu          a_que_haces_celu_chat, a_que_haces_celu_telefo...   \n",
       "q_yt                                                              a_yt_nose   \n",
       "q_acceso_fotos                                      a_acceso_fotos_yoyotros   \n",
       "q_mandar_fotos                                         a_mandar_fotos_copia   \n",
       "q_mandar_fotos_agrup                                                  copia   \n",
       "q_borrar_fotos                                      a_borrar_fotos_enelchat   \n",
       "q_mensaje_sin_wifi                               a_mensaje_sin_wifi_directo   \n",
       "q_mensaje_sin_wifi_agrup                                              otras   \n",
       "q_gratuidad               a_gratuidad_datos, a_gratuidad_paraquetodoslas...   \n",
       "q_escuela                                                 a_escuela_piloteo   \n",
       "\n",
       "                                                                          4  \n",
       "timestamp                                                4/19/2021 13:40:42  \n",
       "q_edad                                                                    9  \n",
       "q_genero                                                                  f  \n",
       "q_donde_compu                                            a_donde_compu_casa  \n",
       "q_que_haces_compu         a_que_haces_compu_juegos, a_que_haces_compu_vi...  \n",
       "q_donde_aprendiste_compu                      a_donde_aprendiste_compu_casa  \n",
       "q_que_celu_usas                                      a_que_celu_usas_propio  \n",
       "q_que_haces_celu                                      a_que_haces_celu_chat  \n",
       "q_yt                                                           a_yt_celular  \n",
       "q_acceso_fotos                                            a_acceso_fotos_yo  \n",
       "q_mandar_fotos                                  a_mandar_fotos_laveenmicelu  \n",
       "q_mandar_fotos_agrup                                             referencia  \n",
       "q_borrar_fotos                                      a_borrar_fotos_enelchat  \n",
       "q_mensaje_sin_wifi                               a_mensaje_sin_wifi_directo  \n",
       "q_mensaje_sin_wifi_agrup                                              otras  \n",
       "q_gratuidad                                       a_gratuidad_yatienenplata  \n",
       "q_escuela                                                 a_escuela_n83_4to  "
      ]
     },
     "execution_count": 22,
     "metadata": {},
     "output_type": "execute_result"
    }
   ],
   "source": [
    "df.head().transpose()"
   ]
  },
  {
   "cell_type": "code",
   "execution_count": 23,
   "id": "56ea7a34",
   "metadata": {
    "scrolled": true
   },
   "outputs": [
    {
     "data": {
      "image/png": "[encoded data removed]",
      "text/plain": [
       "<Figure size 432x288 with 1 Axes>"
      ]
     },
     "metadata": {
      "needs_background": "light"
     },
     "output_type": "display_data"
    }
   ],
   "source": [
    "positions = (0, 1)\n",
    "labels = (\"Con misconception\", \\\n",
    "          \"Sin misconception o \\n respondieron 'No sé'\")\n",
    "\n",
    "df['misconception_yt'] = np.where((df['q_yt']=='a_yt_muchisimascompu') | (df['q_yt']=='a_yt_nose'), 'no', 'si')\n",
    "\n",
    "df[\"misconception_yt\"].value_counts().plot.bar(rot=0);\n",
    "plt.title(\"Cantidad de alumnos con misconceptions en la pregunta \\n ¿Dónde se almacenan los videos que están en YouTube?\", \\\n",
    "          fontsize=15);\n",
    "plt.xticks(positions, labels, rotation=0);\n",
    "\n",
    "\n",
    "\n",
    "\n",
    "# Cómo puedo chequear que esto este bien?\n",
    "# qué hay que hacer con los \"no sé\"?\n"
   ]
  },
  {
   "cell_type": "code",
   "execution_count": 24,
   "id": "bf926258",
   "metadata": {
    "scrolled": true
   },
   "outputs": [
    {
     "data": {
      "image/png": "[encoded data removed]",
      "text/plain": [
       "<Figure size 432x288 with 1 Axes>"
      ]
     },
     "metadata": {
      "needs_background": "light"
     },
     "output_type": "display_data"
    }
   ],
   "source": [
    "# vamos a separar el no se.\n",
    "positions = (0, 1, 2)\n",
    "labels = (\"Con misconception\", \"Respondieron 'No sé'\", \"Sin misconception\")\n",
    "\n",
    "df['misconception_yt2'] = df.apply(lambda x: classify_answers(x, q='q_yt', a1='a_yt_muchisimascompu', a2='a_yt_nose'), axis=1)\n",
    "df[\"misconception_yt2\"].value_counts().plot.bar(rot=0);\n",
    "plt.title(\"Cantidad de alumnos con misconceptions en la pregunta \\n ¿Dónde se almacenan los videos que están en YouTube?\", \\\n",
    "          fontsize=15);\n",
    "plt.xticks(positions, labels, rotation=0);\n",
    "\n",
    "\n"
   ]
  },
  {
   "cell_type": "code",
   "execution_count": 25,
   "id": "1b55e0a0",
   "metadata": {
    "scrolled": true
   },
   "outputs": [
    {
     "data": {
      "image/png": "[encoded data removed]",
      "text/plain": [
       "<Figure size 432x288 with 1 Axes>"
      ]
     },
     "metadata": {
      "needs_background": "light"
     },
     "output_type": "display_data"
    }
   ],
   "source": [
    "positions = (0, 1)\n",
    "labels = (\"Sin misconception\", \\\n",
    "          \"Con misconception\")\n",
    "\n",
    "df['misconception_acceso_fotos'] = np.where((df['q_acceso_fotos']=='a_acceso_fotos_yo') | (df['q_acceso_fotos']=='a_acceso_fotos_nose'), 'no', 'si')\n",
    "df[\"misconception_acceso_fotos\"].value_counts().plot.bar(rot=0);\n",
    "plt.title(\"Cantidad de alumnos con misconceptions en la pregunta \\n ¿Quién tiene acceso a las fotos que tengo guardadas en mi celular?\", \\\n",
    "          fontsize=15);\n",
    "\n",
    "plt.xticks(positions, labels, rotation=0);\n"
   ]
  },
  {
   "cell_type": "code",
   "execution_count": 26,
   "id": "e99167b5",
   "metadata": {},
   "outputs": [
    {
     "data": {
      "image/png": "[encoded data removed]",
      "text/plain": [
       "<Figure size 432x288 with 1 Axes>"
      ]
     },
     "metadata": {
      "needs_background": "light"
     },
     "output_type": "display_data"
    }
   ],
   "source": [
    "# vamos a separar el no se.\n",
    "positions = (0, 1, 2)\n",
    "labels = (\"Sin misconception\", \"Con misconception\", \"Respondieron 'No sé'\")\n",
    "\n",
    "df['misconception_acceso_fotos2'] = df.apply(lambda x: classify_answers(x, q='q_acceso_fotos', a1='a_acceso_fotos_yo', a2='a_acceso_fotos_nose'), axis=1)\n",
    "df[\"misconception_acceso_fotos2\"].value_counts().plot.bar(rot=0);\n",
    "\n",
    "plt.title(\"Cantidad de alumnos con misconceptions en la pregunta \\n ¿Quién tiene acceso a las fotos que tengo guardadas en mi celular?\", \\\n",
    "          fontsize=15);\n",
    "\n",
    "plt.xticks(positions, labels, rotation=0);\n"
   ]
  },
  {
   "cell_type": "code",
   "execution_count": 27,
   "id": "9fb7f501",
   "metadata": {
    "scrolled": true
   },
   "outputs": [
    {
     "data": {
      "image/png": "[encoded data removed]",
      "text/plain": [
       "<Figure size 432x288 with 1 Axes>"
      ]
     },
     "metadata": {
      "needs_background": "light"
     },
     "output_type": "display_data"
    }
   ],
   "source": [
    "positions = (0, 1)\n",
    "labels = (\"Sin misconception\", \\\n",
    "          \"Con misconception\")\n",
    "\n",
    "df['misconception_mandar_fotos'] = np.where((df['q_mandar_fotos']=='a_mandar_fotos_copia') | (df['q_mandar_fotos']=='a_mandar_fotos_nose'), 'no', 'si')\n",
    "df[\"misconception_mandar_fotos\"].value_counts().plot.bar(rot=0);\n",
    "plt.title(\"Cantidad de alumnos con misconceptions en la pregunta \\n Cuando le mando a una amiga una foto por WhatsApp...\", \\\n",
    "          fontsize=15);\n",
    "\n",
    "plt.xticks(positions, labels, rotation=0);"
   ]
  },
  {
   "cell_type": "code",
   "execution_count": 28,
   "id": "726da8b9",
   "metadata": {},
   "outputs": [
    {
     "data": {
      "image/png": "[encoded data removed]",
      "text/plain": [
       "<Figure size 432x288 with 1 Axes>"
      ]
     },
     "metadata": {
      "needs_background": "light"
     },
     "output_type": "display_data"
    }
   ],
   "source": [
    "# vamos a separar el no se.\n",
    "positions = (0, 1, 2)\n",
    "labels = (\"Por copia\", \"Por referencia\", \"Respondieron 'No sé'\")\n",
    "\n",
    "df['misconception_mandar_fotos2'] = df.apply(lambda x: classify_answers(x, q='q_mandar_fotos', a1='a_mandar_fotos_copia', a2='a_mandar_fotos_nose'), axis=1)\n",
    "df[\"misconception_mandar_fotos2\"].value_counts().plot.bar(rot=0);\n",
    "\n",
    "plt.title(\"¿La foto se manda por copia o por referencia?\", \\\n",
    "          fontsize=15);\n",
    "\n",
    "plt.xticks(positions, labels, rotation=0);\n"
   ]
  },
  {
   "cell_type": "code",
   "execution_count": 29,
   "id": "ba0637eb",
   "metadata": {},
   "outputs": [
    {
     "data": {
      "image/png": "[encoded data removed]",
      "text/plain": [
       "<Figure size 432x288 with 1 Axes>"
      ]
     },
     "metadata": {
      "needs_background": "light"
     },
     "output_type": "display_data"
    }
   ],
   "source": [
    "positions = (0, 1)\n",
    "labels = (\"Con misconception\", \\\n",
    "          \"Sin misconception\")\n",
    "\n",
    "df['misconception_borrar_fotos'] = np.where((df['q_borrar_fotos']=='a_borrar_fotos_nopuedo') | (df['q_borrar_fotos']=='a_borrar_fotos_nose'), 'no', 'si')\n",
    "df[\"misconception_borrar_fotos\"].value_counts().plot.bar(rot=0);\n",
    "plt.title(\"Cantidad de alumnos con misconceptions en la pregunta \\n ¿Cómo borro una foto que mandé por WhatsApp?\", \\\n",
    "          fontsize=15);\n",
    "plt.xticks(positions, labels, rotation=0);"
   ]
  },
  {
   "cell_type": "code",
   "execution_count": 30,
   "id": "4a032603",
   "metadata": {},
   "outputs": [
    {
     "data": {
      "image/png": "[encoded data removed]",
      "text/plain": [
       "<Figure size 432x288 with 1 Axes>"
      ]
     },
     "metadata": {
      "needs_background": "light"
     },
     "output_type": "display_data"
    }
   ],
   "source": [
    "positions = (0, 1, 2)\n",
    "labels = (\"Con misconception\", \"Sin misconception\", \"Respondieron 'No sé'\")\n",
    "\n",
    "\n",
    "\n",
    "\n",
    "df['misconception_borrar_fotos2'] = df.apply(lambda x: classify_answers(x, q='q_borrar_fotos', a1='a_borrar_fotos_nopuedo', a2='a_borrar_fotos_nose'), axis=1)\n",
    "df[\"misconception_borrar_fotos2\"].value_counts().plot.bar(rot=0);\n",
    "\n",
    "plt.title(\"Cantidad de alumnos con misconceptions en la pregunta \\n ¿Cómo borro una foto que mandé por WhatsApp?\", \\\n",
    "          fontsize=15);\n",
    "\n",
    "plt.xticks(positions, labels, rotation=0);\n"
   ]
  },
  {
   "cell_type": "code",
   "execution_count": 31,
   "id": "aaa085c1",
   "metadata": {
    "scrolled": false
   },
   "outputs": [
    {
     "data": {
      "image/png": "[encoded data removed]",
      "text/plain": [
       "<Figure size 432x288 with 1 Axes>"
      ]
     },
     "metadata": {
      "needs_background": "light"
     },
     "output_type": "display_data"
    }
   ],
   "source": [
    "positions = (0, 1)\n",
    "labels = (\"Con misconception\", \\\n",
    "          \"Sin misconception\")\n",
    "\n",
    "df['misconception_mensaje_sin_wifi'] = np.where((df['q_mensaje_sin_wifi']=='a_mensaje_sin_wifi_red') | (df['q_mensaje_sin_wifi']=='a_mensaje_sin_wifi_nose'), 'no', 'si')\n",
    "df[\"misconception_mensaje_sin_wifi\"].value_counts().plot.bar(rot=0);\n",
    "plt.title(\"Cantidad de alumnos con misconceptions en la pregunta \\n ¿Cómo viajan los mensajes cuando no hay Wi-Fi?\", \\\n",
    "          fontsize=15);\n",
    "\n",
    "plt.xticks(positions, labels, rotation=0);\n"
   ]
  },
  {
   "cell_type": "code",
   "execution_count": 32,
   "id": "b4131b17",
   "metadata": {},
   "outputs": [
    {
     "data": {
      "image/png": "[encoded data removed]",
      "text/plain": [
       "<Figure size 432x288 with 1 Axes>"
      ]
     },
     "metadata": {
      "needs_background": "light"
     },
     "output_type": "display_data"
    }
   ],
   "source": [
    "positions = (0, 1, 2)\n",
    "labels = (\"Con misconception\", \"Respondieron 'No sé'\", \"Sin misconception\")\n",
    "\n",
    "\n",
    "df['misconception_mensaje_sin_wifi2'] = df.apply(lambda x: classify_answers(x, q='q_mensaje_sin_wifi', a1='a_mensaje_sin_wifi_red', a2='a_mensaje_sin_wifi_nose'), axis=1)\n",
    "df[\"misconception_mensaje_sin_wifi2\"].value_counts().plot.bar(rot=0);\n",
    "\n",
    "plt.title(\"Cantidad de alumnos con misconceptions en la pregunta \\n ¿Cómo viajan los mensajes cuando no hay Wi-Fi?\", \\\n",
    "          fontsize=15);\n",
    "\n",
    "plt.xticks(positions, labels, rotation=0);"
   ]
  },
  {
   "cell_type": "code",
   "execution_count": 33,
   "id": "5ad2ecd2",
   "metadata": {
    "scrolled": true
   },
   "outputs": [
    {
     "data": {
      "image/png": "[encoded data removed]",
      "text/plain": [
       "<Figure size 432x288 with 1 Axes>"
      ]
     },
     "metadata": {
      "needs_background": "light"
     },
     "output_type": "display_data"
    }
   ],
   "source": [
    "positions = (0, 1)\n",
    "labels = (\"Con misconception\", \\\n",
    "          \"Sin misconception\")\n",
    "\n",
    "df['misconception_gratuidad'] = np.where((df['q_gratuidad']=='a_gratuidad_publicidades'), 'no', 'si')\n",
    "df[\"misconception_gratuidad\"].value_counts().plot.bar(rot=0);\n",
    "plt.title(\"Cantidad de alumnos con misconceptions en la pregunta \\n sobre gratuidad de las apps\", \\\n",
    "          fontsize=15);\n",
    "# Acá estoy considerando que NO tienen misconceptions solo a aquellos que contestaron UNICAMENTE que a_gratuidad_publicidades.\n",
    "# Los que respondieron a_gratuidad_publicidades + otra cosa los considero incorrectos.\n",
    "\n",
    "plt.xticks(positions, labels, rotation=0);"
   ]
  },
  {
   "cell_type": "code",
   "execution_count": 34,
   "id": "9a61bda8",
   "metadata": {},
   "outputs": [
    {
     "data": {
      "image/png": "[encoded data removed]",
      "text/plain": [
       "<Figure size 864x360 with 1 Axes>"
      ]
     },
     "metadata": {
      "needs_background": "light"
     },
     "output_type": "display_data"
    }
   ],
   "source": [
    "positions = (0, 1, 2, 3)\n",
    "labels = (\"Sin misconception\", \\\n",
    "          \"Con misconception\", \\\n",
    "          \"Con misconception parcial\", \\\n",
    "          \"Respondieron No sé\")\n",
    "\n",
    "def classify_answers_gratuidad_3grupos(df):\n",
    "    if df['q_gratuidad'] == 'a_gratuidad_publicidades' : \n",
    "        return 'correcta'\n",
    "    elif 'a_gratuidad_publicidades' in df['q_gratuidad'].replace(\" \", \"\").split(',') :  # si la respuesta correcta esta dentro de las elegidas\n",
    "        return 'mixta'\n",
    "    elif df['q_gratuidad'] == 'a_gratuidad_nose':\n",
    "        return 'no se'\n",
    "    else : \n",
    "        return 'misconception'\n",
    "\n",
    "\n",
    "df['misconception_gratuidad_grupos'] = df.apply(lambda x: classify_answers_gratuidad_3grupos(x), axis=1)\n",
    "\n",
    "df[\"misconception_gratuidad_grupos\"].value_counts().plot.bar(rot=0, figsize=(12,5));\n",
    "\n",
    "plt.title(\"Cantidad de alumnos con misconceptions o misconceptions mixtas en la pregunta sobre \\n gratuidad de las aplicaciones en Internet\", \\\n",
    "        fontsize=15);\n",
    "\n",
    "# Acá voy a dividir en 3: los que respondieron SOLO la respuesta correcta, Mixtos, Incorrectas y No se.\n",
    "\n",
    "\n",
    "plt.xticks(positions, labels, rotation=0);"
   ]
  },
  {
   "cell_type": "code",
   "execution_count": 35,
   "id": "97f82534",
   "metadata": {},
   "outputs": [
    {
     "data": {
      "image/png": "[encoded data removed]",
      "text/plain": [
       "<Figure size 432x288 with 1 Axes>"
      ]
     },
     "metadata": {
      "needs_background": "light"
     },
     "output_type": "display_data"
    }
   ],
   "source": [
    "positions = (0, 1, 2)\n",
    "labels = (\"Con misconception\", \"Sin misconception\", \"Respondieron 'No sé'\")\n",
    "\n",
    "df['misconception_gratuidad2'] = df.apply(lambda x: classify_answers(x, q='q_gratuidad', a1='a_gratuidad_publicidades', a2='a_gratuidad_nose'), axis=1)\n",
    "df[\"misconception_gratuidad2\"].value_counts().plot.bar(rot=0);\n",
    "\n",
    "plt.title(\"Cantidad de alumnos con misconceptions en la pregunta \\n sobre gratuidad de las apps\", \\\n",
    "          fontsize=15);\n",
    "\n",
    "plt.xticks(positions, labels, rotation=0);"
   ]
  },
  {
   "cell_type": "code",
   "execution_count": 36,
   "id": "abb041fa",
   "metadata": {},
   "outputs": [
    {
     "data": {
      "image/png": "[encoded data removed]",
      "text/plain": [
       "<Figure size 432x288 with 1 Axes>"
      ]
     },
     "metadata": {
      "needs_background": "light"
     },
     "output_type": "display_data"
    }
   ],
   "source": [
    "# aca considerando que la respuesta correcta puede venir entre otras incorrectas y separando los no sé\n",
    "\n",
    "positions = (0, 1, 2)\n",
    "labels = (\"Sin misconception\", \"Con misconception\", \"Respondieron 'No sé'\")\n",
    "\n",
    "\n",
    "\n",
    "def classify_answers_gratuidad(df):\n",
    "    if 'a_gratuidad_publicidades' in df['q_gratuidad'].split(',') :  # si la respuesta correcta esta dentro de las elegidas\n",
    "        return 'no' #con misconception parcial NO Es misconception\n",
    "    elif df['q_gratuidad'] == 'a_gratuidad_nose':\n",
    "#        return 'no se'\n",
    "        return 'no' # consideramos que no se NO es misconception\n",
    "    else : \n",
    "        return 'si'\n",
    "    \n",
    "df['misconception_gratuidad3'] = df.apply(lambda x: classify_answers_gratuidad(x), axis=1)\n",
    "\n",
    "\n",
    "df[\"misconception_gratuidad3\"].value_counts().plot.bar(rot=0);\n",
    "plt.title(\"Cantidad de alumnos con misconceptions en la pregunta \\n sobre gratuidad de las apps\", \\\n",
    "          fontsize=15);\n",
    "\n",
    "plt.xticks(positions, labels, rotation=0);\n"
   ]
  },
  {
   "cell_type": "code",
   "execution_count": 37,
   "id": "7b19b1f2",
   "metadata": {},
   "outputs": [
    {
     "data": {
      "image/png": "[encoded data removed]",
      "text/plain": [
       "<Figure size 432x288 with 1 Axes>"
      ]
     },
     "metadata": {
      "needs_background": "light"
     },
     "output_type": "display_data"
    }
   ],
   "source": [
    "# aca considerando que la respuesta correcta puede venir entre otras incorrectas y separando los no sé\n",
    "\n",
    "positions = (0, 1)\n",
    "labels = (\"Sin misconception\", \"Con misconception\")\n",
    "\n",
    "\n",
    "\n",
    "def classify_answers_gratuidad(df):\n",
    "    if 'a_gratuidad_publicidades' in df['q_gratuidad'].split(',') :  # si la respuesta correcta esta dentro de las elegidas\n",
    "        return 'no'\n",
    "    elif df['q_gratuidad'] == 'a_gratuidad_nose':\n",
    "        return 'no'\n",
    "    else : \n",
    "        return 'si'\n",
    "    \n",
    "df['misconception_gratuidad3'] = df.apply(lambda x: classify_answers_gratuidad(x), axis=1)\n",
    "\n",
    "\n",
    "df[\"misconception_gratuidad3\"].value_counts().plot.bar(rot=0);\n",
    "plt.title(\"Cantidad de alumnos con misconceptions en la pregunta \\n sobre gratuidad de las apps\", \\\n",
    "          fontsize=15);\n",
    "\n",
    "plt.xticks(positions, labels, rotation=0);\n"
   ]
  },
  {
   "cell_type": "code",
   "execution_count": 38,
   "id": "882504bb",
   "metadata": {
    "scrolled": true
   },
   "outputs": [],
   "source": [
    "df['tiene_alguna_misconception'] = np.where((df['misconception_yt2']=='si')|\n",
    "                                            (df['misconception_gratuidad3']=='si') | \\\n",
    "                                            (df['misconception_acceso_fotos2']=='si') | \\\n",
    "                                            (df['misconception_mandar_fotos2']=='si')  | \\\n",
    "                                            (df['misconception_borrar_fotos2']=='si')  | \\\n",
    "                                            (df['misconception_mensaje_sin_wifi2']=='si'), 'si', 'no')"
   ]
  },
  {
   "cell_type": "code",
   "execution_count": 39,
   "id": "292e1eae",
   "metadata": {},
   "outputs": [
    {
     "data": {
      "text/html": [
       "<div>\n",
       "<style scoped>\n",
       "    .dataframe tbody tr th:only-of-type {\n",
       "        vertical-align: middle;\n",
       "    }\n",
       "\n",
       "    .dataframe tbody tr th {\n",
       "        vertical-align: top;\n",
       "    }\n",
       "\n",
       "    .dataframe thead th {\n",
       "        text-align: right;\n",
       "    }\n",
       "</style>\n",
       "<table border=\"1\" class=\"dataframe\">\n",
       "  <thead>\n",
       "    <tr style=\"text-align: right;\">\n",
       "      <th></th>\n",
       "      <th>timestamp</th>\n",
       "      <th>q_edad</th>\n",
       "      <th>q_genero</th>\n",
       "      <th>q_donde_compu</th>\n",
       "      <th>q_que_haces_compu</th>\n",
       "      <th>q_donde_aprendiste_compu</th>\n",
       "      <th>q_que_celu_usas</th>\n",
       "      <th>q_que_haces_celu</th>\n",
       "      <th>q_yt</th>\n",
       "      <th>q_acceso_fotos</th>\n",
       "      <th>...</th>\n",
       "      <th>misconception_mandar_fotos2</th>\n",
       "      <th>misconception_borrar_fotos</th>\n",
       "      <th>misconception_borrar_fotos2</th>\n",
       "      <th>misconception_mensaje_sin_wifi</th>\n",
       "      <th>misconception_mensaje_sin_wifi2</th>\n",
       "      <th>misconception_gratuidad</th>\n",
       "      <th>misconception_gratuidad_grupos</th>\n",
       "      <th>misconception_gratuidad2</th>\n",
       "      <th>misconception_gratuidad3</th>\n",
       "      <th>tiene_alguna_misconception</th>\n",
       "    </tr>\n",
       "  </thead>\n",
       "  <tbody>\n",
       "    <tr>\n",
       "      <th>47</th>\n",
       "      <td>4/19/2021 16:37:01</td>\n",
       "      <td>9</td>\n",
       "      <td>f</td>\n",
       "      <td>a_donde_compu_casa</td>\n",
       "      <td>a_que_haces_compu_videos, a_que_haces_compu_ta...</td>\n",
       "      <td>a_donde_aprendiste_compu_casa</td>\n",
       "      <td>a_que_celu_usas_propio</td>\n",
       "      <td>a_que_haces_celu_chat, a_que_haces_celu_redes,...</td>\n",
       "      <td>a_yt_nose</td>\n",
       "      <td>a_acceso_fotos_yo</td>\n",
       "      <td>...</td>\n",
       "      <td>no</td>\n",
       "      <td>no</td>\n",
       "      <td>no</td>\n",
       "      <td>no</td>\n",
       "      <td>no se</td>\n",
       "      <td>no</td>\n",
       "      <td>correcta</td>\n",
       "      <td>no</td>\n",
       "      <td>no</td>\n",
       "      <td>no</td>\n",
       "    </tr>\n",
       "    <tr>\n",
       "      <th>73</th>\n",
       "      <td>4/25/2021 5:12:01</td>\n",
       "      <td>10</td>\n",
       "      <td>m</td>\n",
       "      <td>a_donde_compu_casa</td>\n",
       "      <td>a_que_haces_compu_juegos, a_que_haces_compu_vi...</td>\n",
       "      <td>a_donde_aprendiste_compu_casa</td>\n",
       "      <td>a_que_celu_usas_propio</td>\n",
       "      <td>a_que_haces_celu_videos, a_que_haces_celu_juegos</td>\n",
       "      <td>a_yt_nose</td>\n",
       "      <td>a_acceso_fotos_yo</td>\n",
       "      <td>...</td>\n",
       "      <td>no</td>\n",
       "      <td>no</td>\n",
       "      <td>no</td>\n",
       "      <td>no</td>\n",
       "      <td>no</td>\n",
       "      <td>no</td>\n",
       "      <td>correcta</td>\n",
       "      <td>no</td>\n",
       "      <td>no</td>\n",
       "      <td>no</td>\n",
       "    </tr>\n",
       "    <tr>\n",
       "      <th>76</th>\n",
       "      <td>4/25/2021 20:09:06</td>\n",
       "      <td>9</td>\n",
       "      <td>f</td>\n",
       "      <td>a_donde_compu_casa</td>\n",
       "      <td>a_que_haces_compu_videos, a_que_haces_compu_tarea</td>\n",
       "      <td>a_donde_aprendiste_compu_casa</td>\n",
       "      <td>a_que_celu_usas_prestado</td>\n",
       "      <td>a_que_haces_celu_redes, a_que_haces_celu_video...</td>\n",
       "      <td>a_yt_nose</td>\n",
       "      <td>a_acceso_fotos_yo</td>\n",
       "      <td>...</td>\n",
       "      <td>no se</td>\n",
       "      <td>no</td>\n",
       "      <td>no se</td>\n",
       "      <td>no</td>\n",
       "      <td>no se</td>\n",
       "      <td>no</td>\n",
       "      <td>correcta</td>\n",
       "      <td>no</td>\n",
       "      <td>no</td>\n",
       "      <td>no</td>\n",
       "    </tr>\n",
       "    <tr>\n",
       "      <th>79</th>\n",
       "      <td>4/25/2021 23:28:42</td>\n",
       "      <td>10</td>\n",
       "      <td>m</td>\n",
       "      <td>a_donde_compu_casa</td>\n",
       "      <td>a_que_haces_compu_tarea</td>\n",
       "      <td>a_donde_aprendiste_compu_solo</td>\n",
       "      <td>a_que_celu_usas_nouso</td>\n",
       "      <td>a_que_haces_celu_nouso</td>\n",
       "      <td>a_yt_nose</td>\n",
       "      <td>a_acceso_fotos_yo</td>\n",
       "      <td>...</td>\n",
       "      <td>no</td>\n",
       "      <td>no</td>\n",
       "      <td>no</td>\n",
       "      <td>no</td>\n",
       "      <td>no</td>\n",
       "      <td>no</td>\n",
       "      <td>correcta</td>\n",
       "      <td>no</td>\n",
       "      <td>no</td>\n",
       "      <td>no</td>\n",
       "    </tr>\n",
       "    <tr>\n",
       "      <th>112</th>\n",
       "      <td>5/2/2021 23:59:27</td>\n",
       "      <td>9</td>\n",
       "      <td>m</td>\n",
       "      <td>a_donde_compu_casa</td>\n",
       "      <td>a_que_haces_compu_juegos, a_que_haces_compu_vi...</td>\n",
       "      <td>a_donde_aprendiste_compu_solo</td>\n",
       "      <td>a_que_celu_usas_prestado</td>\n",
       "      <td>a_que_haces_celu_chat, a_que_haces_celu_videos...</td>\n",
       "      <td>a_yt_muchisimascompu</td>\n",
       "      <td>a_acceso_fotos_yo</td>\n",
       "      <td>...</td>\n",
       "      <td>no</td>\n",
       "      <td>no</td>\n",
       "      <td>no</td>\n",
       "      <td>no</td>\n",
       "      <td>no</td>\n",
       "      <td>no</td>\n",
       "      <td>correcta</td>\n",
       "      <td>no</td>\n",
       "      <td>no</td>\n",
       "      <td>no</td>\n",
       "    </tr>\n",
       "  </tbody>\n",
       "</table>\n",
       "<p>5 rows × 32 columns</p>\n",
       "</div>"
      ],
      "text/plain": [
       "              timestamp  q_edad q_genero       q_donde_compu  \\\n",
       "47   4/19/2021 16:37:01       9        f  a_donde_compu_casa   \n",
       "73    4/25/2021 5:12:01      10        m  a_donde_compu_casa   \n",
       "76   4/25/2021 20:09:06       9        f  a_donde_compu_casa   \n",
       "79   4/25/2021 23:28:42      10        m  a_donde_compu_casa   \n",
       "112   5/2/2021 23:59:27       9        m  a_donde_compu_casa   \n",
       "\n",
       "                                     q_que_haces_compu  \\\n",
       "47   a_que_haces_compu_videos, a_que_haces_compu_ta...   \n",
       "73   a_que_haces_compu_juegos, a_que_haces_compu_vi...   \n",
       "76   a_que_haces_compu_videos, a_que_haces_compu_tarea   \n",
       "79                             a_que_haces_compu_tarea   \n",
       "112  a_que_haces_compu_juegos, a_que_haces_compu_vi...   \n",
       "\n",
       "          q_donde_aprendiste_compu           q_que_celu_usas  \\\n",
       "47   a_donde_aprendiste_compu_casa    a_que_celu_usas_propio   \n",
       "73   a_donde_aprendiste_compu_casa    a_que_celu_usas_propio   \n",
       "76   a_donde_aprendiste_compu_casa  a_que_celu_usas_prestado   \n",
       "79   a_donde_aprendiste_compu_solo     a_que_celu_usas_nouso   \n",
       "112  a_donde_aprendiste_compu_solo  a_que_celu_usas_prestado   \n",
       "\n",
       "                                      q_que_haces_celu                  q_yt  \\\n",
       "47   a_que_haces_celu_chat, a_que_haces_celu_redes,...             a_yt_nose   \n",
       "73    a_que_haces_celu_videos, a_que_haces_celu_juegos             a_yt_nose   \n",
       "76   a_que_haces_celu_redes, a_que_haces_celu_video...             a_yt_nose   \n",
       "79                              a_que_haces_celu_nouso             a_yt_nose   \n",
       "112  a_que_haces_celu_chat, a_que_haces_celu_videos...  a_yt_muchisimascompu   \n",
       "\n",
       "        q_acceso_fotos  ... misconception_mandar_fotos2  \\\n",
       "47   a_acceso_fotos_yo  ...                          no   \n",
       "73   a_acceso_fotos_yo  ...                          no   \n",
       "76   a_acceso_fotos_yo  ...                       no se   \n",
       "79   a_acceso_fotos_yo  ...                          no   \n",
       "112  a_acceso_fotos_yo  ...                          no   \n",
       "\n",
       "    misconception_borrar_fotos misconception_borrar_fotos2  \\\n",
       "47                          no                          no   \n",
       "73                          no                          no   \n",
       "76                          no                       no se   \n",
       "79                          no                          no   \n",
       "112                         no                          no   \n",
       "\n",
       "    misconception_mensaje_sin_wifi misconception_mensaje_sin_wifi2  \\\n",
       "47                              no                           no se   \n",
       "73                              no                              no   \n",
       "76                              no                           no se   \n",
       "79                              no                              no   \n",
       "112                             no                              no   \n",
       "\n",
       "    misconception_gratuidad misconception_gratuidad_grupos  \\\n",
       "47                       no                       correcta   \n",
       "73                       no                       correcta   \n",
       "76                       no                       correcta   \n",
       "79                       no                       correcta   \n",
       "112                      no                       correcta   \n",
       "\n",
       "    misconception_gratuidad2 misconception_gratuidad3  \\\n",
       "47                        no                       no   \n",
       "73                        no                       no   \n",
       "76                        no                       no   \n",
       "79                        no                       no   \n",
       "112                       no                       no   \n",
       "\n",
       "    tiene_alguna_misconception  \n",
       "47                          no  \n",
       "73                          no  \n",
       "76                          no  \n",
       "79                          no  \n",
       "112                         no  \n",
       "\n",
       "[5 rows x 32 columns]"
      ]
     },
     "execution_count": 39,
     "metadata": {},
     "output_type": "execute_result"
    }
   ],
   "source": [
    "df[df['tiene_alguna_misconception'] == 'no']\n",
    "# hay solo 5 chicos que no tiene ninguna misconception"
   ]
  },
  {
   "cell_type": "code",
   "execution_count": 40,
   "id": "98a7d397",
   "metadata": {},
   "outputs": [
    {
     "data": {
      "image/png": "[encoded data removed]",
      "text/plain": [
       "<Figure size 432x288 with 1 Axes>"
      ]
     },
     "metadata": {
      "needs_background": "light"
     },
     "output_type": "display_data"
    }
   ],
   "source": [
    "# ahora voy a contar cuantas misconception hay por chico \n",
    "# Los que respondieron no se se cuentan como correcto.\n",
    "# El total de misconceptions que analizamos son 6. Vemos que lo comun era tener 2 misconceptions.\n",
    "\n",
    "def count_misconceptions(df):\n",
    "    cant_misconceptions = 0\n",
    "    if df['misconception_yt2'] == 'si':\n",
    "        cant_misconceptions+=1\n",
    "    if df['misconception_acceso_fotos2'] == 'si':\n",
    "        cant_misconceptions+=1\n",
    "    if df['misconception_mandar_fotos2'] == 'si':   \n",
    "        cant_misconceptions+=1\n",
    "    if df['misconception_borrar_fotos2'] == 'si':\n",
    "        cant_misconceptions+=1\n",
    "    if df['misconception_mensaje_sin_wifi2'] == 'si':\n",
    "        cant_misconceptions+=1\n",
    "    if df['misconception_gratuidad3'] == 'si': # consideramos misconception parcial como SIN MISCONCEPTION y NO SE como SIN MISCONCEPTION\n",
    "        cant_misconceptions+=1    \n",
    "    return cant_misconceptions\n",
    "\n",
    "df['cantidad_de_misconceptions'] = df.apply(lambda x: count_misconceptions(x), axis=1)\n",
    "\n",
    "df[\"cantidad_de_misconceptions\"].value_counts().sort_index().plot.bar(rot=0);\n",
    "plt.title(\"Cantidad de misconceptions por alumno\", \\\n",
    "          fontsize=15);\n",
    "\n",
    "\n",
    "# OTra forma\n",
    "# df_misconceptions.sum(axis=1).plot.hist(bins=7)\n",
    "\n"
   ]
  },
  {
   "cell_type": "code",
   "execution_count": 41,
   "id": "2c8adc1c",
   "metadata": {},
   "outputs": [
    {
     "data": {
      "text/plain": [
       "0     5\n",
       "1    16\n",
       "2    48\n",
       "3    31\n",
       "4    19\n",
       "5    16\n",
       "6     9\n",
       "Name: cantidad_de_misconceptions, dtype: int64"
      ]
     },
     "execution_count": 41,
     "metadata": {},
     "output_type": "execute_result"
    }
   ],
   "source": [
    "df[\"cantidad_de_misconceptions\"].value_counts().sort_index()"
   ]
  },
  {
   "cell_type": "code",
   "execution_count": 42,
   "id": "870d8d68",
   "metadata": {
    "scrolled": true
   },
   "outputs": [
    {
     "data": {
      "text/html": [
       "<div>\n",
       "<style scoped>\n",
       "    .dataframe tbody tr th:only-of-type {\n",
       "        vertical-align: middle;\n",
       "    }\n",
       "\n",
       "    .dataframe tbody tr th {\n",
       "        vertical-align: top;\n",
       "    }\n",
       "\n",
       "    .dataframe thead th {\n",
       "        text-align: right;\n",
       "    }\n",
       "</style>\n",
       "<table border=\"1\" class=\"dataframe\">\n",
       "  <thead>\n",
       "    <tr style=\"text-align: right;\">\n",
       "      <th></th>\n",
       "      <th>47</th>\n",
       "      <th>73</th>\n",
       "      <th>76</th>\n",
       "      <th>79</th>\n",
       "      <th>112</th>\n",
       "    </tr>\n",
       "  </thead>\n",
       "  <tbody>\n",
       "    <tr>\n",
       "      <th>timestamp</th>\n",
       "      <td>4/19/2021 16:37:01</td>\n",
       "      <td>4/25/2021 5:12:01</td>\n",
       "      <td>4/25/2021 20:09:06</td>\n",
       "      <td>4/25/2021 23:28:42</td>\n",
       "      <td>5/2/2021 23:59:27</td>\n",
       "    </tr>\n",
       "    <tr>\n",
       "      <th>q_edad</th>\n",
       "      <td>9</td>\n",
       "      <td>10</td>\n",
       "      <td>9</td>\n",
       "      <td>10</td>\n",
       "      <td>9</td>\n",
       "    </tr>\n",
       "    <tr>\n",
       "      <th>q_genero</th>\n",
       "      <td>f</td>\n",
       "      <td>m</td>\n",
       "      <td>f</td>\n",
       "      <td>m</td>\n",
       "      <td>m</td>\n",
       "    </tr>\n",
       "    <tr>\n",
       "      <th>q_donde_compu</th>\n",
       "      <td>a_donde_compu_casa</td>\n",
       "      <td>a_donde_compu_casa</td>\n",
       "      <td>a_donde_compu_casa</td>\n",
       "      <td>a_donde_compu_casa</td>\n",
       "      <td>a_donde_compu_casa</td>\n",
       "    </tr>\n",
       "    <tr>\n",
       "      <th>q_que_haces_compu</th>\n",
       "      <td>a_que_haces_compu_videos, a_que_haces_compu_ta...</td>\n",
       "      <td>a_que_haces_compu_juegos, a_que_haces_compu_vi...</td>\n",
       "      <td>a_que_haces_compu_videos, a_que_haces_compu_tarea</td>\n",
       "      <td>a_que_haces_compu_tarea</td>\n",
       "      <td>a_que_haces_compu_juegos, a_que_haces_compu_vi...</td>\n",
       "    </tr>\n",
       "    <tr>\n",
       "      <th>q_donde_aprendiste_compu</th>\n",
       "      <td>a_donde_aprendiste_compu_casa</td>\n",
       "      <td>a_donde_aprendiste_compu_casa</td>\n",
       "      <td>a_donde_aprendiste_compu_casa</td>\n",
       "      <td>a_donde_aprendiste_compu_solo</td>\n",
       "      <td>a_donde_aprendiste_compu_solo</td>\n",
       "    </tr>\n",
       "    <tr>\n",
       "      <th>q_que_celu_usas</th>\n",
       "      <td>a_que_celu_usas_propio</td>\n",
       "      <td>a_que_celu_usas_propio</td>\n",
       "      <td>a_que_celu_usas_prestado</td>\n",
       "      <td>a_que_celu_usas_nouso</td>\n",
       "      <td>a_que_celu_usas_prestado</td>\n",
       "    </tr>\n",
       "    <tr>\n",
       "      <th>q_que_haces_celu</th>\n",
       "      <td>a_que_haces_celu_chat, a_que_haces_celu_redes,...</td>\n",
       "      <td>a_que_haces_celu_videos, a_que_haces_celu_juegos</td>\n",
       "      <td>a_que_haces_celu_redes, a_que_haces_celu_video...</td>\n",
       "      <td>a_que_haces_celu_nouso</td>\n",
       "      <td>a_que_haces_celu_chat, a_que_haces_celu_videos...</td>\n",
       "    </tr>\n",
       "    <tr>\n",
       "      <th>q_yt</th>\n",
       "      <td>a_yt_nose</td>\n",
       "      <td>a_yt_nose</td>\n",
       "      <td>a_yt_nose</td>\n",
       "      <td>a_yt_nose</td>\n",
       "      <td>a_yt_muchisimascompu</td>\n",
       "    </tr>\n",
       "    <tr>\n",
       "      <th>q_acceso_fotos</th>\n",
       "      <td>a_acceso_fotos_yo</td>\n",
       "      <td>a_acceso_fotos_yo</td>\n",
       "      <td>a_acceso_fotos_yo</td>\n",
       "      <td>a_acceso_fotos_yo</td>\n",
       "      <td>a_acceso_fotos_yo</td>\n",
       "    </tr>\n",
       "    <tr>\n",
       "      <th>q_mandar_fotos</th>\n",
       "      <td>a_mandar_fotos_copia</td>\n",
       "      <td>a_mandar_fotos_copia</td>\n",
       "      <td>a_mandar_fotos_nose</td>\n",
       "      <td>a_mandar_fotos_copia</td>\n",
       "      <td>a_mandar_fotos_copia</td>\n",
       "    </tr>\n",
       "    <tr>\n",
       "      <th>q_mandar_fotos_agrup</th>\n",
       "      <td>copia</td>\n",
       "      <td>copia</td>\n",
       "      <td>nada</td>\n",
       "      <td>copia</td>\n",
       "      <td>copia</td>\n",
       "    </tr>\n",
       "    <tr>\n",
       "      <th>q_borrar_fotos</th>\n",
       "      <td>a_borrar_fotos_nopuedo</td>\n",
       "      <td>a_borrar_fotos_nopuedo</td>\n",
       "      <td>a_borrar_fotos_nose</td>\n",
       "      <td>a_borrar_fotos_nopuedo</td>\n",
       "      <td>a_borrar_fotos_nopuedo</td>\n",
       "    </tr>\n",
       "    <tr>\n",
       "      <th>q_mensaje_sin_wifi</th>\n",
       "      <td>a_mensaje_sin_wifi_nose</td>\n",
       "      <td>a_mensaje_sin_wifi_red</td>\n",
       "      <td>a_mensaje_sin_wifi_nose</td>\n",
       "      <td>a_mensaje_sin_wifi_red</td>\n",
       "      <td>a_mensaje_sin_wifi_red</td>\n",
       "    </tr>\n",
       "    <tr>\n",
       "      <th>q_mensaje_sin_wifi_agrup</th>\n",
       "      <td>nada</td>\n",
       "      <td>red</td>\n",
       "      <td>nada</td>\n",
       "      <td>red</td>\n",
       "      <td>red</td>\n",
       "    </tr>\n",
       "    <tr>\n",
       "      <th>q_gratuidad</th>\n",
       "      <td>a_gratuidad_publicidades</td>\n",
       "      <td>a_gratuidad_publicidades</td>\n",
       "      <td>a_gratuidad_publicidades</td>\n",
       "      <td>a_gratuidad_publicidades</td>\n",
       "      <td>a_gratuidad_publicidades</td>\n",
       "    </tr>\n",
       "    <tr>\n",
       "      <th>q_escuela</th>\n",
       "      <td>a_escuela_n83_4to</td>\n",
       "      <td>a_escuela_n83_5to</td>\n",
       "      <td>a_escuela_n83_4to</td>\n",
       "      <td>a_escuela_n83_5to</td>\n",
       "      <td>a_escuela_n83_4to</td>\n",
       "    </tr>\n",
       "    <tr>\n",
       "      <th>misconception_yt</th>\n",
       "      <td>no</td>\n",
       "      <td>no</td>\n",
       "      <td>no</td>\n",
       "      <td>no</td>\n",
       "      <td>no</td>\n",
       "    </tr>\n",
       "    <tr>\n",
       "      <th>misconception_yt2</th>\n",
       "      <td>no se</td>\n",
       "      <td>no se</td>\n",
       "      <td>no se</td>\n",
       "      <td>no se</td>\n",
       "      <td>no</td>\n",
       "    </tr>\n",
       "    <tr>\n",
       "      <th>misconception_acceso_fotos</th>\n",
       "      <td>no</td>\n",
       "      <td>no</td>\n",
       "      <td>no</td>\n",
       "      <td>no</td>\n",
       "      <td>no</td>\n",
       "    </tr>\n",
       "    <tr>\n",
       "      <th>misconception_acceso_fotos2</th>\n",
       "      <td>no</td>\n",
       "      <td>no</td>\n",
       "      <td>no</td>\n",
       "      <td>no</td>\n",
       "      <td>no</td>\n",
       "    </tr>\n",
       "    <tr>\n",
       "      <th>misconception_mandar_fotos</th>\n",
       "      <td>no</td>\n",
       "      <td>no</td>\n",
       "      <td>no</td>\n",
       "      <td>no</td>\n",
       "      <td>no</td>\n",
       "    </tr>\n",
       "    <tr>\n",
       "      <th>misconception_mandar_fotos2</th>\n",
       "      <td>no</td>\n",
       "      <td>no</td>\n",
       "      <td>no se</td>\n",
       "      <td>no</td>\n",
       "      <td>no</td>\n",
       "    </tr>\n",
       "    <tr>\n",
       "      <th>misconception_borrar_fotos</th>\n",
       "      <td>no</td>\n",
       "      <td>no</td>\n",
       "      <td>no</td>\n",
       "      <td>no</td>\n",
       "      <td>no</td>\n",
       "    </tr>\n",
       "    <tr>\n",
       "      <th>misconception_borrar_fotos2</th>\n",
       "      <td>no</td>\n",
       "      <td>no</td>\n",
       "      <td>no se</td>\n",
       "      <td>no</td>\n",
       "      <td>no</td>\n",
       "    </tr>\n",
       "    <tr>\n",
       "      <th>misconception_mensaje_sin_wifi</th>\n",
       "      <td>no</td>\n",
       "      <td>no</td>\n",
       "      <td>no</td>\n",
       "      <td>no</td>\n",
       "      <td>no</td>\n",
       "    </tr>\n",
       "    <tr>\n",
       "      <th>misconception_mensaje_sin_wifi2</th>\n",
       "      <td>no se</td>\n",
       "      <td>no</td>\n",
       "      <td>no se</td>\n",
       "      <td>no</td>\n",
       "      <td>no</td>\n",
       "    </tr>\n",
       "    <tr>\n",
       "      <th>misconception_gratuidad</th>\n",
       "      <td>no</td>\n",
       "      <td>no</td>\n",
       "      <td>no</td>\n",
       "      <td>no</td>\n",
       "      <td>no</td>\n",
       "    </tr>\n",
       "    <tr>\n",
       "      <th>misconception_gratuidad_grupos</th>\n",
       "      <td>correcta</td>\n",
       "      <td>correcta</td>\n",
       "      <td>correcta</td>\n",
       "      <td>correcta</td>\n",
       "      <td>correcta</td>\n",
       "    </tr>\n",
       "    <tr>\n",
       "      <th>misconception_gratuidad2</th>\n",
       "      <td>no</td>\n",
       "      <td>no</td>\n",
       "      <td>no</td>\n",
       "      <td>no</td>\n",
       "      <td>no</td>\n",
       "    </tr>\n",
       "    <tr>\n",
       "      <th>misconception_gratuidad3</th>\n",
       "      <td>no</td>\n",
       "      <td>no</td>\n",
       "      <td>no</td>\n",
       "      <td>no</td>\n",
       "      <td>no</td>\n",
       "    </tr>\n",
       "    <tr>\n",
       "      <th>tiene_alguna_misconception</th>\n",
       "      <td>no</td>\n",
       "      <td>no</td>\n",
       "      <td>no</td>\n",
       "      <td>no</td>\n",
       "      <td>no</td>\n",
       "    </tr>\n",
       "    <tr>\n",
       "      <th>cantidad_de_misconceptions</th>\n",
       "      <td>0</td>\n",
       "      <td>0</td>\n",
       "      <td>0</td>\n",
       "      <td>0</td>\n",
       "      <td>0</td>\n",
       "    </tr>\n",
       "  </tbody>\n",
       "</table>\n",
       "</div>"
      ],
      "text/plain": [
       "                                                                               47   \\\n",
       "timestamp                                                       4/19/2021 16:37:01   \n",
       "q_edad                                                                           9   \n",
       "q_genero                                                                         f   \n",
       "q_donde_compu                                                   a_donde_compu_casa   \n",
       "q_que_haces_compu                a_que_haces_compu_videos, a_que_haces_compu_ta...   \n",
       "q_donde_aprendiste_compu                             a_donde_aprendiste_compu_casa   \n",
       "q_que_celu_usas                                             a_que_celu_usas_propio   \n",
       "q_que_haces_celu                 a_que_haces_celu_chat, a_que_haces_celu_redes,...   \n",
       "q_yt                                                                     a_yt_nose   \n",
       "q_acceso_fotos                                                   a_acceso_fotos_yo   \n",
       "q_mandar_fotos                                                a_mandar_fotos_copia   \n",
       "q_mandar_fotos_agrup                                                         copia   \n",
       "q_borrar_fotos                                              a_borrar_fotos_nopuedo   \n",
       "q_mensaje_sin_wifi                                         a_mensaje_sin_wifi_nose   \n",
       "q_mensaje_sin_wifi_agrup                                                      nada   \n",
       "q_gratuidad                                               a_gratuidad_publicidades   \n",
       "q_escuela                                                        a_escuela_n83_4to   \n",
       "misconception_yt                                                                no   \n",
       "misconception_yt2                                                            no se   \n",
       "misconception_acceso_fotos                                                      no   \n",
       "misconception_acceso_fotos2                                                     no   \n",
       "misconception_mandar_fotos                                                      no   \n",
       "misconception_mandar_fotos2                                                     no   \n",
       "misconception_borrar_fotos                                                      no   \n",
       "misconception_borrar_fotos2                                                     no   \n",
       "misconception_mensaje_sin_wifi                                                  no   \n",
       "misconception_mensaje_sin_wifi2                                              no se   \n",
       "misconception_gratuidad                                                         no   \n",
       "misconception_gratuidad_grupos                                            correcta   \n",
       "misconception_gratuidad2                                                        no   \n",
       "misconception_gratuidad3                                                        no   \n",
       "tiene_alguna_misconception                                                      no   \n",
       "cantidad_de_misconceptions                                                       0   \n",
       "\n",
       "                                                                               73   \\\n",
       "timestamp                                                        4/25/2021 5:12:01   \n",
       "q_edad                                                                          10   \n",
       "q_genero                                                                         m   \n",
       "q_donde_compu                                                   a_donde_compu_casa   \n",
       "q_que_haces_compu                a_que_haces_compu_juegos, a_que_haces_compu_vi...   \n",
       "q_donde_aprendiste_compu                             a_donde_aprendiste_compu_casa   \n",
       "q_que_celu_usas                                             a_que_celu_usas_propio   \n",
       "q_que_haces_celu                  a_que_haces_celu_videos, a_que_haces_celu_juegos   \n",
       "q_yt                                                                     a_yt_nose   \n",
       "q_acceso_fotos                                                   a_acceso_fotos_yo   \n",
       "q_mandar_fotos                                                a_mandar_fotos_copia   \n",
       "q_mandar_fotos_agrup                                                         copia   \n",
       "q_borrar_fotos                                              a_borrar_fotos_nopuedo   \n",
       "q_mensaje_sin_wifi                                          a_mensaje_sin_wifi_red   \n",
       "q_mensaje_sin_wifi_agrup                                                       red   \n",
       "q_gratuidad                                               a_gratuidad_publicidades   \n",
       "q_escuela                                                        a_escuela_n83_5to   \n",
       "misconception_yt                                                                no   \n",
       "misconception_yt2                                                            no se   \n",
       "misconception_acceso_fotos                                                      no   \n",
       "misconception_acceso_fotos2                                                     no   \n",
       "misconception_mandar_fotos                                                      no   \n",
       "misconception_mandar_fotos2                                                     no   \n",
       "misconception_borrar_fotos                                                      no   \n",
       "misconception_borrar_fotos2                                                     no   \n",
       "misconception_mensaje_sin_wifi                                                  no   \n",
       "misconception_mensaje_sin_wifi2                                                 no   \n",
       "misconception_gratuidad                                                         no   \n",
       "misconception_gratuidad_grupos                                            correcta   \n",
       "misconception_gratuidad2                                                        no   \n",
       "misconception_gratuidad3                                                        no   \n",
       "tiene_alguna_misconception                                                      no   \n",
       "cantidad_de_misconceptions                                                       0   \n",
       "\n",
       "                                                                               76   \\\n",
       "timestamp                                                       4/25/2021 20:09:06   \n",
       "q_edad                                                                           9   \n",
       "q_genero                                                                         f   \n",
       "q_donde_compu                                                   a_donde_compu_casa   \n",
       "q_que_haces_compu                a_que_haces_compu_videos, a_que_haces_compu_tarea   \n",
       "q_donde_aprendiste_compu                             a_donde_aprendiste_compu_casa   \n",
       "q_que_celu_usas                                           a_que_celu_usas_prestado   \n",
       "q_que_haces_celu                 a_que_haces_celu_redes, a_que_haces_celu_video...   \n",
       "q_yt                                                                     a_yt_nose   \n",
       "q_acceso_fotos                                                   a_acceso_fotos_yo   \n",
       "q_mandar_fotos                                                 a_mandar_fotos_nose   \n",
       "q_mandar_fotos_agrup                                                          nada   \n",
       "q_borrar_fotos                                                 a_borrar_fotos_nose   \n",
       "q_mensaje_sin_wifi                                         a_mensaje_sin_wifi_nose   \n",
       "q_mensaje_sin_wifi_agrup                                                      nada   \n",
       "q_gratuidad                                               a_gratuidad_publicidades   \n",
       "q_escuela                                                        a_escuela_n83_4to   \n",
       "misconception_yt                                                                no   \n",
       "misconception_yt2                                                            no se   \n",
       "misconception_acceso_fotos                                                      no   \n",
       "misconception_acceso_fotos2                                                     no   \n",
       "misconception_mandar_fotos                                                      no   \n",
       "misconception_mandar_fotos2                                                  no se   \n",
       "misconception_borrar_fotos                                                      no   \n",
       "misconception_borrar_fotos2                                                  no se   \n",
       "misconception_mensaje_sin_wifi                                                  no   \n",
       "misconception_mensaje_sin_wifi2                                              no se   \n",
       "misconception_gratuidad                                                         no   \n",
       "misconception_gratuidad_grupos                                            correcta   \n",
       "misconception_gratuidad2                                                        no   \n",
       "misconception_gratuidad3                                                        no   \n",
       "tiene_alguna_misconception                                                      no   \n",
       "cantidad_de_misconceptions                                                       0   \n",
       "\n",
       "                                                           79   \\\n",
       "timestamp                                   4/25/2021 23:28:42   \n",
       "q_edad                                                      10   \n",
       "q_genero                                                     m   \n",
       "q_donde_compu                               a_donde_compu_casa   \n",
       "q_que_haces_compu                      a_que_haces_compu_tarea   \n",
       "q_donde_aprendiste_compu         a_donde_aprendiste_compu_solo   \n",
       "q_que_celu_usas                          a_que_celu_usas_nouso   \n",
       "q_que_haces_celu                        a_que_haces_celu_nouso   \n",
       "q_yt                                                 a_yt_nose   \n",
       "q_acceso_fotos                               a_acceso_fotos_yo   \n",
       "q_mandar_fotos                            a_mandar_fotos_copia   \n",
       "q_mandar_fotos_agrup                                     copia   \n",
       "q_borrar_fotos                          a_borrar_fotos_nopuedo   \n",
       "q_mensaje_sin_wifi                      a_mensaje_sin_wifi_red   \n",
       "q_mensaje_sin_wifi_agrup                                   red   \n",
       "q_gratuidad                           a_gratuidad_publicidades   \n",
       "q_escuela                                    a_escuela_n83_5to   \n",
       "misconception_yt                                            no   \n",
       "misconception_yt2                                        no se   \n",
       "misconception_acceso_fotos                                  no   \n",
       "misconception_acceso_fotos2                                 no   \n",
       "misconception_mandar_fotos                                  no   \n",
       "misconception_mandar_fotos2                                 no   \n",
       "misconception_borrar_fotos                                  no   \n",
       "misconception_borrar_fotos2                                 no   \n",
       "misconception_mensaje_sin_wifi                              no   \n",
       "misconception_mensaje_sin_wifi2                             no   \n",
       "misconception_gratuidad                                     no   \n",
       "misconception_gratuidad_grupos                        correcta   \n",
       "misconception_gratuidad2                                    no   \n",
       "misconception_gratuidad3                                    no   \n",
       "tiene_alguna_misconception                                  no   \n",
       "cantidad_de_misconceptions                                   0   \n",
       "\n",
       "                                                                               112  \n",
       "timestamp                                                        5/2/2021 23:59:27  \n",
       "q_edad                                                                           9  \n",
       "q_genero                                                                         m  \n",
       "q_donde_compu                                                   a_donde_compu_casa  \n",
       "q_que_haces_compu                a_que_haces_compu_juegos, a_que_haces_compu_vi...  \n",
       "q_donde_aprendiste_compu                             a_donde_aprendiste_compu_solo  \n",
       "q_que_celu_usas                                           a_que_celu_usas_prestado  \n",
       "q_que_haces_celu                 a_que_haces_celu_chat, a_que_haces_celu_videos...  \n",
       "q_yt                                                          a_yt_muchisimascompu  \n",
       "q_acceso_fotos                                                   a_acceso_fotos_yo  \n",
       "q_mandar_fotos                                                a_mandar_fotos_copia  \n",
       "q_mandar_fotos_agrup                                                         copia  \n",
       "q_borrar_fotos                                              a_borrar_fotos_nopuedo  \n",
       "q_mensaje_sin_wifi                                          a_mensaje_sin_wifi_red  \n",
       "q_mensaje_sin_wifi_agrup                                                       red  \n",
       "q_gratuidad                                               a_gratuidad_publicidades  \n",
       "q_escuela                                                        a_escuela_n83_4to  \n",
       "misconception_yt                                                                no  \n",
       "misconception_yt2                                                               no  \n",
       "misconception_acceso_fotos                                                      no  \n",
       "misconception_acceso_fotos2                                                     no  \n",
       "misconception_mandar_fotos                                                      no  \n",
       "misconception_mandar_fotos2                                                     no  \n",
       "misconception_borrar_fotos                                                      no  \n",
       "misconception_borrar_fotos2                                                     no  \n",
       "misconception_mensaje_sin_wifi                                                  no  \n",
       "misconception_mensaje_sin_wifi2                                                 no  \n",
       "misconception_gratuidad                                                         no  \n",
       "misconception_gratuidad_grupos                                            correcta  \n",
       "misconception_gratuidad2                                                        no  \n",
       "misconception_gratuidad3                                                        no  \n",
       "tiene_alguna_misconception                                                      no  \n",
       "cantidad_de_misconceptions                                                       0  "
      ]
     },
     "execution_count": 42,
     "metadata": {},
     "output_type": "execute_result"
    }
   ],
   "source": [
    "df[df['tiene_alguna_misconception'] == 'no'].transpose()"
   ]
  },
  {
   "cell_type": "code",
   "execution_count": 43,
   "id": "2b2bd7a2",
   "metadata": {},
   "outputs": [
    {
     "data": {
      "text/html": [
       "<div>\n",
       "<style scoped>\n",
       "    .dataframe tbody tr th:only-of-type {\n",
       "        vertical-align: middle;\n",
       "    }\n",
       "\n",
       "    .dataframe tbody tr th {\n",
       "        vertical-align: top;\n",
       "    }\n",
       "\n",
       "    .dataframe thead th {\n",
       "        text-align: right;\n",
       "    }\n",
       "</style>\n",
       "<table border=\"1\" class=\"dataframe\">\n",
       "  <thead>\n",
       "    <tr style=\"text-align: right;\">\n",
       "      <th></th>\n",
       "      <th>misconception_yt</th>\n",
       "      <th>misconception_acceso_fotos</th>\n",
       "      <th>misconception_mandar_fotos</th>\n",
       "      <th>misconception_borrar_fotos</th>\n",
       "      <th>misconception_mensaje_sin_wifi</th>\n",
       "      <th>misconception_gratuidad3</th>\n",
       "    </tr>\n",
       "  </thead>\n",
       "  <tbody>\n",
       "    <tr>\n",
       "      <th>0</th>\n",
       "      <td>1.0</td>\n",
       "      <td>1.0</td>\n",
       "      <td>1.0</td>\n",
       "      <td>1.0</td>\n",
       "      <td>1.0</td>\n",
       "      <td>0.0</td>\n",
       "    </tr>\n",
       "    <tr>\n",
       "      <th>1</th>\n",
       "      <td>1.0</td>\n",
       "      <td>0.0</td>\n",
       "      <td>1.0</td>\n",
       "      <td>0.0</td>\n",
       "      <td>1.0</td>\n",
       "      <td>1.0</td>\n",
       "    </tr>\n",
       "    <tr>\n",
       "      <th>2</th>\n",
       "      <td>1.0</td>\n",
       "      <td>0.0</td>\n",
       "      <td>0.0</td>\n",
       "      <td>1.0</td>\n",
       "      <td>0.0</td>\n",
       "      <td>1.0</td>\n",
       "    </tr>\n",
       "    <tr>\n",
       "      <th>3</th>\n",
       "      <td>0.0</td>\n",
       "      <td>1.0</td>\n",
       "      <td>0.0</td>\n",
       "      <td>1.0</td>\n",
       "      <td>1.0</td>\n",
       "      <td>1.0</td>\n",
       "    </tr>\n",
       "    <tr>\n",
       "      <th>4</th>\n",
       "      <td>1.0</td>\n",
       "      <td>0.0</td>\n",
       "      <td>1.0</td>\n",
       "      <td>1.0</td>\n",
       "      <td>1.0</td>\n",
       "      <td>1.0</td>\n",
       "    </tr>\n",
       "  </tbody>\n",
       "</table>\n",
       "</div>"
      ],
      "text/plain": [
       "   misconception_yt  misconception_acceso_fotos  misconception_mandar_fotos  \\\n",
       "0               1.0                         1.0                         1.0   \n",
       "1               1.0                         0.0                         1.0   \n",
       "2               1.0                         0.0                         0.0   \n",
       "3               0.0                         1.0                         0.0   \n",
       "4               1.0                         0.0                         1.0   \n",
       "\n",
       "   misconception_borrar_fotos  misconception_mensaje_sin_wifi  \\\n",
       "0                         1.0                             1.0   \n",
       "1                         0.0                             1.0   \n",
       "2                         1.0                             0.0   \n",
       "3                         1.0                             1.0   \n",
       "4                         1.0                             1.0   \n",
       "\n",
       "   misconception_gratuidad3  \n",
       "0                       0.0  \n",
       "1                       1.0  \n",
       "2                       1.0  \n",
       "3                       1.0  \n",
       "4                       1.0  "
      ]
     },
     "execution_count": 43,
     "metadata": {},
     "output_type": "execute_result"
    }
   ],
   "source": [
    "df_misconceptions = df[['misconception_yt', \n",
    "                        'misconception_acceso_fotos', \n",
    "                        'misconception_mandar_fotos', \n",
    "                        'misconception_borrar_fotos', \n",
    "                        'misconception_mensaje_sin_wifi', \n",
    "                        'misconception_gratuidad3']].copy() # consideramos misconception parcial como SIN MISCONCEPTION y NO SE como SIN MISCONCEPTION\n",
    "\n",
    "\n",
    "for col in df_misconceptions.columns:\n",
    "    df_misconceptions[col] = df_misconceptions[col].transform(lambda x: 1.0 if x == 'si' else 0.0)\n",
    "df_misconceptions.head()"
   ]
  },
  {
   "cell_type": "code",
   "execution_count": 44,
   "id": "538a6a98",
   "metadata": {},
   "outputs": [
    {
     "data": {
      "image/png": "[encoded data removed]",
      "text/plain": [
       "<Figure size 432x288 with 1 Axes>"
      ]
     },
     "metadata": {
      "needs_background": "light"
     },
     "output_type": "display_data"
    }
   ],
   "source": [
    "sns.heatmap(df_misconceptions, cbar=False);"
   ]
  },
  {
   "cell_type": "code",
   "execution_count": 45,
   "id": "82f79a42",
   "metadata": {},
   "outputs": [
    {
     "data": {
      "image/png": "[encoded data removed]",
      "text/plain": [
       "<Figure size 720x720 with 4 Axes>"
      ]
     },
     "metadata": {
      "needs_background": "light"
     },
     "output_type": "display_data"
    }
   ],
   "source": [
    "#https://seaborn.pydata.org/generated/seaborn.clustermap.html\n",
    "\n",
    "df_misconceptions = df_misconceptions.rename(columns={\"misconception_yt\": \"Youtube\",\n",
    "                                  \"misconception_acceso_fotos\": \"Acceso Fotos\",\n",
    "                                  \"misconception_mandar_fotos\": \"Mandar Fotos\",\n",
    "                                  \"misconception_borrar_fotos\": \"Borrar Fotos\",\n",
    "                                  \"misconception_mensaje_sin_wifi\": \"Mensaje sin WiFi\",\n",
    "                                  \"misconception_gratuidad3\": \"Gratuidad Apps\"})\n",
    "\n",
    "sns.clustermap(df_misconceptions, cmap='Greens');"
   ]
  },
  {
   "cell_type": "code",
   "execution_count": 46,
   "id": "3941d916",
   "metadata": {},
   "outputs": [
    {
     "data": {
      "image/png": "[encoded data removed]",
      "text/plain": [
       "<Figure size 432x288 with 2 Axes>"
      ]
     },
     "metadata": {
      "needs_background": "light"
     },
     "output_type": "display_data"
    }
   ],
   "source": [
    "#https://seaborn.pydata.org/generated/seaborn.heatmap.html\n",
    "\n",
    "ax = plt.axes()\n",
    "sns.heatmap(df_misconceptions.corr(method='pearson'), ax=ax, vmax=1, vmin=-1, cmap='RdBu_r');\n",
    "ax.set_title('Relación entre misconceptions', fontsize=15)\n",
    "plt.show()\n",
    "\n",
    "# * pearson : standard correlation coefficient\n",
    "# * kendall : Kendall Tau correlation coefficient\n",
    "# * spearman : Spearman rank correlation\n"
   ]
  },
  {
   "cell_type": "code",
   "execution_count": 47,
   "id": "f4a78ab4",
   "metadata": {},
   "outputs": [
    {
     "data": {
      "image/png": "[encoded data removed]",
      "text/plain": [
       "<Figure size 432x288 with 1 Axes>"
      ]
     },
     "metadata": {
      "needs_background": "light"
     },
     "output_type": "display_data"
    }
   ],
   "source": [
    "def tienen_ambas_misconceptions(df_misconceptions) :\n",
    "    if (df_misconceptions['Borrar Fotos'] == 1) & (df_misconceptions['Mandar Fotos'] == 1):\n",
    "        return 1\n",
    "    return 0\n",
    "    \n",
    "df_misconceptions['mandar_y_borrar'] = df_misconceptions.apply(lambda x: tienen_ambas_misconceptions(x), axis=1)\n",
    "\n",
    "df_misconceptions['mandar_y_borrar'].value_counts().sort_index().plot.bar(rot=0);"
   ]
  },
  {
   "cell_type": "code",
   "execution_count": 48,
   "id": "035fd344",
   "metadata": {
    "scrolled": true
   },
   "outputs": [
    {
     "data": {
      "image/png": "[encoded data removed]",
      "text/plain": [
       "<Figure size 864x360 with 1 Axes>"
      ]
     },
     "metadata": {
      "needs_background": "light"
     },
     "output_type": "display_data"
    }
   ],
   "source": [
    "df_misconceptions.sum(axis=0).sort_values(ascending=False).plot.bar(figsize=(12,5), rot=0)\n",
    "plt.title(\"Cantidad de misconceptions por pregunta\", fontsize=15);"
   ]
  },
  {
   "cell_type": "code",
   "execution_count": 49,
   "id": "6516eb63",
   "metadata": {
    "scrolled": false
   },
   "outputs": [
    {
     "data": {
      "image/png": "[encoded data removed]",
      "text/plain": [
       "<Figure size 864x360 with 1 Axes>"
      ]
     },
     "metadata": {
      "needs_background": "light"
     },
     "output_type": "display_data"
    }
   ],
   "source": [
    "#aca Consideramos a los que tienen misconception parcial como CON misconception.\n",
    "\n",
    "#https://seaborn.pydata.org/generated/seaborn.clustermap.html\n",
    "df_misconceptions_parcial = df[['misconception_yt', \n",
    "                        'misconception_acceso_fotos', \n",
    "                        'misconception_mandar_fotos', \n",
    "                        'misconception_borrar_fotos', \n",
    "                        'misconception_mensaje_sin_wifi', \n",
    "                        'misconception_gratuidad2']].copy() # ACA MISCONCEPTION PARCIAL ES MISCONCEPTION\n",
    "\n",
    "for col in df_misconceptions_parcial.columns:\n",
    "    df_misconceptions_parcial[col] = df_misconceptions_parcial[col].transform(lambda x: 1.0 if x == 'si' else 0.0)\n",
    "df_misconceptions_parcial.head()\n",
    "\n",
    "\n",
    "df_misconceptions_parcial = df_misconceptions_parcial.rename(columns={\"misconception_yt\": \"Youtube\",\n",
    "                                  \"misconception_acceso_fotos\": \"Acceso Fotos\",\n",
    "                                  \"misconception_mandar_fotos\": \"Mandar Fotos\",\n",
    "                                  \"misconception_borrar_fotos\": \"Borrar Fotos\",\n",
    "                                  \"misconception_mensaje_sin_wifi\": \"Mensaje sin WiFi\",\n",
    "                                  \"misconception_gratuidad2\": \"Gratuidad Apps\"})\n",
    "\n",
    "df_misconceptions_parcial\n",
    "\n",
    "df_misconceptions_parcial.sum(axis=0).sort_values(ascending=False).plot.bar(figsize=(12,5), rot=0)\n",
    "plt.title(\"Cantidad de misconceptions por pregunta\", fontsize=15);"
   ]
  },
  {
   "cell_type": "code",
   "execution_count": 65,
   "id": "dbc0f978",
   "metadata": {},
   "outputs": [
    {
     "data": {
      "text/html": [
       "<div>\n",
       "<style scoped>\n",
       "    .dataframe tbody tr th:only-of-type {\n",
       "        vertical-align: middle;\n",
       "    }\n",
       "\n",
       "    .dataframe tbody tr th {\n",
       "        vertical-align: top;\n",
       "    }\n",
       "\n",
       "    .dataframe thead th {\n",
       "        text-align: right;\n",
       "    }\n",
       "</style>\n",
       "<table border=\"1\" class=\"dataframe\">\n",
       "  <thead>\n",
       "    <tr style=\"text-align: right;\">\n",
       "      <th></th>\n",
       "      <th>q_yt</th>\n",
       "      <th>q_mensaje_sin_wifi</th>\n",
       "    </tr>\n",
       "  </thead>\n",
       "  <tbody>\n",
       "    <tr>\n",
       "      <th>0</th>\n",
       "      <td>a_yt_1compu</td>\n",
       "      <td>a_mensaje_sin_wifi_directo</td>\n",
       "    </tr>\n",
       "    <tr>\n",
       "      <th>1</th>\n",
       "      <td>a_yt_1compu</td>\n",
       "      <td>a_mensaje_sin_wifi_nube</td>\n",
       "    </tr>\n",
       "    <tr>\n",
       "      <th>2</th>\n",
       "      <td>a_yt_muchascompu</td>\n",
       "      <td>a_mensaje_sin_wifi_red</td>\n",
       "    </tr>\n",
       "    <tr>\n",
       "      <th>3</th>\n",
       "      <td>a_yt_nose</td>\n",
       "      <td>a_mensaje_sin_wifi_directo</td>\n",
       "    </tr>\n",
       "    <tr>\n",
       "      <th>4</th>\n",
       "      <td>a_yt_celular</td>\n",
       "      <td>a_mensaje_sin_wifi_directo</td>\n",
       "    </tr>\n",
       "    <tr>\n",
       "      <th>...</th>\n",
       "      <td>...</td>\n",
       "      <td>...</td>\n",
       "    </tr>\n",
       "    <tr>\n",
       "      <th>139</th>\n",
       "      <td>a_yt_celular</td>\n",
       "      <td>a_mensaje_sin_wifi_antena</td>\n",
       "    </tr>\n",
       "    <tr>\n",
       "      <th>140</th>\n",
       "      <td>a_yt_celular</td>\n",
       "      <td>a_mensaje_sin_wifi_nose</td>\n",
       "    </tr>\n",
       "    <tr>\n",
       "      <th>141</th>\n",
       "      <td>a_yt_nube</td>\n",
       "      <td>a_mensaje_sin_wifi_nube</td>\n",
       "    </tr>\n",
       "    <tr>\n",
       "      <th>142</th>\n",
       "      <td>a_yt_nose</td>\n",
       "      <td>a_mensaje_sin_wifi_nose</td>\n",
       "    </tr>\n",
       "    <tr>\n",
       "      <th>143</th>\n",
       "      <td>a_yt_nube</td>\n",
       "      <td>a_mensaje_sin_wifi_satelite</td>\n",
       "    </tr>\n",
       "  </tbody>\n",
       "</table>\n",
       "<p>144 rows × 2 columns</p>\n",
       "</div>"
      ],
      "text/plain": [
       "                 q_yt           q_mensaje_sin_wifi\n",
       "0         a_yt_1compu   a_mensaje_sin_wifi_directo\n",
       "1         a_yt_1compu      a_mensaje_sin_wifi_nube\n",
       "2    a_yt_muchascompu       a_mensaje_sin_wifi_red\n",
       "3           a_yt_nose   a_mensaje_sin_wifi_directo\n",
       "4        a_yt_celular   a_mensaje_sin_wifi_directo\n",
       "..                ...                          ...\n",
       "139      a_yt_celular    a_mensaje_sin_wifi_antena\n",
       "140      a_yt_celular      a_mensaje_sin_wifi_nose\n",
       "141         a_yt_nube      a_mensaje_sin_wifi_nube\n",
       "142         a_yt_nose      a_mensaje_sin_wifi_nose\n",
       "143         a_yt_nube  a_mensaje_sin_wifi_satelite\n",
       "\n",
       "[144 rows x 2 columns]"
      ]
     },
     "execution_count": 65,
     "metadata": {},
     "output_type": "execute_result"
    }
   ],
   "source": [
    "\n",
    "df_yt_vs_wifi =  df[['q_yt', 'q_mensaje_sin_wifi']].copy()\n",
    "df_yt_vs_wifi\n"
   ]
  },
  {
   "cell_type": "code",
   "execution_count": 92,
   "id": "200cf288",
   "metadata": {
    "scrolled": false
   },
   "outputs": [
    {
     "data": {
      "text/html": [
       "<div>\n",
       "<style scoped>\n",
       "    .dataframe tbody tr th:only-of-type {\n",
       "        vertical-align: middle;\n",
       "    }\n",
       "\n",
       "    .dataframe tbody tr th {\n",
       "        vertical-align: top;\n",
       "    }\n",
       "\n",
       "    .dataframe thead th {\n",
       "        text-align: right;\n",
       "    }\n",
       "</style>\n",
       "<table border=\"1\" class=\"dataframe\">\n",
       "  <thead>\n",
       "    <tr style=\"text-align: right;\">\n",
       "      <th></th>\n",
       "      <th>a_yt_1compu</th>\n",
       "      <th>a_yt_celular</th>\n",
       "      <th>a_yt_muchascompu</th>\n",
       "      <th>a_yt_muchisimascompu</th>\n",
       "      <th>a_yt_nose</th>\n",
       "      <th>a_yt_nube</th>\n",
       "      <th>a_mensaje_sin_wifi_antena</th>\n",
       "      <th>a_mensaje_sin_wifi_directo</th>\n",
       "      <th>a_mensaje_sin_wifi_nose</th>\n",
       "      <th>a_mensaje_sin_wifi_nube</th>\n",
       "      <th>a_mensaje_sin_wifi_red</th>\n",
       "      <th>a_mensaje_sin_wifi_satelite</th>\n",
       "    </tr>\n",
       "  </thead>\n",
       "  <tbody>\n",
       "    <tr>\n",
       "      <th>0</th>\n",
       "      <td>1</td>\n",
       "      <td>0</td>\n",
       "      <td>0</td>\n",
       "      <td>0</td>\n",
       "      <td>0</td>\n",
       "      <td>0</td>\n",
       "      <td>0</td>\n",
       "      <td>1</td>\n",
       "      <td>0</td>\n",
       "      <td>0</td>\n",
       "      <td>0</td>\n",
       "      <td>0</td>\n",
       "    </tr>\n",
       "    <tr>\n",
       "      <th>1</th>\n",
       "      <td>1</td>\n",
       "      <td>0</td>\n",
       "      <td>0</td>\n",
       "      <td>0</td>\n",
       "      <td>0</td>\n",
       "      <td>0</td>\n",
       "      <td>0</td>\n",
       "      <td>0</td>\n",
       "      <td>0</td>\n",
       "      <td>1</td>\n",
       "      <td>0</td>\n",
       "      <td>0</td>\n",
       "    </tr>\n",
       "    <tr>\n",
       "      <th>2</th>\n",
       "      <td>0</td>\n",
       "      <td>0</td>\n",
       "      <td>1</td>\n",
       "      <td>0</td>\n",
       "      <td>0</td>\n",
       "      <td>0</td>\n",
       "      <td>0</td>\n",
       "      <td>0</td>\n",
       "      <td>0</td>\n",
       "      <td>0</td>\n",
       "      <td>1</td>\n",
       "      <td>0</td>\n",
       "    </tr>\n",
       "    <tr>\n",
       "      <th>3</th>\n",
       "      <td>0</td>\n",
       "      <td>0</td>\n",
       "      <td>0</td>\n",
       "      <td>0</td>\n",
       "      <td>1</td>\n",
       "      <td>0</td>\n",
       "      <td>0</td>\n",
       "      <td>1</td>\n",
       "      <td>0</td>\n",
       "      <td>0</td>\n",
       "      <td>0</td>\n",
       "      <td>0</td>\n",
       "    </tr>\n",
       "    <tr>\n",
       "      <th>4</th>\n",
       "      <td>0</td>\n",
       "      <td>1</td>\n",
       "      <td>0</td>\n",
       "      <td>0</td>\n",
       "      <td>0</td>\n",
       "      <td>0</td>\n",
       "      <td>0</td>\n",
       "      <td>1</td>\n",
       "      <td>0</td>\n",
       "      <td>0</td>\n",
       "      <td>0</td>\n",
       "      <td>0</td>\n",
       "    </tr>\n",
       "  </tbody>\n",
       "</table>\n",
       "</div>"
      ],
      "text/plain": [
       "   a_yt_1compu  a_yt_celular  a_yt_muchascompu  a_yt_muchisimascompu  \\\n",
       "0            1             0                 0                     0   \n",
       "1            1             0                 0                     0   \n",
       "2            0             0                 1                     0   \n",
       "3            0             0                 0                     0   \n",
       "4            0             1                 0                     0   \n",
       "\n",
       "   a_yt_nose  a_yt_nube  a_mensaje_sin_wifi_antena  \\\n",
       "0          0          0                          0   \n",
       "1          0          0                          0   \n",
       "2          0          0                          0   \n",
       "3          1          0                          0   \n",
       "4          0          0                          0   \n",
       "\n",
       "   a_mensaje_sin_wifi_directo  a_mensaje_sin_wifi_nose  \\\n",
       "0                           1                        0   \n",
       "1                           0                        0   \n",
       "2                           0                        0   \n",
       "3                           1                        0   \n",
       "4                           1                        0   \n",
       "\n",
       "   a_mensaje_sin_wifi_nube  a_mensaje_sin_wifi_red  \\\n",
       "0                        0                       0   \n",
       "1                        1                       0   \n",
       "2                        0                       1   \n",
       "3                        0                       0   \n",
       "4                        0                       0   \n",
       "\n",
       "   a_mensaje_sin_wifi_satelite  \n",
       "0                            0  \n",
       "1                            0  \n",
       "2                            0  \n",
       "3                            0  \n",
       "4                            0  "
      ]
     },
     "execution_count": 92,
     "metadata": {},
     "output_type": "execute_result"
    }
   ],
   "source": [
    "df_binary = pd.concat([pd.get_dummies(df_yt_vs_wifi['q_yt']), \n",
    "                    pd.get_dummies(df_yt_vs_wifi['q_mensaje_sin_wifi'])], \n",
    "                   axis=1)\n",
    "df_binary.head()"
   ]
  },
  {
   "cell_type": "code",
   "execution_count": 93,
   "id": "66bc7b32",
   "metadata": {
    "scrolled": true
   },
   "outputs": [
    {
     "data": {
      "image/png": "[encoded data removed]",
      "text/plain": [
       "<Figure size 432x288 with 2 Axes>"
      ]
     },
     "metadata": {
      "needs_background": "light"
     },
     "output_type": "display_data"
    }
   ],
   "source": [
    "sns.heatmap(df_binary.corr().iloc[:6,6:], cmap='RdBu_r', vmax=1, vmin=-1);"
   ]
  },
  {
   "cell_type": "code",
   "execution_count": null,
   "id": "1b4a1c99",
   "metadata": {},
   "outputs": [],
   "source": []
  },
  {
   "cell_type": "code",
   "execution_count": 106,
   "id": "8b40532b",
   "metadata": {},
   "outputs": [
    {
     "data": {
      "text/html": [
       "<div>\n",
       "<style scoped>\n",
       "    .dataframe tbody tr th:only-of-type {\n",
       "        vertical-align: middle;\n",
       "    }\n",
       "\n",
       "    .dataframe tbody tr th {\n",
       "        vertical-align: top;\n",
       "    }\n",
       "\n",
       "    .dataframe thead th {\n",
       "        text-align: right;\n",
       "    }\n",
       "</style>\n",
       "<table border=\"1\" class=\"dataframe\">\n",
       "  <thead>\n",
       "    <tr style=\"text-align: right;\">\n",
       "      <th>a_mensaje_sin_wifi_directo</th>\n",
       "      <th>0</th>\n",
       "      <th>1</th>\n",
       "    </tr>\n",
       "    <tr>\n",
       "      <th>a_yt_1compu</th>\n",
       "      <th></th>\n",
       "      <th></th>\n",
       "    </tr>\n",
       "  </thead>\n",
       "  <tbody>\n",
       "    <tr>\n",
       "      <th>0</th>\n",
       "      <td>118</td>\n",
       "      <td>13</td>\n",
       "    </tr>\n",
       "    <tr>\n",
       "      <th>1</th>\n",
       "      <td>8</td>\n",
       "      <td>5</td>\n",
       "    </tr>\n",
       "  </tbody>\n",
       "</table>\n",
       "</div>"
      ],
      "text/plain": [
       "a_mensaje_sin_wifi_directo    0   1\n",
       "a_yt_1compu                        \n",
       "0                           118  13\n",
       "1                             8   5"
      ]
     },
     "execution_count": 106,
     "metadata": {},
     "output_type": "execute_result"
    }
   ],
   "source": [
    "cross_tab_result = pd.crosstab(index=df_binary['a_yt_1compu'], columns=df_binary['a_mensaje_sin_wifi_directo'])\n",
    "cross_tab_result"
   ]
  },
  {
   "cell_type": "code",
   "execution_count": 108,
   "id": "a86c869a",
   "metadata": {},
   "outputs": [],
   "source": [
    "from scipy.stats import chi2_contingency\n",
    "\n",
    "# chi2 : float\n",
    "#     The test statistic.\n",
    "# p : float\n",
    "#     The p-value of the test\n",
    "# dof : int\n",
    "#     Degrees of freedom\n",
    "# expected : ndarray, same shape as `observed`\n",
    "#     The expected frequencies, based on the marginal sums of the table.\n",
    "\n",
    "chi2, p_value, dof, expected = chi2_contingency(cross_tab_result)"
   ]
  },
  {
   "cell_type": "code",
   "execution_count": 109,
   "id": "996c950b",
   "metadata": {},
   "outputs": [
    {
     "data": {
      "text/plain": [
       "array([[114.625,  16.375],\n",
       "       [ 11.375,   1.625]])"
      ]
     },
     "execution_count": 109,
     "metadata": {},
     "output_type": "execute_result"
    }
   ],
   "source": [
    "expected"
   ]
  },
  {
   "cell_type": "code",
   "execution_count": 102,
   "id": "c8051fc8",
   "metadata": {},
   "outputs": [
    {
     "name": "stdout",
     "output_type": "stream",
     "text": [
      "chi square result: 0.01 (chi2: 6.39)\n"
     ]
    }
   ],
   "source": [
    "print(f\"chi square result: {p_value:.2f} (chi2: {chi2:.2f})\")"
   ]
  },
  {
   "cell_type": "code",
   "execution_count": null,
   "id": "de9a4523",
   "metadata": {},
   "outputs": [],
   "source": []
  },
  {
   "cell_type": "code",
   "execution_count": 116,
   "id": "7877ca75",
   "metadata": {},
   "outputs": [
    {
     "data": {
      "text/html": [
       "<div>\n",
       "<style scoped>\n",
       "    .dataframe tbody tr th:only-of-type {\n",
       "        vertical-align: middle;\n",
       "    }\n",
       "\n",
       "    .dataframe tbody tr th {\n",
       "        vertical-align: top;\n",
       "    }\n",
       "\n",
       "    .dataframe thead th {\n",
       "        text-align: right;\n",
       "    }\n",
       "</style>\n",
       "<table border=\"1\" class=\"dataframe\">\n",
       "  <thead>\n",
       "    <tr style=\"text-align: right;\">\n",
       "      <th>a_mensaje_sin_wifi_directo</th>\n",
       "      <th>0</th>\n",
       "      <th>1</th>\n",
       "    </tr>\n",
       "    <tr>\n",
       "      <th>a_yt_nube</th>\n",
       "      <th></th>\n",
       "      <th></th>\n",
       "    </tr>\n",
       "  </thead>\n",
       "  <tbody>\n",
       "    <tr>\n",
       "      <th>0</th>\n",
       "      <td>69</td>\n",
       "      <td>16</td>\n",
       "    </tr>\n",
       "    <tr>\n",
       "      <th>1</th>\n",
       "      <td>57</td>\n",
       "      <td>2</td>\n",
       "    </tr>\n",
       "  </tbody>\n",
       "</table>\n",
       "</div>"
      ],
      "text/plain": [
       "a_mensaje_sin_wifi_directo   0   1\n",
       "a_yt_nube                         \n",
       "0                           69  16\n",
       "1                           57   2"
      ]
     },
     "execution_count": 116,
     "metadata": {},
     "output_type": "execute_result"
    }
   ],
   "source": [
    "cross_tab_result = pd.crosstab(index=df_binary['a_yt_nube'], columns=df_binary['a_mensaje_sin_wifi_directo'])\n",
    "cross_tab_result"
   ]
  },
  {
   "cell_type": "code",
   "execution_count": 117,
   "id": "52a4f132",
   "metadata": {},
   "outputs": [
    {
     "name": "stdout",
     "output_type": "stream",
     "text": [
      "chi square result: 0.01 (chi2: 6.24)\n"
     ]
    }
   ],
   "source": [
    "chi2, p_value, dof, expected = chi2_contingency(cross_tab_result)\n",
    "print(f\"chi square result: {p_value:.2f} (chi2: {chi2:.2f})\")"
   ]
  },
  {
   "cell_type": "code",
   "execution_count": 118,
   "id": "c0cd0e87",
   "metadata": {},
   "outputs": [
    {
     "data": {
      "text/plain": [
       "array([[74.375, 10.625],\n",
       "       [51.625,  7.375]])"
      ]
     },
     "execution_count": 118,
     "metadata": {},
     "output_type": "execute_result"
    }
   ],
   "source": [
    "expected"
   ]
  },
  {
   "cell_type": "code",
   "execution_count": null,
   "id": "6e6af006",
   "metadata": {},
   "outputs": [],
   "source": []
  },
  {
   "cell_type": "code",
   "execution_count": 111,
   "id": "7f8f08ca",
   "metadata": {},
   "outputs": [
    {
     "data": {
      "text/html": [
       "<div>\n",
       "<style scoped>\n",
       "    .dataframe tbody tr th:only-of-type {\n",
       "        vertical-align: middle;\n",
       "    }\n",
       "\n",
       "    .dataframe tbody tr th {\n",
       "        vertical-align: top;\n",
       "    }\n",
       "\n",
       "    .dataframe thead th {\n",
       "        text-align: right;\n",
       "    }\n",
       "</style>\n",
       "<table border=\"1\" class=\"dataframe\">\n",
       "  <thead>\n",
       "    <tr style=\"text-align: right;\">\n",
       "      <th>a_mensaje_sin_wifi_directo</th>\n",
       "      <th>0</th>\n",
       "      <th>1</th>\n",
       "    </tr>\n",
       "    <tr>\n",
       "      <th>a_yt_muchisimascompu</th>\n",
       "      <th></th>\n",
       "      <th></th>\n",
       "    </tr>\n",
       "  </thead>\n",
       "  <tbody>\n",
       "    <tr>\n",
       "      <th>0</th>\n",
       "      <td>111</td>\n",
       "      <td>16</td>\n",
       "    </tr>\n",
       "    <tr>\n",
       "      <th>1</th>\n",
       "      <td>15</td>\n",
       "      <td>2</td>\n",
       "    </tr>\n",
       "  </tbody>\n",
       "</table>\n",
       "</div>"
      ],
      "text/plain": [
       "a_mensaje_sin_wifi_directo    0   1\n",
       "a_yt_muchisimascompu               \n",
       "0                           111  16\n",
       "1                            15   2"
      ]
     },
     "execution_count": 111,
     "metadata": {},
     "output_type": "execute_result"
    }
   ],
   "source": [
    "cross_tab_result = pd.crosstab(index=df_binary['a_yt_muchisimascompu'], \n",
    "                               columns=df_binary['a_mensaje_sin_wifi_directo'])\n",
    "cross_tab_result"
   ]
  },
  {
   "cell_type": "code",
   "execution_count": 112,
   "id": "0437bb59",
   "metadata": {},
   "outputs": [
    {
     "name": "stdout",
     "output_type": "stream",
     "text": [
      "chi square result: 1.00 (chi2: 0.00)\n"
     ]
    }
   ],
   "source": [
    "chi2, p_value, dof, expected = chi2_contingency(cross_tab_result)\n",
    "print(f\"chi square result: {p_value:.2f} (chi2: {chi2:.2f})\")"
   ]
  },
  {
   "cell_type": "code",
   "execution_count": 113,
   "id": "5b06229c",
   "metadata": {},
   "outputs": [
    {
     "data": {
      "text/plain": [
       "array([[111.125,  15.875],\n",
       "       [ 14.875,   2.125]])"
      ]
     },
     "execution_count": 113,
     "metadata": {},
     "output_type": "execute_result"
    }
   ],
   "source": [
    "expected"
   ]
  },
  {
   "cell_type": "code",
   "execution_count": null,
   "id": "e5b96f30",
   "metadata": {},
   "outputs": [],
   "source": []
  }
 ],
 "metadata": {
  "kernelspec": {
   "display_name": "Python 3",
   "language": "python",
   "name": "python3"
  },
  "language_info": {
   "codemirror_mode": {
    "name": "ipython",
    "version": 3
   },
   "file_extension": ".py",
   "mimetype": "text/x-python",
   "name": "python",
   "nbconvert_exporter": "python",
   "pygments_lexer": "ipython3",
   "version": "3.7.10"
  }
 },
 "nbformat": 4,
 "nbformat_minor": 5
}
